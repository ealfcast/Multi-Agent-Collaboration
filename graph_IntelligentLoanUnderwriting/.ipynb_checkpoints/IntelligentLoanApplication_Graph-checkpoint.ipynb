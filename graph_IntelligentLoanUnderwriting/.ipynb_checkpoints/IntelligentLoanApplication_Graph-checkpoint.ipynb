{
 "cells": [
  {
   "cell_type": "markdown",
   "id": "45c3fc01-9545-48a9-8800-cb430d9c182c",
   "metadata": {},
   "source": [
    "# Building an Intelligent Loan application processing using Multi-Agent Systems with Strands Agents, an open source AI agents SDK\n",
    "\n",
    "## Introduction\n",
    "\n",
    "In this lab, we are building an Intellign Loan Applicaton Processing using multi-agent systems using the Phoenix SDK's Agent Graph tool. Throughout this notebook, we'll explore how to create, manage, and leverage networks of AI agents to solve complex problems through collaboration.\n",
    "\n",
    "By the end of this notebook, you'll understand about:\n",
    "-  multi-agent hierarchical topologies\n",
    "- Send messages between agents\n",
    "- Monitor agent interactions\n",
    "- Design specialized agent networks for different use cases\n",
    "\n",
    "Let's begin our exploration of collaborative AI systems!\n",
    "\n"
   ]
  },
  {
   "cell_type": "markdown",
   "id": "5d069f7b-03a0-44cc-ac1e-b2660036d7a5",
   "metadata": {},
   "source": [
    "## Prerequisites\n",
    "\n",
    "- Python 3.10+\n",
    "- AWS account\n",
    "- Anthropic Claude 3.7 enabled on Amazon Bedrock\n",
    "- IAM role with permissions to use Amazon Bedrock \n",
    "- Basic understanding of AI agents and prompt engineering\n",
    "\n"
   ]
  },
  {
   "cell_type": "markdown",
   "id": "d4a6e3a1-8acd-48d4-9fce-f54a462d51d6",
   "metadata": {},
   "source": [
    "### Brief Overview of Multi-Agent Systems\n",
    "Multi-agent systems consist of multiple autonomous agents collaborating to solve complex problems through task distribution, specialization, and parallel processing.\n",
    "\n",
    "Imagine a multi-agent system like a group of peers collaborating on a project. Each member of the team has an assigned role to help distribute the work of the project, and that work is usually catered to the expertise of that team member. Similarly, in a multi-agent system, each agent is a subject matter expert of some topic and is given relevant tools and resources. When given a project, a coordinator agent can split the work among the group of subject-matter expert agents to distribute and reduce the complexity of each unit of work. Once completed, the work of each agent can be combined through a coordinator agent to complete the project.\n",
    "\n",
    "Phoenix SDK provides built-in support for creating these systems through the agent_graph tool, allowing developers to move beyond single-agent limitations.\n",
    "\n",
    "\n"
   ]
  },
  {
   "cell_type": "markdown",
   "id": "f0507018-a539-4de4-b340-59628cbc6434",
   "metadata": {},
   "source": [
    "### Key Capabilities\n",
    "**Explicit Network Topologies:** Define precise communication structures\n",
    "\n",
    "**Specialized Agent Roles:** Create purpose-built agents with tailored system prompts\n",
    "\n",
    "**Controlled Information Flow:** Manage how information passes between agents\n",
    "\n",
    "**Parallel Processing:** Execute agent operations concurrently\n",
    "\n",
    "**Persistent State:** Maintain long-running agent networks across multiple interactions\n",
    "\n",
    "**Rich Status Monitoring:** View detailed information about graph structure and message queues\n",
    "\n"
   ]
  },
  {
   "cell_type": "markdown",
   "id": "b61c9eeb-ac89-4bac-8060-26ad57e205b8",
   "metadata": {},
   "source": [
    "## Core Components and Topology Patterns¶\n",
    "Agent Graph consists of nodes (agents) connected by edges (communication channels) arranged in specific topologies:\n",
    "\n",
    "**Nodes (Agents):** Individual AI agents with unique identity and specialized system prompt. Each node:\n",
    "\n",
    "1. Processes messages independently in its own thread\n",
    "2. Maintains a private message queue for incoming tasks\n",
    "3. Has rate limiting to prevent overloading\n",
    "4. Broadcasts responses to all connected neighbors\n",
    "\n",
    "**Edges (Connections):** Directed communication channels between agents that define explicit pathways for information flow. They can be:\n",
    "\n",
    "1. One-way (information flows in one direction)\n",
    "2. Bidirectional (automatically created in mesh topologies)\n",
    "3. Explicitly defined to control information routing\n",
    "\n",
    "                                                                                                 \n"
   ]
  },
  {
   "cell_type": "markdown",
   "id": "8d741f56-709b-480a-b3bd-2ad004ab7f59",
   "metadata": {},
   "source": [
    "## Loan Underwriting Process Overview\n",
    "\n",
    "The loan underwriting process involves systematic evaluation of loan applications through multiple tasks on different domains:\n",
    "\n",
    "1. **Financial Analysis**\n",
    "    2. ***Application Intake & Validation***\n",
    "    3. ***Credit Assessment***\n",
    "    4. ***Income & Employment Verification***\n",
    "    5. ***Asset Verification***\n",
    "    6. ***Property Appraisal*** (if applicable)\n",
    "7. **Risk Analysis**\n",
    "    8. ***Risk Assessment***\n",
    "    9. ***Fraud and misrepresenation***\n",
    "10. **Compliance & Regulatory Review**\n",
    "11. **Final Decision & Documentation**\n"
   ]
  },
  {
   "cell_type": "markdown",
   "id": "42ae8725-21df-497e-b56a-f8541e720eb4",
   "metadata": {},
   "source": [
    "# Principles for building Multi-Agents\n",
    "\n",
    "## Use Case Qualification\n",
    "### Principle #1: Do not force-fit workloads  into a collaboration pattern.\n",
    "Identify business decision frictions and then design workflows around the proper pattern.\n",
    "\n",
    "### Principle #2: Desing for enterprise productivity (not just individual task augmentation)\n",
    "Use Agentic systems when decision and automation are needed \n",
    "\n",
    "## Patterns Development\n",
    "### Principle #3: Acknowledge tradeoffs with agency, control, and reliability\n",
    "\n",
    "\n",
    "### Principle #4: Share Context\n",
    "For effective interaction, provide the full context and complete history of agent interactions, rather than isolating individual messages. \n",
    "\n",
    "### Principle #5: Recognize Action-Decision Relationships\n",
    "Every action reflects an underlying decision. When multiple actions stem from contradictory decisions, negative outcomes are likely to occur. Avoid semantic ambiguity and conflicting actions"
   ]
  },
  {
   "cell_type": "markdown",
   "id": "eb73399f-a207-418f-972e-383210f1fa64",
   "metadata": {},
   "source": [
    "## Topology Patterns:\n",
    "\n"
   ]
  },
  {
   "cell_type": "markdown",
   "id": "4a8e51b1-4337-490e-b54a-a4438dbedc0c",
   "metadata": {},
   "source": [
    "#### Hierarchical Topology\n",
    "Tree structure with parent-child relationships, ideal for layered processing and clear reporting lines.\n",
    "\n",
    "<p align=\"center\">\n",
    "    <img src=\"./images/IntellingentLoanTopology.png\">\n",
    "</p>\n",
    "\n"
   ]
  },
  {
   "cell_type": "markdown",
   "id": "d79a5a53-a76b-46d3-b9ef-d9929467ed94",
   "metadata": {},
   "source": [
    "### Supported Actions\n",
    "The agent_graph tool supports five primary actions:\n",
    "\n",
    "1. create: Build a new agent network with specified topology\n",
    "2. message: Send information to a specific agent in the network\n",
    "3. status: Check the current state of an agent network\n",
    "4. list: View all active agent networks\n",
    "5. stop: Terminate an agent network when it's no longer needed"
   ]
  },
  {
   "cell_type": "markdown",
   "id": "929ae7e4-e824-4d19-af6a-680836ff168a",
   "metadata": {},
   "source": [
    "## Setup and Installation\n",
    "\n",
    "First, let's make sure we have the Phoenix SDK installed with the agent_graph tool.\n",
    "\n"
   ]
  },
  {
   "cell_type": "code",
   "execution_count": 7,
   "id": "b916cdf3-428c-4574-8cfa-5b1903f4a952",
   "metadata": {},
   "outputs": [
    {
     "name": "stdout",
     "output_type": "stream",
     "text": [
      "Requirement already satisfied: strands-agents in /opt/conda/lib/python3.12/site-packages (from -r requirements.txt (line 1)) (1.1.0)\n",
      "Requirement already satisfied: strands-agents-tools in /opt/conda/lib/python3.12/site-packages (from -r requirements.txt (line 2)) (0.2.2)\n",
      "Requirement already satisfied: boto3<2.0.0,>=1.26.0 in /opt/conda/lib/python3.12/site-packages (from strands-agents->-r requirements.txt (line 1)) (1.39.14)\n",
      "Requirement already satisfied: botocore<2.0.0,>=1.29.0 in /opt/conda/lib/python3.12/site-packages (from strands-agents->-r requirements.txt (line 1)) (1.39.14)\n",
      "Requirement already satisfied: docstring-parser<1.0,>=0.15 in /opt/conda/lib/python3.12/site-packages (from strands-agents->-r requirements.txt (line 1)) (0.17.0)\n",
      "Requirement already satisfied: mcp<2.0.0,>=1.8.0 in /opt/conda/lib/python3.12/site-packages (from strands-agents->-r requirements.txt (line 1)) (1.12.2)\n",
      "Requirement already satisfied: opentelemetry-api<2.0.0,>=1.30.0 in /opt/conda/lib/python3.12/site-packages (from strands-agents->-r requirements.txt (line 1)) (1.35.0)\n",
      "Requirement already satisfied: opentelemetry-instrumentation-threading<1.00b0,>=0.51b0 in /opt/conda/lib/python3.12/site-packages (from strands-agents->-r requirements.txt (line 1)) (0.56b0)\n",
      "Requirement already satisfied: opentelemetry-sdk<2.0.0,>=1.30.0 in /opt/conda/lib/python3.12/site-packages (from strands-agents->-r requirements.txt (line 1)) (1.35.0)\n",
      "Requirement already satisfied: pydantic<3.0.0,>=2.0.0 in /opt/conda/lib/python3.12/site-packages (from strands-agents->-r requirements.txt (line 1)) (2.11.4)\n",
      "Requirement already satisfied: typing-extensions<5.0.0,>=4.13.2 in /opt/conda/lib/python3.12/site-packages (from strands-agents->-r requirements.txt (line 1)) (4.13.2)\n",
      "Requirement already satisfied: watchdog<7.0.0,>=6.0.0 in /opt/conda/lib/python3.12/site-packages (from strands-agents->-r requirements.txt (line 1)) (6.0.0)\n",
      "Requirement already satisfied: aws-requests-auth<0.5.0,>=0.4.3 in /opt/conda/lib/python3.12/site-packages (from strands-agents-tools->-r requirements.txt (line 2)) (0.4.3)\n",
      "Requirement already satisfied: dill<0.5.0,>=0.4.0 in /opt/conda/lib/python3.12/site-packages (from strands-agents-tools->-r requirements.txt (line 2)) (0.4.0)\n",
      "Requirement already satisfied: markdownify<2.0.0,>=1.0.0 in /opt/conda/lib/python3.12/site-packages (from strands-agents-tools->-r requirements.txt (line 2)) (1.1.0)\n",
      "Requirement already satisfied: pillow<12.0.0,>=11.2.1 in /opt/conda/lib/python3.12/site-packages (from strands-agents-tools->-r requirements.txt (line 2)) (11.2.1)\n",
      "Requirement already satisfied: prompt-toolkit<4.0.0,>=3.0.51 in /opt/conda/lib/python3.12/site-packages (from strands-agents-tools->-r requirements.txt (line 2)) (3.0.51)\n",
      "Requirement already satisfied: pyjwt<3.0.0,>=2.10.1 in /opt/conda/lib/python3.12/site-packages (from strands-agents-tools->-r requirements.txt (line 2)) (2.10.1)\n",
      "Requirement already satisfied: readabilipy<1.0.0,>=0.2.0 in /opt/conda/lib/python3.12/site-packages (from strands-agents-tools->-r requirements.txt (line 2)) (0.3.0)\n",
      "Requirement already satisfied: rich<15.0.0,>=14.0.0 in /opt/conda/lib/python3.12/site-packages (from strands-agents-tools->-r requirements.txt (line 2)) (14.0.0)\n",
      "Requirement already satisfied: slack-bolt<2.0.0,>=1.23.0 in /opt/conda/lib/python3.12/site-packages (from strands-agents-tools->-r requirements.txt (line 2)) (1.23.0)\n",
      "Requirement already satisfied: sympy<2.0.0,>=1.12.0 in /opt/conda/lib/python3.12/site-packages (from strands-agents-tools->-r requirements.txt (line 2)) (1.14.0)\n",
      "Requirement already satisfied: tenacity<10.0.0,>=9.1.2 in /opt/conda/lib/python3.12/site-packages (from strands-agents-tools->-r requirements.txt (line 2)) (9.1.2)\n",
      "Requirement already satisfied: requests>=0.14.0 in /opt/conda/lib/python3.12/site-packages (from aws-requests-auth<0.5.0,>=0.4.3->strands-agents-tools->-r requirements.txt (line 2)) (2.32.3)\n",
      "Requirement already satisfied: jmespath<2.0.0,>=0.7.1 in /opt/conda/lib/python3.12/site-packages (from boto3<2.0.0,>=1.26.0->strands-agents->-r requirements.txt (line 1)) (1.0.1)\n",
      "Requirement already satisfied: s3transfer<0.14.0,>=0.13.0 in /opt/conda/lib/python3.12/site-packages (from boto3<2.0.0,>=1.26.0->strands-agents->-r requirements.txt (line 1)) (0.13.1)\n",
      "Requirement already satisfied: python-dateutil<3.0.0,>=2.1 in /opt/conda/lib/python3.12/site-packages (from botocore<2.0.0,>=1.29.0->strands-agents->-r requirements.txt (line 1)) (2.9.0.post0)\n",
      "Requirement already satisfied: urllib3!=2.2.0,<3,>=1.25.4 in /opt/conda/lib/python3.12/site-packages (from botocore<2.0.0,>=1.29.0->strands-agents->-r requirements.txt (line 1)) (2.4.0)\n",
      "Requirement already satisfied: beautifulsoup4<5,>=4.9 in /opt/conda/lib/python3.12/site-packages (from markdownify<2.0.0,>=1.0.0->strands-agents-tools->-r requirements.txt (line 2)) (4.13.4)\n",
      "Requirement already satisfied: six<2,>=1.15 in /opt/conda/lib/python3.12/site-packages (from markdownify<2.0.0,>=1.0.0->strands-agents-tools->-r requirements.txt (line 2)) (1.17.0)\n",
      "Requirement already satisfied: anyio>=4.5 in /opt/conda/lib/python3.12/site-packages (from mcp<2.0.0,>=1.8.0->strands-agents->-r requirements.txt (line 1)) (4.9.0)\n",
      "Requirement already satisfied: httpx-sse>=0.4 in /opt/conda/lib/python3.12/site-packages (from mcp<2.0.0,>=1.8.0->strands-agents->-r requirements.txt (line 1)) (0.4.0)\n",
      "Requirement already satisfied: httpx>=0.27 in /opt/conda/lib/python3.12/site-packages (from mcp<2.0.0,>=1.8.0->strands-agents->-r requirements.txt (line 1)) (0.28.1)\n",
      "Requirement already satisfied: jsonschema>=4.20.0 in /opt/conda/lib/python3.12/site-packages (from mcp<2.0.0,>=1.8.0->strands-agents->-r requirements.txt (line 1)) (4.23.0)\n",
      "Requirement already satisfied: pydantic-settings>=2.5.2 in /opt/conda/lib/python3.12/site-packages (from mcp<2.0.0,>=1.8.0->strands-agents->-r requirements.txt (line 1)) (2.9.1)\n",
      "Requirement already satisfied: python-multipart>=0.0.9 in /opt/conda/lib/python3.12/site-packages (from mcp<2.0.0,>=1.8.0->strands-agents->-r requirements.txt (line 1)) (0.0.20)\n",
      "Requirement already satisfied: sse-starlette>=1.6.1 in /opt/conda/lib/python3.12/site-packages (from mcp<2.0.0,>=1.8.0->strands-agents->-r requirements.txt (line 1)) (3.0.2)\n",
      "Requirement already satisfied: starlette>=0.27 in /opt/conda/lib/python3.12/site-packages (from mcp<2.0.0,>=1.8.0->strands-agents->-r requirements.txt (line 1)) (0.46.2)\n",
      "Requirement already satisfied: uvicorn>=0.23.1 in /opt/conda/lib/python3.12/site-packages (from mcp<2.0.0,>=1.8.0->strands-agents->-r requirements.txt (line 1)) (0.34.2)\n",
      "Requirement already satisfied: importlib-metadata<8.8.0,>=6.0 in /opt/conda/lib/python3.12/site-packages (from opentelemetry-api<2.0.0,>=1.30.0->strands-agents->-r requirements.txt (line 1)) (6.10.0)\n",
      "Requirement already satisfied: opentelemetry-instrumentation==0.56b0 in /opt/conda/lib/python3.12/site-packages (from opentelemetry-instrumentation-threading<1.00b0,>=0.51b0->strands-agents->-r requirements.txt (line 1)) (0.56b0)\n",
      "Requirement already satisfied: wrapt<2.0.0,>=1.0.0 in /opt/conda/lib/python3.12/site-packages (from opentelemetry-instrumentation-threading<1.00b0,>=0.51b0->strands-agents->-r requirements.txt (line 1)) (1.17.2)\n",
      "Requirement already satisfied: opentelemetry-semantic-conventions==0.56b0 in /opt/conda/lib/python3.12/site-packages (from opentelemetry-instrumentation==0.56b0->opentelemetry-instrumentation-threading<1.00b0,>=0.51b0->strands-agents->-r requirements.txt (line 1)) (0.56b0)\n",
      "Requirement already satisfied: packaging>=18.0 in /opt/conda/lib/python3.12/site-packages (from opentelemetry-instrumentation==0.56b0->opentelemetry-instrumentation-threading<1.00b0,>=0.51b0->strands-agents->-r requirements.txt (line 1)) (24.2)\n",
      "Requirement already satisfied: wcwidth in /opt/conda/lib/python3.12/site-packages (from prompt-toolkit<4.0.0,>=3.0.51->strands-agents-tools->-r requirements.txt (line 2)) (0.2.13)\n",
      "Requirement already satisfied: annotated-types>=0.6.0 in /opt/conda/lib/python3.12/site-packages (from pydantic<3.0.0,>=2.0.0->strands-agents->-r requirements.txt (line 1)) (0.7.0)\n",
      "Requirement already satisfied: pydantic-core==2.33.2 in /opt/conda/lib/python3.12/site-packages (from pydantic<3.0.0,>=2.0.0->strands-agents->-r requirements.txt (line 1)) (2.33.2)\n",
      "Requirement already satisfied: typing-inspection>=0.4.0 in /opt/conda/lib/python3.12/site-packages (from pydantic<3.0.0,>=2.0.0->strands-agents->-r requirements.txt (line 1)) (0.4.0)\n",
      "Requirement already satisfied: html5lib in /opt/conda/lib/python3.12/site-packages (from readabilipy<1.0.0,>=0.2.0->strands-agents-tools->-r requirements.txt (line 2)) (1.1)\n",
      "Requirement already satisfied: lxml in /opt/conda/lib/python3.12/site-packages (from readabilipy<1.0.0,>=0.2.0->strands-agents-tools->-r requirements.txt (line 2)) (5.4.0)\n",
      "Requirement already satisfied: regex in /opt/conda/lib/python3.12/site-packages (from readabilipy<1.0.0,>=0.2.0->strands-agents-tools->-r requirements.txt (line 2)) (2024.11.6)\n",
      "Requirement already satisfied: markdown-it-py>=2.2.0 in /opt/conda/lib/python3.12/site-packages (from rich<15.0.0,>=14.0.0->strands-agents-tools->-r requirements.txt (line 2)) (3.0.0)\n",
      "Requirement already satisfied: pygments<3.0.0,>=2.13.0 in /opt/conda/lib/python3.12/site-packages (from rich<15.0.0,>=14.0.0->strands-agents-tools->-r requirements.txt (line 2)) (2.19.1)\n",
      "Requirement already satisfied: slack_sdk<4,>=3.35.0 in /opt/conda/lib/python3.12/site-packages (from slack-bolt<2.0.0,>=1.23.0->strands-agents-tools->-r requirements.txt (line 2)) (3.36.0)\n",
      "Requirement already satisfied: mpmath<1.4,>=1.1.0 in /opt/conda/lib/python3.12/site-packages (from sympy<2.0.0,>=1.12.0->strands-agents-tools->-r requirements.txt (line 2)) (1.3.0)\n",
      "Requirement already satisfied: idna>=2.8 in /opt/conda/lib/python3.12/site-packages (from anyio>=4.5->mcp<2.0.0,>=1.8.0->strands-agents->-r requirements.txt (line 1)) (3.10)\n",
      "Requirement already satisfied: sniffio>=1.1 in /opt/conda/lib/python3.12/site-packages (from anyio>=4.5->mcp<2.0.0,>=1.8.0->strands-agents->-r requirements.txt (line 1)) (1.3.1)\n",
      "Requirement already satisfied: soupsieve>1.2 in /opt/conda/lib/python3.12/site-packages (from beautifulsoup4<5,>=4.9->markdownify<2.0.0,>=1.0.0->strands-agents-tools->-r requirements.txt (line 2)) (2.7)\n",
      "Requirement already satisfied: certifi in /opt/conda/lib/python3.12/site-packages (from httpx>=0.27->mcp<2.0.0,>=1.8.0->strands-agents->-r requirements.txt (line 1)) (2025.4.26)\n",
      "Requirement already satisfied: httpcore==1.* in /opt/conda/lib/python3.12/site-packages (from httpx>=0.27->mcp<2.0.0,>=1.8.0->strands-agents->-r requirements.txt (line 1)) (1.0.9)\n",
      "Requirement already satisfied: h11>=0.16 in /opt/conda/lib/python3.12/site-packages (from httpcore==1.*->httpx>=0.27->mcp<2.0.0,>=1.8.0->strands-agents->-r requirements.txt (line 1)) (0.16.0)\n",
      "Requirement already satisfied: zipp>=0.5 in /opt/conda/lib/python3.12/site-packages (from importlib-metadata<8.8.0,>=6.0->opentelemetry-api<2.0.0,>=1.30.0->strands-agents->-r requirements.txt (line 1)) (3.21.0)\n",
      "Requirement already satisfied: attrs>=22.2.0 in /opt/conda/lib/python3.12/site-packages (from jsonschema>=4.20.0->mcp<2.0.0,>=1.8.0->strands-agents->-r requirements.txt (line 1)) (23.2.0)\n",
      "Requirement already satisfied: jsonschema-specifications>=2023.03.6 in /opt/conda/lib/python3.12/site-packages (from jsonschema>=4.20.0->mcp<2.0.0,>=1.8.0->strands-agents->-r requirements.txt (line 1)) (2025.4.1)\n",
      "Requirement already satisfied: referencing>=0.28.4 in /opt/conda/lib/python3.12/site-packages (from jsonschema>=4.20.0->mcp<2.0.0,>=1.8.0->strands-agents->-r requirements.txt (line 1)) (0.36.2)\n",
      "Requirement already satisfied: rpds-py>=0.7.1 in /opt/conda/lib/python3.12/site-packages (from jsonschema>=4.20.0->mcp<2.0.0,>=1.8.0->strands-agents->-r requirements.txt (line 1)) (0.25.0)\n",
      "Requirement already satisfied: mdurl~=0.1 in /opt/conda/lib/python3.12/site-packages (from markdown-it-py>=2.2.0->rich<15.0.0,>=14.0.0->strands-agents-tools->-r requirements.txt (line 2)) (0.1.2)\n",
      "Requirement already satisfied: python-dotenv>=0.21.0 in /opt/conda/lib/python3.12/site-packages (from pydantic-settings>=2.5.2->mcp<2.0.0,>=1.8.0->strands-agents->-r requirements.txt (line 1)) (1.1.0)\n",
      "Requirement already satisfied: charset_normalizer<4,>=2 in /opt/conda/lib/python3.12/site-packages (from requests>=0.14.0->aws-requests-auth<0.5.0,>=0.4.3->strands-agents-tools->-r requirements.txt (line 2)) (3.4.2)\n",
      "Requirement already satisfied: click>=7.0 in /opt/conda/lib/python3.12/site-packages (from uvicorn>=0.23.1->mcp<2.0.0,>=1.8.0->strands-agents->-r requirements.txt (line 1)) (8.2.1)\n",
      "Requirement already satisfied: webencodings in /opt/conda/lib/python3.12/site-packages (from html5lib->readabilipy<1.0.0,>=0.2.0->strands-agents-tools->-r requirements.txt (line 2)) (0.5.1)\n",
      "Collecting PyPDF2\n",
      "  Using cached pypdf2-3.0.1-py3-none-any.whl.metadata (6.8 kB)\n",
      "Using cached pypdf2-3.0.1-py3-none-any.whl (232 kB)\n",
      "Installing collected packages: PyPDF2\n",
      "Successfully installed PyPDF2-3.0.1\n"
     ]
    }
   ],
   "source": [
    "!pip install -r requirements.txt\n",
    "!pip install PyPDF2"
   ]
  },
  {
   "cell_type": "code",
   "execution_count": 8,
   "id": "5058e219-8fb8-4503-8bbf-9e69dd06cf62",
   "metadata": {},
   "outputs": [],
   "source": [
    "# Now let's import the dependency packages import boto3\n",
    "from strands import Agent\n",
    "from strands_tools import agent_graph\n"
   ]
  },
  {
   "cell_type": "markdown",
   "id": "f4241ec9-0fe9-41b3-a53a-9a70846a5961",
   "metadata": {},
   "source": [
    "## Importing dependency packages "
   ]
  },
  {
   "cell_type": "code",
   "execution_count": 9,
   "id": "8a96c2df-0418-48c5-adcd-7224d3ebddf1",
   "metadata": {},
   "outputs": [],
   "source": [
    "# Now let's import the dependency packages import boto3\n",
    "import boto3\n",
    "import time\n",
    "import yaml\n",
    "import os\n",
    "import logging\n",
    "import base64\n",
    "import json\n",
    "from botocore.config import Config\n",
    "from typing import List, Dict\n",
    "import PyPDF2\n",
    "\n"
   ]
  },
  {
   "cell_type": "markdown",
   "id": "04a82ba0-b198-4c12-867c-70b5f928e007",
   "metadata": {},
   "source": [
    "## Understanding Agent Graph Basics\n",
    "\n",
    "Agent Graph allows you to create networks of specialized AI agents that can communicate with each other to solve complex problems. Let's understand the core concepts:\n",
    "\n",
    "- **Graph**: A collection of agents organized in a specific topology\n",
    "- **Nodes**: Individual agents with specific roles and system prompts\n",
    "- **Edges**: Communication paths between agents\n",
    "- **Topologies**: Different network structures (star, mesh, hierarchical)\n",
    "\n"
   ]
  },
  {
   "cell_type": "markdown",
   "id": "d62d4500-a6c7-4455-9422-e1c98d322ac9",
   "metadata": {},
   "source": [
    "## Loan Underwriting Workbench"
   ]
  },
  {
   "cell_type": "markdown",
   "id": "c6cd8132-e15e-4a8d-b39f-973c5d6a129c",
   "metadata": {},
   "source": [
    "## Building Different Network Topologies\n",
    "\n",
    "Let's explore different network topologies for various use cases:\n"
   ]
  },
  {
   "cell_type": "markdown",
   "id": "a7af1c02-e7b4-4c20-a329-1cd17bf2a0d3",
   "metadata": {},
   "source": [
    "###  Hierarchical  - Workbench team"
   ]
  },
  {
   "cell_type": "code",
   "execution_count": 10,
   "id": "8f5271e4-2710-4dbd-bc6c-7cf05cef6b2b",
   "metadata": {},
   "outputs": [],
   "source": [
    "def read_pdf(file_path):\n",
    "    \"\"\"\n",
    "    Read and extract text from a PDF file.\n",
    "    \n",
    "    Args:\n",
    "        file_path (str): Path to the PDF file\n",
    "        \n",
    "    Returns:\n",
    "        str: Extracted text from the PDF\n",
    "    \"\"\"\n",
    "    try:\n",
    "        # Open the PDF file in binary read mode\n",
    "        with open(file_path, 'rb') as file:\n",
    "            # Create a PDF reader object\n",
    "            pdf_reader = PyPDF2.PdfReader(file)\n",
    "            \n",
    "            # Get number of pages\n",
    "            num_pages = len(pdf_reader.pages)\n",
    "            print(f\"Total pages: {num_pages}\")\n",
    "            \n",
    "            # Extract text from each page\n",
    "            text = \"\"\n",
    "            for page_num in range(num_pages):\n",
    "                page = pdf_reader.pages[page_num]\n",
    "                text += page.extract_text()\n",
    "                \n",
    "            return text\n",
    "    \n",
    "    except FileNotFoundError:\n",
    "        return \"Error: The file was not found.\"\n",
    "    except PyPDF2.errors.PdfReadError:\n",
    "        return \"Error: Invalid PDF file or the file is encrypted.\"\n",
    "    except Exception as e:\n",
    "        return f\"Error: {str(e)}\"\n"
   ]
  },
  {
   "cell_type": "code",
   "execution_count": 11,
   "id": "b9a8e9b3-0a56-4370-a9d0-d9a972c833bf",
   "metadata": {},
   "outputs": [
    {
     "name": "stdout",
     "output_type": "stream",
     "text": [
      "Total pages: 10\n",
      "Total pages: 3\n",
      "Total pages: 3\n",
      "Total pages: 3\n",
      "Total pages: 2\n",
      "Total pages: 3\n",
      "Total pages: 4\n",
      "Total pages: 4\n"
     ]
    }
   ],
   "source": [
    "# Example usage\n",
    "if __name__ == \"__main__\":\n",
    "    pdf_path = \"data/JoeDoeCreditReport.pdf\"  # Replace with your PDF file path\n",
    "    extracted_JoeDoeCreditReport = read_pdf(pdf_path)\n",
    "    \n",
    "    pdf_path = \"data/JoeDoeBankStatement.pdf\"  # Replace with your PDF file path\n",
    "    extracted_JoeDoeBankStatement = read_pdf(pdf_path)\n",
    "    \n",
    "    pdf_path = \"data/JoeDoeBankStatement_2.pdf\"  # Replace with your PDF file path\n",
    "    extracted_JoeDoeBankStatement_2 = read_pdf(pdf_path)\n",
    "    \n",
    "    pdf_path = \"data/JoeDoePayStub.pdf\"  # Replace with your PDF file path\n",
    "    extracted_JoeDoePayStub = read_pdf(pdf_path)\n",
    "\n",
    "    pdf_path = \"data/JoeDoeIDVerification.pdf\"  # Replace with your PDF file path\n",
    "    extracted_JoeDoeIDVerification = read_pdf(pdf_path)\n",
    "\n",
    "    pdf_path = \"data/JoeDoeTaxes.pdf\"  # Replace with your PDF file path\n",
    "    extracted_JoeDoeTaxes = read_pdf(pdf_path)\n",
    "\n",
    "    pdf_path = \"data/JoeDoeLoanApplication.pdf\"  # Replace with your PDF file path\n",
    "    extracted_JoeDoeLoanApplication = read_pdf(pdf_path)\n",
    "\n",
    "    pdf_path = \"data/JoeDoePropertyInfo.pdf\"  # Replace with your PDF file path\n",
    "    extracted_JoeDoePropertyInfo = read_pdf(pdf_path)\n",
    "    \n",
    "    # print(\"Extracted text:\")\n",
    "    # print(extracted_JoeDoeCreditReport[0:1000])\n",
    "    # print(extracted_JoeDoeBankStatement[0:1000])\n",
    "    # print(extracted_JoeDoePayStub[0:1000])"
   ]
  },
  {
   "cell_type": "code",
   "execution_count": 12,
   "id": "451aa15a-0a0a-4c97-a985-3b62bea750ac",
   "metadata": {},
   "outputs": [
    {
     "name": "stderr",
     "output_type": "stream",
     "text": [
      "DEPRECATION WARNING: agent_graph will be removed in the next major release. Migration path: replace agent_graph calls with graph for equivalent functionality.\n"
     ]
    },
    {
     "data": {
      "text/html": [
       "<pre style=\"white-space:pre;overflow-x:auto;line-height:normal;font-family:Menlo,'DejaVu Sans Mono',consolas,'Courier New',monospace\"></pre>\n"
      ],
      "text/plain": []
     },
     "metadata": {},
     "output_type": "display_data"
    },
    {
     "data": {
      "text/plain": [
       "{'toolUseId': 'tooluse_agent_graph_609327220',\n",
       " 'status': 'success',\n",
       " 'content': [{'text': 'Graph loan_workbench created and started'}]}"
      ]
     },
     "execution_count": 12,
     "metadata": {},
     "output_type": "execute_result"
    }
   ],
   "source": [
    "# Example: Create a Workbench team\n",
    "agent = Agent(tools=[agent_graph])\n",
    "agent.tool.agent_graph(\n",
    "    action=\"create\",\n",
    "    graph_id=\"loan_workbench\",\n",
    "    topology={\n",
    "        \"type\": \"hierarchical\",\n",
    "        \"nodes\": [\n",
    "            {\"id\": \"loan_underwriting_supervisor_agent\", \n",
    "             \"role\": \"executive\",\n",
    "             \"model_id\": \"us.anthropic.claude-3-5-sonnet-20241022-v2:0\", \n",
    "             \"system_prompt\": f\"\"\"\n",
    "                You are the Loan Underwriting Supervisor Agent responsible for orchestrating the complete loan underwriting process. Your responsibilities include:\n",
    "\n",
    "                1. Receive and validate loan applications\n",
    "                2. Coordinate with manager agents to execute underwriting tasks\n",
    "                3. Monitor progress and handle escalations\n",
    "                4. Aggregate results from all assessment domains\n",
    "                5. Make final loan approval/rejection decisions based on comprehensive analysis\n",
    "                6. Ensure compliance with lending policies and regulations\n",
    "                7. Generate final underwriting reports\n",
    "                \n",
    "                Process Flow:\n",
    "                - Start with financial analysis and application validation\n",
    "                - Then, continue with Risk and Fraud analysis.\n",
    "                - Delegate tasks to appropriate manager agents\n",
    "                - Monitor and coordinate parallel processing\n",
    "                - Collect and analyze results from all domains\n",
    "                - Apply business rules and lending policies\n",
    "                - Make final decision and generate documentation\n",
    "                - Share required information required by each task. \n",
    "                \n",
    "                Decision Criteria:\n",
    "                - Credit score thresholds\n",
    "                - Debt-to-income ratios\n",
    "                - Collateral value\n",
    "                - Risk assessment scores\n",
    "                - Regulatory compliance status\n",
    "             \"\"\"\n",
    "            },\n",
    "            {\"id\": \"financial_analysis_manager\", \n",
    "             \"role\": \"manager\", \n",
    "             \"model_id\": \"us.anthropic.claude-3-5-sonnet-20241022-v2:0\",\n",
    "             \"system_prompt\": f\"\"\"\n",
    "                You are the Financial Analuysis Manager responsible for comprehensive credit evaluation and income verification.\n",
    "                Your tasks include:\n",
    "\n",
    "                1. Coordinate tasks between the Credit Assessment Agent and the Verification Agent \n",
    "                2. Share required data between the Credit Assessment Agent and the Verification Agent \n",
    "                3. Provide overall Financial analysis and credit worthiness \n",
    "         \n",
    "             \"\"\"\n",
    "            },\n",
    "            {\"id\": \"risk_analysis_manager\", \n",
    "             \"role\": \"manager\", \n",
    "             \"model_id\": \"us.anthropic.claude-3-5-sonnet-20241022-v2:0\",\n",
    "             \"system_prompt\": f\"\"\"\n",
    "                You are the Risk Analysis Manager responsible for evaluating loan risks and detecting potential fraud. Your duties include:\n",
    "\n",
    "                1. Coordinate risk scoring and probability analysis\n",
    "                2. Oversee fraud detection processes\n",
    "                3. Analyze market and economic risk factors\n",
    "                4. Evaluate borrower risk profile\n",
    "                5. Assess collateral and security risks\n",
    "                6. Provide consolidated risk assessment\n",
    "                \n",
    "                Risk Categories:\n",
    "                - Credit risk (default probability)\n",
    "                - Fraud risk (application authenticity)\n",
    "                - Market risk (economic factors)\n",
    "                - Operational risk (process failures)\n",
    "                - Concentration risk (portfolio impact)\n",
    "         \n",
    "             \"\"\"\n",
    "            },\n",
    "            \n",
    "            {\"id\": \"credit_assessment_agent\", \n",
    "             \"role\": \"specialist\", \n",
    "             \"model_id\": \"us.anthropic.claude-3-5-sonnet-20241022-v2:0\",\n",
    "             \"system_prompt\": f\"\"\"\n",
    "                You are the Credit Assessment agent responsible for comprehensive credit evaluation. Your tasks include:\n",
    "\n",
    "                1. Coordinate credit score analysis with Credit Score Agent\n",
    "                2. Analyze credit history patterns and trends\n",
    "                3. Evaluate credit utilization and payment history\n",
    "                4. Assess credit mix and account age\n",
    "                5. Identify credit red flags or concerns\n",
    "                6. Provide consolidated credit assessment summary\n",
    "                \n",
    "                Focus Areas:\n",
    "                - FICO/VantageScore analysis\n",
    "                - Credit report anomalies\n",
    "                - Recent credit inquiries\n",
    "                - Derogatory marks evaluation\n",
    "                - Credit stability assessment\n",
    "                \n",
    "                Provide quantitative scores and qualitative insights for decision-making.\n",
    "               \n",
    "             \"\"\",\n",
    "             \n",
    "            },\n",
    "            {\"id\": \"verification_agent\",\n",
    "             \"role\": \"specialist\", \n",
    "             \"model_id\": \"us.anthropic.claude-3-5-sonnet-20241022-v2:0\",\n",
    "             \"system_prompt\": f\"\"\"\n",
    "                You are the Verification Agent responsible for validating applicant financial information. Your responsibilities include:\n",
    "\n",
    "                1. Coordinate income verification through multiple sources\n",
    "                2. Validate employment status and stability\n",
    "                3. Verify asset declarations and documentation\n",
    "                4. Cross-reference financial statements\n",
    "                5. Identify discrepancies or inconsistencies\n",
    "                6. Provide comprehensive verification summary\n",
    "                \n",
    "                Verification Standards:\n",
    "                - Income source diversity and stability\n",
    "                - Employment tenure and position\n",
    "                - Asset liquidity and ownership\n",
    "                - Documentation authenticity\n",
    "                - Financial statement consistency\n",
    "             \"\"\",\n",
    "             \n",
    "            },\n",
    "            \n",
    "            {\"id\": \"risk_calculation_Agent\",\n",
    "             \"role\": \"specialist\", \n",
    "             \"model_id\": \"us.anthropic.claude-3-5-sonnet-20241022-v2:0\",\n",
    "             \"system_prompt\": f\"\"\"\"\n",
    "                You are the Risk Calculation Agent specialized in quantitative risk modeling. Your tasks:\n",
    "\n",
    "                1. Calculate probability of default (PD)\n",
    "                2. Estimate loss given default (LGD)\n",
    "                3. Assess exposure at default (EAD)\n",
    "                4. Compute risk-adjusted pricing\n",
    "                5. Analyze portfolio concentration risks\n",
    "                6. Generate risk scores and ratings\n",
    "                \n",
    "                Use statistical models and historical data for accurate risk quantification.\n",
    "             \"\"\",\n",
    "             \n",
    "            },\n",
    "            {\"id\": \"fraud_detection_agent\",\n",
    "             \"role\": \"specialist\", \n",
    "             \"model_id\": \"us.anthropic.claude-3-5-sonnet-20241022-v2:0\",\n",
    "             \"system_prompt\": f\"\"\"\"\n",
    "                You are the Fraud Detection Agent focused on identifying fraudulent applications. Your responsibilities:\n",
    "\n",
    "                1. Analyze application data for inconsistencies\n",
    "                2. Detect synthetic identity fraud\n",
    "                3. Identify document manipulation or forgery\n",
    "                4. Flag suspicious behavioral patterns\n",
    "                5. Cross-reference against fraud databases\n",
    "                6. Generate fraud risk scores\n",
    "                \n",
    "                Use pattern recognition and anomaly detection techniques.\n",
    "             \"\"\",\n",
    "        \n",
    "            },\n",
    "            {\"id\": \"policy_documentation_agent\", \n",
    "             \"role\": \"specialist\",\n",
    "             \"model_id\": \"us.anthropic.claude-3-5-sonnet-20241022-v2:0\",\n",
    "             \"system_prompt\": f\"\"\"\"\n",
    "                    You are the Documentation Agent responsible for loan file management. Your duties:\n",
    "        \n",
    "                    1. Compile complete loan documentation\n",
    "                    2. Ensure document completeness and accuracy\n",
    "                    3. Generate required disclosures and notices\n",
    "                    4. Create audit trails and decision logs\n",
    "                    5. Prepare final loan packages\n",
    "                    6. Archive documents per retention policies\n",
    "        \n",
    "                    Maintain comprehensive documentation for regulatory and audit purposes.\n",
    "             \"\"\"\n",
    "            }\n",
    "        ],\n",
    "        \"edges\": [\n",
    "            {\"from\": \"loan_underwriting_supervisor_agent\", \"to\": \"financial_analysis_manager\"},\n",
    "            {\"from\": \"loan_underwriting_supervisor_agent\", \"to\": \"risk_analysis_manager\"},\n",
    "            {\"from\": \"loan_underwriting_supervisor_agent\", \"to\": \"policy_documentation_agent\"},\n",
    "            \n",
    "            {\"from\": \"financial_analysis_manager\", \"to\": \"credit_assessment_agent\"},\n",
    "            {\"from\": \"financial_analysis_manager\", \"to\": \"verification_agent\"},\n",
    "            {\"from\": \"credit_assessment_agent\", \"to\": \"financial_analysis_manager\"},\n",
    "            {\"from\": \"verification_agent\", \"to\": \"financial_analysis_manager\"},\n",
    "\n",
    "            {\"from\": \"risk_analysis_manager\", \"to\": \"risk_calculation_Agent\"},\n",
    "            {\"from\": \"risk_analysis_manager\", \"to\": \"fraud_detection_agent\"},\n",
    "            {\"from\": \"risk_calculation_Agent\", \"to\": \"risk_analysis_manager\"},\n",
    "            {\"from\": \"fraud_detection_agent\", \"to\": \"risk_analysis_manager\"},\n",
    "            \n",
    "            {\"from\": \"risk_analysis_manager\", \"to\": \"loan_underwriting_supervisor_agent\"} \n",
    "\n",
    "        ]\n",
    "    }\n",
    ")"
   ]
  },
  {
   "cell_type": "markdown",
   "id": "45b58076-b798-4de1-8561-cfb248599b10",
   "metadata": {},
   "source": [
    "## Invoking the Supervisor\n",
    "\n",
    "Now let's send a message to the Supervisor to get a comprehensive analysis of the application "
   ]
  },
  {
   "cell_type": "code",
   "execution_count": null,
   "id": "6caee581-8119-4aed-b3dc-79c14f79f001",
   "metadata": {},
   "outputs": [
    {
     "name": "stderr",
     "output_type": "stream",
     "text": [
      "DEPRECATION WARNING: agent_graph will be removed in the next major release. Migration path: replace agent_graph calls with graph for equivalent functionality.\n",
      "DEPRECATION WARNING: use_llm will be removed in the next major release. Migration path: replace use_llm calls with use_agent for equivalent functionality.\n"
     ]
    },
    {
     "data": {
      "text/html": [
       "<pre style=\"white-space:pre;overflow-x:auto;line-height:normal;font-family:Menlo,'DejaVu Sans Mono',consolas,'Courier New',monospace\"></pre>\n"
      ],
      "text/plain": []
     },
     "metadata": {},
     "output_type": "display_data"
    },
    {
     "name": "stderr",
     "output_type": "stream",
     "text": [
      "DEPRECATION WARNING: agent_graph will be removed in the next major release. Migration path: replace agent_graph calls with graph for equivalent functionality.\n",
      "❌ Error: Graph content_team not found\n",
      "DEPRECATION WARNING: agent_graph will be removed in the next major release. Migration path: replace agent_graph calls with graph for equivalent functionality.\n"
     ]
    },
    {
     "name": "stdout",
     "output_type": "stream",
     "text": [
      "\n",
      "Tool #1: agent_graph\n"
     ]
    },
    {
     "data": {
      "text/html": [
       "<pre style=\"white-space:pre;overflow-x:auto;line-height:normal;font-family:Menlo,'DejaVu Sans Mono',consolas,'Courier New',monospace\"></pre>\n"
      ],
      "text/plain": []
     },
     "metadata": {},
     "output_type": "display_data"
    }
   ],
   "source": [
    "# Send a task and check status\n",
    "agent.tool.agent_graph(\n",
    "    action=\"message\",\n",
    "    graph_id=\"loan_workbench\",\n",
    "    message={\n",
    "        \"target\": \"loan_underwriting_supervisor_agent\",\n",
    "        \"content\": f\"\"\"\n",
    "            I will give you an Loan Application submission package for Joe Doe. \n",
    "            Process each document, and extract require information to process the Loan application. \n",
    "            Keep track of the pending or missing documents\n",
    "            Provide final Approval recomendation.\n",
    "            Write the insurance policy and provide the final output\n",
    "\n",
    "            Retrieve information from the application package:\n",
    "            {extracted_JoeDoeCreditReport} \n",
    "            {extracted_JoeDoeBankStatement}\n",
    "            {extracted_JoeDoeBankStatement_2}\n",
    "            {extracted_JoeDoePayStub}\n",
    "            {extracted_JoeDoeIDVerification}\n",
    "            {extracted_JoeDoeLoanApplication}\n",
    "            {extracted_JoeDoePropertyInfo}\n",
    "            {extracted_JoeDoeTaxes}\n",
    "            \"\"\"\n",
    "    }\n",
    ")\n",
    "status = agent.tool.agent_graph(action=\"status\", graph_id=\"content_team\")\n",
    "\n",
    "\n",
    "# Manage the network\n",
    "agent(\"Shut down the loan_workbench team when they're done\")"
   ]
  },
  {
   "cell_type": "markdown",
   "id": "d41b3e5e-40d3-47e0-a9b0-6961572905bd",
   "metadata": {},
   "source": [
    "## Conclusion: When to use Agent Graph:\n",
    "1. For complex workflows with different agent roles\n",
    "2. When you need persistent agent state\n",
    "3. For custom communication topologies\n",
    "4. When you need fine-grained control over message routing"
   ]
  },
  {
   "cell_type": "markdown",
   "id": "bc04b5ed-5d5c-4a7d-b791-2268e6cb4ac9",
   "metadata": {},
   "source": [
    "##  Congrats!\n",
    "you've created a Multi-Agent systems with a hierachical topology to implement an intelligent loan application processing soltuon. "
   ]
  },
  {
   "cell_type": "code",
   "execution_count": null,
   "id": "24ea2201-5d6b-4729-9f97-4021d2bb2885",
   "metadata": {},
   "outputs": [],
   "source": []
  }
 ],
 "metadata": {
  "kernelspec": {
   "display_name": "Python 3 (ipykernel)",
   "language": "python",
   "name": "python3"
  },
  "language_info": {
   "codemirror_mode": {
    "name": "ipython",
    "version": 3
   },
   "file_extension": ".py",
   "mimetype": "text/x-python",
   "name": "python",
   "nbconvert_exporter": "python",
   "pygments_lexer": "ipython3",
   "version": "3.12.9"
  }
 },
 "nbformat": 4,
 "nbformat_minor": 5
}
