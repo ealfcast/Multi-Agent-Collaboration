{
 "cells": [
  {
   "cell_type": "markdown",
   "id": "45c3fc01-9545-48a9-8800-cb430d9c182c",
   "metadata": {},
   "source": [
    "# Building and Intelligent Loan application processing using Multi-Agent Systems with Strands Agents, an open source AI agents SDK\n",
    "\n",
    "## Introduction\n",
    "\n",
    "In this lab, we are building an Intellign Loan Applicaton Processing using multi-agent systems using the Phoenix SDK's Agent Graph tool. Throughout this notebook, we'll explore how to create, manage, and leverage networks of AI agents to solve complex problems through collaboration.\n",
    "\n",
    "By the end of this notebook, you'll understand about:\n",
    "-  multi-agent hierarchical topologies\n",
    "- Send messages between agents\n",
    "- Monitor agent interactions\n",
    "- Design specialized agent networks for different use cases\n",
    "\n",
    "Let's begin our exploration of collaborative AI systems!\n",
    "\n"
   ]
  },
  {
   "cell_type": "markdown",
   "id": "5d069f7b-03a0-44cc-ac1e-b2660036d7a5",
   "metadata": {},
   "source": [
    "## Prerequisites\n",
    "\n",
    "- Python 3.10+\n",
    "- AWS account\n",
    "- Anthropic Claude 3.7 enabled on Amazon Bedrock\n",
    "- IAM role with permissions to use Amazon Bedrock \n",
    "- Basic understanding of AI agents and prompt engineering\n",
    "\n"
   ]
  },
  {
   "cell_type": "markdown",
   "id": "d4a6e3a1-8acd-48d4-9fce-f54a462d51d6",
   "metadata": {},
   "source": [
    "### Brief Overview of Multi-Agent Systems\n",
    "Multi-agent systems consist of multiple autonomous agents collaborating to solve complex problems through task distribution, specialization, and parallel processing.\n",
    "\n",
    "Imagine a multi-agent system like a group of peers collaborating on a project. Each member of the team has an assigned role to help distribute the work of the project, and that work is usually catered to the expertise of that team member. Similarly, in a multi-agent system, each agent is a subject matter expert of some topic and is given relevant tools and resources. When given a project, a coordinator agent can split the work among the group of subject-matter expert agents to distribute and reduce the complexity of each unit of work. Once completed, the work of each agent can be combined through a coordinator agent to complete the project.\n",
    "\n",
    "Phoenix SDK provides built-in support for creating these systems through the agent_graph tool, allowing developers to move beyond single-agent limitations.\n",
    "\n",
    "\n"
   ]
  },
  {
   "cell_type": "markdown",
   "id": "f0507018-a539-4de4-b340-59628cbc6434",
   "metadata": {},
   "source": [
    "### Key Capabilities\n",
    "**Explicit Network Topologies:** Define precise communication structures\n",
    "\n",
    "**Specialized Agent Roles:** Create purpose-built agents with tailored system prompts\n",
    "\n",
    "**Controlled Information Flow:** Manage how information passes between agents\n",
    "\n",
    "**Parallel Processing:** Execute agent operations concurrently\n",
    "\n",
    "**Persistent State:** Maintain long-running agent networks across multiple interactions\n",
    "\n",
    "**Rich Status Monitoring:** View detailed information about graph structure and message queues\n",
    "\n"
   ]
  },
  {
   "cell_type": "markdown",
   "id": "b61c9eeb-ac89-4bac-8060-26ad57e205b8",
   "metadata": {},
   "source": [
    "## Core Components and Topology Patterns¶\n",
    "Agent Graph consists of nodes (agents) connected by edges (communication channels) arranged in specific topologies:\n",
    "\n",
    "**Nodes (Agents):** Individual AI agents with unique identity and specialized system prompt. Each node:\n",
    "\n",
    "1. Processes messages independently in its own thread\n",
    "2. Maintains a private message queue for incoming tasks\n",
    "3. Has rate limiting to prevent overloading\n",
    "4. Broadcasts responses to all connected neighbors\n",
    "\n",
    "**Edges (Connections):** Directed communication channels between agents that define explicit pathways for information flow. They can be:\n",
    "\n",
    "1. One-way (information flows in one direction)\n",
    "2. Bidirectional (automatically created in mesh topologies)\n",
    "3. Explicitly defined to control information routing\n",
    "\n",
    "                                                                                                 \n"
   ]
  },
  {
   "cell_type": "markdown",
   "id": "8d741f56-709b-480a-b3bd-2ad004ab7f59",
   "metadata": {},
   "source": [
    "## Loan Underwriting Process Overview\n",
    "\n",
    "The loan underwriting process involves systematic evaluation of loan applications through multiple tasks on different domains:\n",
    "\n",
    "1. **Application Intake & Validation**\n",
    "2. **Credit Assessment**\n",
    "3. **Income & Employment Verification**\n",
    "4. **Asset Verification**\n",
    "5. **Property Appraisal** (if applicable)\n",
    "6. **Risk Assessment & Analysis**\n",
    "7. **Fraud and misrepresenation**\n",
    "8. **Compliance & Regulatory Review**\n",
    "9. **Final Decision & Documentation**\n"
   ]
  },
  {
   "cell_type": "markdown",
   "id": "42ae8725-21df-497e-b56a-f8541e720eb4",
   "metadata": {},
   "source": [
    "# Principles for building Multi-Agents\n",
    "\n",
    "## Use Case Qualification\n",
    "### Principle #1: Do not force-fit workloads  into a collaboration pattern.\n",
    "Identify business decision frictions and then design workflows around the proper pattern.\n",
    "\n",
    "### Principle #2: Desing for enterprise productivity (not just individual task augmentation)\n",
    "Use Agentic systems when decision and automation are needed \n",
    "\n",
    "## Patterns Development\n",
    "### Principle #3: Acknowledge tradeoffs with agency, control, and reliability\n",
    "\n",
    "\n",
    "### Principle #4: Share Context\n",
    "For effective interaction, provide the full context and complete history of agent interactions, rather than isolating individual messages. \n",
    "\n",
    "### Principle #5: Recognize Action-Decision Relationships\n",
    "Every action reflects an underlying decision. When multiple actions stem from contradictory decisions, negative outcomes are likely to occur. Avoid semantic ambiguity and conflicting actions"
   ]
  },
  {
   "cell_type": "markdown",
   "id": "eb73399f-a207-418f-972e-383210f1fa64",
   "metadata": {},
   "source": [
    "## Topology Patterns:\n",
    "\n"
   ]
  },
  {
   "cell_type": "markdown",
   "id": "4a8e51b1-4337-490e-b54a-a4438dbedc0c",
   "metadata": {},
   "source": [
    "#### Hierarchical Topology\n",
    "Tree structure with parent-child relationships, ideal for layered processing and clear reporting lines.\n",
    "\n",
    "<p align=\"center\">\n",
    "    <img src=\"./images/IntellingentLoanTopology.png\">\n",
    "</p>\n",
    "\n"
   ]
  },
  {
   "cell_type": "markdown",
   "id": "d79a5a53-a76b-46d3-b9ef-d9929467ed94",
   "metadata": {},
   "source": [
    "### Supported Actions\n",
    "The agent_graph tool supports five primary actions:\n",
    "\n",
    "1. create: Build a new agent network with specified topology\n",
    "2. message: Send information to a specific agent in the network\n",
    "3. status: Check the current state of an agent network\n",
    "4. list: View all active agent networks\n",
    "5. stop: Terminate an agent network when it's no longer needed"
   ]
  },
  {
   "cell_type": "markdown",
   "id": "929ae7e4-e824-4d19-af6a-680836ff168a",
   "metadata": {},
   "source": [
    "## Setup and Installation\n",
    "\n",
    "First, let's make sure we have the Phoenix SDK installed with the agent_graph tool.\n",
    "\n"
   ]
  },
  {
   "cell_type": "code",
   "execution_count": null,
   "id": "b916cdf3-428c-4574-8cfa-5b1903f4a952",
   "metadata": {},
   "outputs": [],
   "source": [
    "!pip install -r requirements.txt"
   ]
  },
  {
   "cell_type": "code",
   "execution_count": 1,
   "id": "5058e219-8fb8-4503-8bbf-9e69dd06cf62",
   "metadata": {},
   "outputs": [],
   "source": [
    "# Now let's import the dependency packages import boto3\n",
    "from strands import Agent\n",
    "from strands_tools import agent_graph\n"
   ]
  },
  {
   "cell_type": "markdown",
   "id": "f4241ec9-0fe9-41b3-a53a-9a70846a5961",
   "metadata": {},
   "source": [
    "## Importing dependency packages "
   ]
  },
  {
   "cell_type": "code",
   "execution_count": 2,
   "id": "8a96c2df-0418-48c5-adcd-7224d3ebddf1",
   "metadata": {},
   "outputs": [],
   "source": [
    "# Now let's import the dependency packages import boto3\n",
    "import boto3\n",
    "import time\n",
    "import yaml\n",
    "import os\n",
    "import logging\n",
    "import base64\n",
    "import json\n",
    "from botocore.config import Config\n",
    "from typing import List, Dict\n",
    "import PyPDF2\n",
    "\n"
   ]
  },
  {
   "cell_type": "markdown",
   "id": "04a82ba0-b198-4c12-867c-70b5f928e007",
   "metadata": {},
   "source": [
    "## Understanding Agent Graph Basics\n",
    "\n",
    "Agent Graph allows you to create networks of specialized AI agents that can communicate with each other to solve complex problems. Let's understand the core concepts:\n",
    "\n",
    "- **Graph**: A collection of agents organized in a specific topology\n",
    "- **Nodes**: Individual agents with specific roles and system prompts\n",
    "- **Edges**: Communication paths between agents\n",
    "- **Topologies**: Different network structures (star, mesh, hierarchical)\n",
    "\n"
   ]
  },
  {
   "cell_type": "markdown",
   "id": "d62d4500-a6c7-4455-9422-e1c98d322ac9",
   "metadata": {},
   "source": [
    "## Loan Underwriting Workbench"
   ]
  },
  {
   "cell_type": "markdown",
   "id": "c6cd8132-e15e-4a8d-b39f-973c5d6a129c",
   "metadata": {},
   "source": [
    "## Building Different Network Topologies\n",
    "\n",
    "Let's explore different network topologies for various use cases:\n"
   ]
  },
  {
   "cell_type": "markdown",
   "id": "a7af1c02-e7b4-4c20-a329-1cd17bf2a0d3",
   "metadata": {},
   "source": [
    "###  Hierarchical  - Workbench team"
   ]
  },
  {
   "cell_type": "code",
   "execution_count": 3,
   "id": "8f5271e4-2710-4dbd-bc6c-7cf05cef6b2b",
   "metadata": {},
   "outputs": [],
   "source": [
    "def read_pdf(file_path):\n",
    "    \"\"\"\n",
    "    Read and extract text from a PDF file.\n",
    "    \n",
    "    Args:\n",
    "        file_path (str): Path to the PDF file\n",
    "        \n",
    "    Returns:\n",
    "        str: Extracted text from the PDF\n",
    "    \"\"\"\n",
    "    try:\n",
    "        # Open the PDF file in binary read mode\n",
    "        with open(file_path, 'rb') as file:\n",
    "            # Create a PDF reader object\n",
    "            pdf_reader = PyPDF2.PdfReader(file)\n",
    "            \n",
    "            # Get number of pages\n",
    "            num_pages = len(pdf_reader.pages)\n",
    "            print(f\"Total pages: {num_pages}\")\n",
    "            \n",
    "            # Extract text from each page\n",
    "            text = \"\"\n",
    "            for page_num in range(num_pages):\n",
    "                page = pdf_reader.pages[page_num]\n",
    "                text += page.extract_text()\n",
    "                \n",
    "            return text\n",
    "    \n",
    "    except FileNotFoundError:\n",
    "        return \"Error: The file was not found.\"\n",
    "    except PyPDF2.errors.PdfReadError:\n",
    "        return \"Error: Invalid PDF file or the file is encrypted.\"\n",
    "    except Exception as e:\n",
    "        return f\"Error: {str(e)}\"\n"
   ]
  },
  {
   "cell_type": "code",
   "execution_count": 4,
   "id": "b9a8e9b3-0a56-4370-a9d0-d9a972c833bf",
   "metadata": {},
   "outputs": [
    {
     "name": "stdout",
     "output_type": "stream",
     "text": [
      "Total pages: 10\n",
      "Total pages: 3\n",
      "Total pages: 3\n",
      "Total pages: 3\n",
      "Total pages: 2\n",
      "Total pages: 3\n",
      "Total pages: 4\n",
      "Total pages: 4\n"
     ]
    }
   ],
   "source": [
    "# Example usage\n",
    "if __name__ == \"__main__\":\n",
    "    pdf_path = \"data/JoeDoeCreditReport.pdf\"  # Replace with your PDF file path\n",
    "    extracted_JoeDoeCreditReport = read_pdf(pdf_path)\n",
    "    \n",
    "    pdf_path = \"data/JoeDoeBankStatement.pdf\"  # Replace with your PDF file path\n",
    "    extracted_JoeDoeBankStatement = read_pdf(pdf_path)\n",
    "    \n",
    "    pdf_path = \"data/JoeDoeBankStatement_2.pdf\"  # Replace with your PDF file path\n",
    "    extracted_JoeDoeBankStatement_2 = read_pdf(pdf_path)\n",
    "    \n",
    "    pdf_path = \"data/JoeDoePayStub.pdf\"  # Replace with your PDF file path\n",
    "    extracted_JoeDoePayStub = read_pdf(pdf_path)\n",
    "\n",
    "    pdf_path = \"data/JoeDoeIDVerification.pdf\"  # Replace with your PDF file path\n",
    "    extracted_JoeDoeIDVerification = read_pdf(pdf_path)\n",
    "\n",
    "    pdf_path = \"data/JoeDoeTaxes.pdf\"  # Replace with your PDF file path\n",
    "    extracted_JoeDoeTaxes = read_pdf(pdf_path)\n",
    "\n",
    "    pdf_path = \"data/JoeDoeLoanApplication.pdf\"  # Replace with your PDF file path\n",
    "    extracted_JoeDoeLoanApplication = read_pdf(pdf_path)\n",
    "\n",
    "    pdf_path = \"data/JoeDoePropertyInfo.pdf\"  # Replace with your PDF file path\n",
    "    extracted_JoeDoePropertyInfo = read_pdf(pdf_path)\n",
    "    \n",
    "    # print(\"Extracted text:\")\n",
    "    # print(extracted_JoeDoeCreditReport[0:1000])\n",
    "    # print(extracted_JoeDoeBankStatement[0:1000])\n",
    "    # print(extracted_JoeDoePayStub[0:1000])"
   ]
  },
  {
   "cell_type": "code",
   "execution_count": 5,
   "id": "0f5cca2f-9242-4645-b256-e78f08e86b42",
   "metadata": {},
   "outputs": [],
   "source": [
    "agent = Agent(tools=[agent_graph])"
   ]
  },
  {
   "cell_type": "code",
   "execution_count": 6,
   "id": "451aa15a-0a0a-4c97-a985-3b62bea750ac",
   "metadata": {},
   "outputs": [
    {
     "data": {
      "text/html": [
       "<pre style=\"white-space:pre;overflow-x:auto;line-height:normal;font-family:Menlo,'DejaVu Sans Mono',consolas,'Courier New',monospace\"></pre>\n"
      ],
      "text/plain": []
     },
     "metadata": {},
     "output_type": "display_data"
    },
    {
     "data": {
      "text/plain": [
       "{'toolUseId': 'tooluse_agent_graph_306689162',\n",
       " 'status': 'success',\n",
       " 'content': [{'text': 'Graph loan_workbench created and started'}]}"
      ]
     },
     "execution_count": 6,
     "metadata": {},
     "output_type": "execute_result"
    },
    {
     "name": "stdout",
     "output_type": "stream",
     "text": [
      "# Fraud Risk Analysis Report\n",
      "\n",
      "## Summary of Potential Fraud Triggers\n",
      "\n",
      "After analyzing the provided application materials for Joe Doe's mortgage loan application, I've identified several potential fraud indicators that warrant further investigation:\n",
      "\n",
      "## High Priority Concerns\n",
      "\n",
      "1. **Identity Inconsistencies**\n",
      "   - Social Security Number discrepancies: Different SSNs appear across documents (XXX-XX-7845, XXX-XX-1234, XXX-XX-4829)\n",
      "   - Multiple addresses with limited history at current residence (3 years)\n",
      "\n",
      "2. **Income Verification Issues**\n",
      "   - Significant income discrepancies between documents:\n",
      "     - Loan application: $8,500 monthly/$102,000 annual\n",
      "     - Paystub: $16,920 bimonthly (implying ~$202,000+ annual)\n",
      "     - Tax return: Only $75,000 annual\n",
      "   - Employment verification needed at TechCorp Solutions Inc.\n",
      "\n",
      "3. **Document Authenticity**\n",
      "   - Sample/test markings on multiple documents suggest templated or fabricated documents\n",
      "   - Government ID explicitly marked as \"SPECIMEN ONLY\" with \"REPUBLIC OF TESTLANDIA\"\n",
      "\n",
      "4. **Application Details**\n",
      "   - Loan amount ($420,000) differs from property appraisal report ($304,000)\n",
      "   - Property addresses don't match across documents:\n",
      "     - Application: 789 Oak Ridge Lane\n",
      "     - Appraisal: 1247 Maple Grove Lane\n",
      "\n",
      "## Medium Priority Concerns\n",
      "\n",
      "1. **Credit History**\n",
      "   - Recent delinquencies on credit report (30 days late in 2021)\n",
      "   - Multiple credit inquiries in last 12 months\n",
      "   - High revolving credit utilization\n",
      "\n",
      "2. **Banking Information**\n",
      "   - Bank statements from multiple institutions with different account patterns\n",
      "   - Unable to verify consistency of direct deposits with claimed employer\n",
      "\n",
      "## Recommended Actions\n",
      "\n",
      "1. **Identity Verification**\n",
      "   - Conduct comprehensive KYC verification\n",
      "   - Request original government-issued identification\n",
      "   - Verify SSN with appropriate authorities\n",
      "\n",
      "2. **Employment/Income Verification**\n",
      "   - Direct employment verification with HR department\n",
      "   - Request original tax transcripts from IRS\n",
      "   - Analyze consistency of deposits against claimed income\n",
      "\n",
      "3. **Property Verification**\n",
      "   - Confirm actual property address and ownership\n",
      "   - Verify appraisal report authenticity with listed appraiser\n",
      "   - Cross-reference property tax records\n",
      "\n",
      "4. **Document Authentication**\n",
      "   - Request original documentation (not copies)\n",
      "   - Verify all submitted documents for alterations\n",
      "   - Consider third-party verification services\n",
      "\n",
      "This application shows multiple high-risk fraud indicators, particularly identity inconsistencies and significant income discrepancies. I recommend placing this application on hold pending thorough verification of all critical data points."
     ]
    }
   ],
   "source": [
    "# Example: Create a Workbench team\n",
    "agent.tool.agent_graph(\n",
    "    action=\"create\",\n",
    "    graph_id=\"loan_workbench\",\n",
    "    topology={\n",
    "        \"type\": \"hierarchical\",\n",
    "        \"nodes\": [\n",
    "            {\"id\": \"loan_underwriting_supervisor_agent\", \n",
    "             \"role\": \"executive\",\n",
    "             \"model_id\": \"us.anthropic.claude-3-5-sonnet-20241022-v2:0\", \n",
    "             \"system_prompt\": f\"\"\"\n",
    "                You are the Loan Underwriting Supervisor Agent responsible for orchestrating the complete loan underwriting process. Your responsibilities include:\n",
    "\n",
    "                1. Receive and validate loan applications\n",
    "                2. Coordinate with manager agents to execute underwriting tasks\n",
    "                3. Monitor progress and handle escalations\n",
    "                4. Aggregate results from all assessment domains\n",
    "                5. Make final loan approval/rejection decisions based on comprehensive analysis\n",
    "                6. Ensure compliance with lending policies and regulations\n",
    "                7. Generate final underwriting reports\n",
    "                \n",
    "                Process Flow:\n",
    "                - Start with financial analysis and application validation\n",
    "                - Then, continue with Risk and Fraud analysis.\n",
    "                - Delegate tasks to appropriate manager agents\n",
    "                - Monitor and coordinate parallel processing\n",
    "                - Collect and analyze results from all domains\n",
    "                - Apply business rules and lending policies\n",
    "                - Make final decision and generate documentation\n",
    "                - Share required information required by each task. \n",
    "                \n",
    "                Decision Criteria:\n",
    "                - Credit score thresholds\n",
    "                - Debt-to-income ratios\n",
    "                - Collateral value\n",
    "                - Risk assessment scores\n",
    "                - Regulatory compliance status\n",
    "             \"\"\"\n",
    "            },\n",
    "            {\"id\": \"financial_analysis_manager\", \n",
    "             \"role\": \"manager\", \n",
    "             \"model_id\": \"us.anthropic.claude-3-5-sonnet-20241022-v2:0\",\n",
    "             \"system_prompt\": f\"\"\"\n",
    "                You are the Financial Analuysis Manager responsible for comprehensive credit evaluation and income verification.\n",
    "                Your tasks include:\n",
    "\n",
    "                1. Coordinate tasks between the Credit Assessment Agent and the Verification Agent \n",
    "                2. Share required data between the Credit Assessment Agent and the Verification Agent \n",
    "                3. Provide overall Financial analysis and credit worthiness \n",
    "         \n",
    "             \"\"\"\n",
    "            },\n",
    "            {\"id\": \"risk_analysis_manager\", \n",
    "             \"role\": \"manager\", \n",
    "             \"model_id\": \"us.anthropic.claude-3-5-sonnet-20241022-v2:0\",\n",
    "             \"system_prompt\": f\"\"\"\n",
    "                You are the Risk Analysis Manager responsible for evaluating loan risks and detecting potential fraud. Your duties include:\n",
    "\n",
    "                1. Coordinate risk scoring and probability analysis\n",
    "                2. Oversee fraud detection processes\n",
    "                3. Analyze market and economic risk factors\n",
    "                4. Evaluate borrower risk profile\n",
    "                5. Assess collateral and security risks\n",
    "                6. Provide consolidated risk assessment\n",
    "                \n",
    "                Risk Categories:\n",
    "                - Credit risk (default probability)\n",
    "                - Fraud risk (application authenticity)\n",
    "                - Market risk (economic factors)\n",
    "                - Operational risk (process failures)\n",
    "                - Concentration risk (portfolio impact)\n",
    "         \n",
    "             \"\"\"\n",
    "            },\n",
    "            \n",
    "            {\"id\": \"credit_assessment_agent\", \n",
    "             \"role\": \"specialist\", \n",
    "             \"model_id\": \"us.anthropic.claude-3-5-sonnet-20241022-v2:0\",\n",
    "             \"system_prompt\": f\"\"\"\n",
    "                You are the Credit Assessment agent responsible for comprehensive credit evaluation. Your tasks include:\n",
    "\n",
    "                1. Coordinate credit score analysis with Credit Score Agent\n",
    "                2. Analyze credit history patterns and trends\n",
    "                3. Evaluate credit utilization and payment history\n",
    "                4. Assess credit mix and account age\n",
    "                5. Identify credit red flags or concerns\n",
    "                6. Provide consolidated credit assessment summary\n",
    "                \n",
    "                Focus Areas:\n",
    "                - FICO/VantageScore analysis\n",
    "                - Credit report anomalies\n",
    "                - Recent credit inquiries\n",
    "                - Derogatory marks evaluation\n",
    "                - Credit stability assessment\n",
    "                \n",
    "                Provide quantitative scores and qualitative insights for decision-making.\n",
    "               \n",
    "             \"\"\",\n",
    "             \n",
    "            },\n",
    "            {\"id\": \"verification_agent\",\n",
    "             \"role\": \"specialist\", \n",
    "             \"model_id\": \"us.anthropic.claude-3-5-sonnet-20241022-v2:0\",\n",
    "             \"system_prompt\": f\"\"\"\n",
    "                You are the Verification Agent responsible for validating applicant financial information. Your responsibilities include:\n",
    "\n",
    "                1. Coordinate income verification through multiple sources\n",
    "                2. Validate employment status and stability\n",
    "                3. Verify asset declarations and documentation\n",
    "                4. Cross-reference financial statements\n",
    "                5. Identify discrepancies or inconsistencies\n",
    "                6. Provide comprehensive verification summary\n",
    "                \n",
    "                Verification Standards:\n",
    "                - Income source diversity and stability\n",
    "                - Employment tenure and position\n",
    "                - Asset liquidity and ownership\n",
    "                - Documentation authenticity\n",
    "                - Financial statement consistency\n",
    "             \"\"\",\n",
    "             \n",
    "            },\n",
    "            \n",
    "            {\"id\": \"risk_calculation_Agent\",\n",
    "             \"role\": \"specialist\", \n",
    "             \"model_id\": \"us.anthropic.claude-3-5-sonnet-20241022-v2:0\",\n",
    "             \"system_prompt\": f\"\"\"\"\n",
    "                You are the Risk Calculation Agent specialized in quantitative risk modeling. Your tasks:\n",
    "\n",
    "                1. Calculate probability of default (PD)\n",
    "                2. Estimate loss given default (LGD)\n",
    "                3. Assess exposure at default (EAD)\n",
    "                4. Compute risk-adjusted pricing\n",
    "                5. Analyze portfolio concentration risks\n",
    "                6. Generate risk scores and ratings\n",
    "                \n",
    "                Use statistical models and historical data for accurate risk quantification.\n",
    "             \"\"\",\n",
    "             \n",
    "            },\n",
    "            {\"id\": \"fraud_detection_agent\",\n",
    "             \"role\": \"specialist\", \n",
    "             \"model_id\": \"us.anthropic.claude-3-5-sonnet-20241022-v2:0\",\n",
    "             \"system_prompt\": f\"\"\"\"\n",
    "                You are the Fraud Detection Agent focused on identifying fraudulent applications. Your responsibilities:\n",
    "\n",
    "                1. Analyze application data for inconsistencies\n",
    "                2. Detect synthetic identity fraud\n",
    "                3. Identify document manipulation or forgery\n",
    "                4. Flag suspicious behavioral patterns\n",
    "                5. Cross-reference against fraud databases\n",
    "                6. Generate fraud risk scores\n",
    "                \n",
    "                Use pattern recognition and anomaly detection techniques.\n",
    "             \"\"\",\n",
    "        \n",
    "            },\n",
    "            {\"id\": \"policy_documentation_agent\", \n",
    "             \"role\": \"specialist\",\n",
    "             \"model_id\": \"us.anthropic.claude-3-5-sonnet-20241022-v2:0\",\n",
    "             \"system_prompt\": f\"\"\"\"\n",
    "                    You are the Documentation Agent responsible for loan file management. Your duties:\n",
    "        \n",
    "                    1. Compile complete loan documentation\n",
    "                    2. Ensure document completeness and accuracy\n",
    "                    3. Generate required disclosures and notices\n",
    "                    4. Create audit trails and decision logs\n",
    "                    5. Prepare final loan packages\n",
    "                    6. Archive documents per retention policies\n",
    "        \n",
    "                    Maintain comprehensive documentation for regulatory and audit purposes.\n",
    "             \"\"\"\n",
    "            }\n",
    "        ],\n",
    "        \"edges\": [\n",
    "            {\"from\": \"loan_underwriting_supervisor_agent\", \"to\": \"financial_analysis_manager\"},\n",
    "            {\"from\": \"loan_underwriting_supervisor_agent\", \"to\": \"risk_analysis_manager\"},\n",
    "            {\"from\": \"loan_underwriting_supervisor_agent\", \"to\": \"policy_documentation_agent\"},\n",
    "            \n",
    "            {\"from\": \"financial_analysis_manager\", \"to\": \"credit_assessment_agent\"},\n",
    "            {\"from\": \"financial_analysis_manager\", \"to\": \"verification_agent\"},\n",
    "            {\"from\": \"credit_assessment_agent\", \"to\": \"financial_analysis_manager\"},\n",
    "            {\"from\": \"verification_agent\", \"to\": \"financial_analysis_manager\"},\n",
    "\n",
    "            {\"from\": \"risk_analysis_manager\", \"to\": \"risk_calculation_Agent\"},\n",
    "            {\"from\": \"risk_analysis_manager\", \"to\": \"fraud_detection_agent\"},\n",
    "            {\"from\": \"risk_calculation_Agent\", \"to\": \"risk_analysis_manager\"},\n",
    "            {\"from\": \"fraud_detection_agent\", \"to\": \"risk_analysis_manager\"},\n",
    "            \n",
    "            {\"from\": \"risk_analysis_manager\", \"to\": \"loan_underwriting_supervisor_agent\"} \n",
    "\n",
    "        ]\n",
    "    }\n",
    ")"
   ]
  },
  {
   "cell_type": "markdown",
   "id": "98836511-3653-4f54-b2ce-ce0c6ae5e52d",
   "metadata": {},
   "source": [
    "## Working with Agent Graphs\n",
    "\n",
    "Now let's send a message to one an agent networks member:\n"
   ]
  },
  {
   "cell_type": "code",
   "execution_count": 7,
   "id": "88b4ff34-8cba-4fdf-aeb0-52508aea2bd9",
   "metadata": {},
   "outputs": [
    {
     "data": {
      "text/html": [
       "<pre style=\"white-space:pre;overflow-x:auto;line-height:normal;font-family:Menlo,'DejaVu Sans Mono',consolas,'Courier New',monospace\"></pre>\n"
      ],
      "text/plain": []
     },
     "metadata": {},
     "output_type": "display_data"
    },
    {
     "data": {
      "text/html": [
       "<pre style=\"white-space:pre;overflow-x:auto;line-height:normal;font-family:Menlo,'DejaVu Sans Mono',consolas,'Courier New',monospace\"></pre>\n"
      ],
      "text/plain": []
     },
     "metadata": {},
     "output_type": "display_data"
    },
    {
     "name": "stdout",
     "output_type": "stream",
     "text": [
      "I'll help you shut down the loan_workbench agent graph when they're done with their current tasks. Let's first check the current status to see if they've completed their work:\n",
      "Tool #1: agent_graph\n"
     ]
    },
    {
     "data": {
      "text/html": [
       "<pre style=\"white-space:pre;overflow-x:auto;line-height:normal;font-family:Menlo,'DejaVu Sans Mono',consolas,'Courier New',monospace\"></pre>\n"
      ],
      "text/plain": []
     },
     "metadata": {},
     "output_type": "display_data"
    },
    {
     "name": "stdout",
     "output_type": "stream",
     "text": [
      "Now I'll shut down the loan_workbench agent graph:\n",
      "Tool #2: agent_graph\n"
     ]
    },
    {
     "data": {
      "text/html": [
       "<pre style=\"white-space:pre;overflow-x:auto;line-height:normal;font-family:Menlo,'DejaVu Sans Mono',consolas,'Courier New',monospace\"></pre>\n"
      ],
      "text/plain": []
     },
     "metadata": {},
     "output_type": "display_data"
    },
    {
     "name": "stdout",
     "output_type": "stream",
     "text": [
      "The loan_workbench agent graph has been successfully shut down and removed from the system. All agent processes within that graph have been terminated."
     ]
    },
    {
     "data": {
      "text/plain": [
       "AgentResult(stop_reason='end_turn', message={'role': 'assistant', 'content': [{'text': 'The loan_workbench agent graph has been successfully shut down and removed from the system. All agent processes within that graph have been terminated.'}]}, metrics=EventLoopMetrics(cycle_count=3, tool_metrics={'agent_graph': ToolMetrics(tool={'toolUseId': 'tooluse_GnlWpBeYR_SiUqyjuRzgIA', 'name': 'agent_graph', 'input': {'graph_id': 'loan_workbench', 'action': 'stop'}}, call_count=2, success_count=2, error_count=0, total_time=6.779290437698364)}, cycle_durations=[3.486985445022583], traces=[<strands.telemetry.metrics.Trace object at 0x7f355602f140>, <strands.telemetry.metrics.Trace object at 0x7f3555313770>, <strands.telemetry.metrics.Trace object at 0x7f35569e2660>], accumulated_usage={'inputTokens': 57940, 'outputTokens': 241, 'totalTokens': 58181}, accumulated_metrics={'latencyMs': 11798}), state={})"
      ]
     },
     "execution_count": 7,
     "metadata": {},
     "output_type": "execute_result"
    }
   ],
   "source": [
    "# Send a new message to a specific agent. Pick from the ones we create above and test with different task request. \n",
    "agent.tool.agent_graph(\n",
    "    action=\"message\",\n",
    "    graph_id=\"loan_workbench\",\n",
    "    message={\n",
    "        \"target\": \"risk_calculation_Agent\",\n",
    "        \"content\": f\"\"\"\n",
    "            Analyze this application for possible fraud triggers\n",
    "            Retrieve information from the application package:\n",
    "            {extracted_JoeDoeCreditReport} \n",
    "            {extracted_JoeDoeBankStatement}\n",
    "            {extracted_JoeDoeBankStatement_2}\n",
    "            {extracted_JoeDoePayStub}\n",
    "            {extracted_JoeDoeIDVerification}\n",
    "            {extracted_JoeDoeLoanApplication}\n",
    "            {extracted_JoeDoePropertyInfo}\n",
    "            {extracted_JoeDoeTaxes}\n",
    "            \"\"\"\n",
    "    }\n",
    ")\n",
    "\n",
    "# Check the status of the Network\n",
    "status = agent.tool.agent_graph(action=\"status\", graph_id=\"loan_workbench\")\n",
    "\n",
    "# Manage the network\n",
    "agent(\"Shut down the loan_workbench team when they're done\")"
   ]
  },
  {
   "cell_type": "markdown",
   "id": "45b58076-b798-4de1-8561-cfb248599b10",
   "metadata": {},
   "source": [
    "## Invoking the Supervisor\n",
    "\n",
    "Now let's send a message to the Supervisor to get a comprehensive analysis of the application "
   ]
  },
  {
   "cell_type": "code",
   "execution_count": null,
   "id": "6caee581-8119-4aed-b3dc-79c14f79f001",
   "metadata": {},
   "outputs": [],
   "source": [
    "# Send a task and check status\n",
    "agent.tool.agent_graph(\n",
    "    action=\"message\",\n",
    "    graph_id=\"loan_workbench\",\n",
    "    message={\n",
    "        \"target\": \"loan_underwriting_supervisor_agent\",\n",
    "        \"content\": f\"\"\"\n",
    "            I will give you an Loan Application submission package for Joe Doe. \n",
    "            Process each document, and extract require information to process the Loan application. \n",
    "            Keep track of the pending or missing documents\n",
    "            Provide final Approval recomendation.\n",
    "            Write the insurance policy and provide the final output\n",
    "\n",
    "            Retrieve information from the application package:\n",
    "            {extracted_JoeDoeCreditReport} \n",
    "            {extracted_JoeDoeBankStatement}\n",
    "            {extracted_JoeDoeBankStatement_2}\n",
    "            {extracted_JoeDoePayStub}\n",
    "            {extracted_JoeDoeIDVerification}\n",
    "            {extracted_JoeDoeLoanApplication}\n",
    "            {extracted_JoeDoePropertyInfo}\n",
    "            {extracted_JoeDoeTaxes}\n",
    "            \"\"\"\n",
    "    }\n",
    ")\n",
    "status = agent.tool.agent_graph(action=\"status\", graph_id=\"content_team\")\n",
    "\n",
    "\n",
    "# Manage the network\n",
    "agent(\"Shut down the loan_workbench team when they're done\")"
   ]
  },
  {
   "cell_type": "markdown",
   "id": "d41b3e5e-40d3-47e0-a9b0-6961572905bd",
   "metadata": {},
   "source": [
    "## Conclusion: When to use Agent Graph:\n",
    "1. For complex workflows with different agent roles\n",
    "2. When you need persistent agent state\n",
    "3. For custom communication topologies\n",
    "4. When you need fine-grained control over message routing"
   ]
  },
  {
   "cell_type": "markdown",
   "id": "bc04b5ed-5d5c-4a7d-b791-2268e6cb4ac9",
   "metadata": {},
   "source": [
    "##  Congrats!\n",
    "you've created a Multi-Agent systems with a hierachical topology to implement an intelligent loan application processing soltuon. "
   ]
  },
  {
   "cell_type": "code",
   "execution_count": null,
   "id": "24ea2201-5d6b-4729-9f97-4021d2bb2885",
   "metadata": {},
   "outputs": [],
   "source": []
  }
 ],
 "metadata": {
  "kernelspec": {
   "display_name": "Python 3 (ipykernel)",
   "language": "python",
   "name": "python3"
  },
  "language_info": {
   "codemirror_mode": {
    "name": "ipython",
    "version": 3
   },
   "file_extension": ".py",
   "mimetype": "text/x-python",
   "name": "python",
   "nbconvert_exporter": "python",
   "pygments_lexer": "ipython3",
   "version": "3.12.9"
  }
 },
 "nbformat": 4,
 "nbformat_minor": 5
}
