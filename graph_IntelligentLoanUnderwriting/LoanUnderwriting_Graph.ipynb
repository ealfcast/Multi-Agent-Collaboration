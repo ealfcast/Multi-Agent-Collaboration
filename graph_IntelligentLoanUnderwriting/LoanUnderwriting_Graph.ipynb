{
 "cells": [
  {
   "cell_type": "markdown",
   "id": "45c3fc01-9545-48a9-8800-cb430d9c182c",
   "metadata": {},
   "source": [
    "# Building Multi-Agent Systems with Strands Agents, an open source AI agents SDK\n",
    "\n",
    "## Introduction\n",
    "\n",
    "In this lab, we are building multi-agent systems using the Phoenix SDK's Agent Graph tool. Throughout this notebook, we'll explore how to create, manage, and leverage networks of AI agents to solve complex problems through collaboration.\n",
    "\n",
    "By the end of this notebook, you'll understand about:\n",
    "- Different multi-agent topologies (star, mesh, hierarchical)\n",
    "- Send messages between agents\n",
    "- Monitor agent interactions\n",
    "- Design specialized agent networks for different use cases\n",
    "\n",
    "Let's begin our exploration of collaborative AI systems!\n",
    "\n"
   ]
  },
  {
   "cell_type": "markdown",
   "id": "5d069f7b-03a0-44cc-ac1e-b2660036d7a5",
   "metadata": {},
   "source": [
    "## Prerequisites\n",
    "\n",
    "- Python 3.10+\n",
    "- AWS account\n",
    "- Anthropic Claude 3.7 enabled on Amazon Bedrock\n",
    "- IAM role with permissions to use Amazon Bedrock \n",
    "- Basic understanding of AI agents and prompt engineering\n",
    "\n"
   ]
  },
  {
   "cell_type": "markdown",
   "id": "d4a6e3a1-8acd-48d4-9fce-f54a462d51d6",
   "metadata": {},
   "source": [
    "### Brief Overview of Multi-Agent Systems\n",
    "Multi-agent systems consist of multiple autonomous agents collaborating to solve complex problems through task distribution, specialization, and parallel processing.\n",
    "\n",
    "Imagine a multi-agent system like a group of peers collaborating on a project. Each member of the team has an assigned role to help distribute the work of the project, and that work is usually catered to the expertise of that team member. Similarly, in a multi-agent system, each agent is a subject matter expert of some topic and is given relevant tools and resources. When given a project, a coordinator agent can split the work among the group of subject-matter expert agents to distribute and reduce the complexity of each unit of work. Once completed, the work of each agent can be combined through a coordinator agent to complete the project.\n",
    "\n",
    "Phoenix SDK provides built-in support for creating these systems through the agent_graph tool, allowing developers to move beyond single-agent limitations.\n",
    "\n",
    "\n"
   ]
  },
  {
   "cell_type": "markdown",
   "id": "f0507018-a539-4de4-b340-59628cbc6434",
   "metadata": {},
   "source": [
    "### Key Capabilities\n",
    "**Explicit Network Topologies:** Define precise communication structures\n",
    "\n",
    "**Specialized Agent Roles:** Create purpose-built agents with tailored system prompts\n",
    "\n",
    "**Controlled Information Flow:** Manage how information passes between agents\n",
    "\n",
    "**Parallel Processing:** Execute agent operations concurrently\n",
    "\n",
    "**Persistent State:** Maintain long-running agent networks across multiple interactions\n",
    "\n",
    "**Rich Status Monitoring:** View detailed information about graph structure and message queues\n",
    "\n"
   ]
  },
  {
   "cell_type": "markdown",
   "id": "b61c9eeb-ac89-4bac-8060-26ad57e205b8",
   "metadata": {},
   "source": [
    "## Core Components and Topology Patterns¶\n",
    "Agent Graph consists of nodes (agents) connected by edges (communication channels) arranged in specific topologies:\n",
    "\n",
    "**Nodes (Agents):** Individual AI agents with unique identity and specialized system prompt. Each node:\n",
    "\n",
    "1. Processes messages independently in its own thread\n",
    "2. Maintains a private message queue for incoming tasks\n",
    "3. Has rate limiting to prevent overloading\n",
    "4. Broadcasts responses to all connected neighbors\n",
    "\n",
    "**Edges (Connections):** Directed communication channels between agents that define explicit pathways for information flow. They can be:\n",
    "\n",
    "1. One-way (information flows in one direction)\n",
    "2. Bidirectional (automatically created in mesh topologies)\n",
    "3. Explicitly defined to control information routing\n",
    "\n",
    "                                                                                                 \n"
   ]
  },
  {
   "cell_type": "markdown",
   "id": "eb73399f-a207-418f-972e-383210f1fa64",
   "metadata": {},
   "source": [
    "## Topology Patterns:\n",
    "\n"
   ]
  },
  {
   "cell_type": "markdown",
   "id": "c42fc82a-b310-4506-9f05-7015b38f7f8a",
   "metadata": {},
   "source": [
    "#### 1. Star Topology\n",
    "Central coordinator with radiating specialists, ideal for centralized workflows.\n",
    "\n",
    "\n",
    "                  +-------------+\n",
    "                  | Coordinator |\n",
    "                  +-------------+\n",
    "                 /      |       \\\n",
    "                /       |        \\\n",
    "       +-------------+ +-------------+ +-------------+\n",
    "       | Specialist 1| | Specialist 2| | Specialist 3|\n",
    "       +-------------+ +-------------+ +-------------+\n",
    "\n"
   ]
  },
  {
   "cell_type": "markdown",
   "id": "d72c4b5d-3051-40b8-8b57-22f0cb5ce445",
   "metadata": {},
   "source": [
    "**Example applications:**\n",
    "\n",
    "1. NLP Pipeline: Text preprocessing → semantic analysis → summarization\n",
    "Market Analysis: Data specialist + industry expert reporting to lead analyst\n"
   ]
  },
  {
   "cell_type": "markdown",
   "id": "4a8e51b1-4337-490e-b54a-a4438dbedc0c",
   "metadata": {},
   "source": [
    "#### 3. Hierarchical Topology\n",
    "Tree structure with parent-child relationships, ideal for layered processing and clear reporting lines.\n",
    "\n",
    "\n",
    "                      +-------------+\n",
    "                      | Executive   |\n",
    "                      +-------------+\n",
    "                     /              \\\n",
    "                    /                \\\n",
    "           +-------------+          +-------------+\n",
    "           |  Manager 1  |          |  Manager 2  |\n",
    "           +-------------+          +-------------+\n",
    "              /      \\                  /      \\\n",
    "             /        \\                /        \\\n",
    "        +------+    +------+    +------+    +------+\n",
    "        |Worker|    |Worker|    |Worker|    |Worker|\n",
    "        |  1   |    |  2   |    |  3   |    |  4   |\n",
    "        +------+    +------+    +------+    +------+\n",
    "\n"
   ]
  },
  {
   "cell_type": "markdown",
   "id": "aa84f19b-4161-4f9e-8236-c57b4336b1f2",
   "metadata": {},
   "source": [
    "**Example applications:**\n",
    "\n",
    "1. Content production with editorial oversight\n",
    "2. Project management with task delegation\n",
    "\n"
   ]
  },
  {
   "cell_type": "markdown",
   "id": "d79a5a53-a76b-46d3-b9ef-d9929467ed94",
   "metadata": {},
   "source": [
    "### Supported Actions\n",
    "The agent_graph tool supports five primary actions:\n",
    "\n",
    "1. create: Build a new agent network with specified topology\n",
    "2. message: Send information to a specific agent in the network\n",
    "3. status: Check the current state of an agent network\n",
    "4. list: View all active agent networks\n",
    "5. stop: Terminate an agent network when it's no longer needed"
   ]
  },
  {
   "cell_type": "markdown",
   "id": "929ae7e4-e824-4d19-af6a-680836ff168a",
   "metadata": {},
   "source": [
    "## Setup and Installation\n",
    "\n",
    "First, let's make sure we have the Phoenix SDK installed with the agent_graph tool.\n",
    "\n"
   ]
  },
  {
   "cell_type": "code",
   "execution_count": 1,
   "id": "b916cdf3-428c-4574-8cfa-5b1903f4a952",
   "metadata": {},
   "outputs": [
    {
     "name": "stdout",
     "output_type": "stream",
     "text": [
      "Requirement already satisfied: strands-agents in /opt/conda/lib/python3.12/site-packages (from -r requirements.txt (line 1)) (0.1.9)\n",
      "Requirement already satisfied: strands-agents-tools in /opt/conda/lib/python3.12/site-packages (from -r requirements.txt (line 2)) (0.1.7)\n",
      "Requirement already satisfied: boto3<2.0.0,>=1.26.0 in /opt/conda/lib/python3.12/site-packages (from strands-agents->-r requirements.txt (line 1)) (1.37.1)\n",
      "Requirement already satisfied: botocore<2.0.0,>=1.29.0 in /opt/conda/lib/python3.12/site-packages (from strands-agents->-r requirements.txt (line 1)) (1.37.1)\n",
      "Requirement already satisfied: docstring-parser<1.0,>=0.15 in /opt/conda/lib/python3.12/site-packages (from strands-agents->-r requirements.txt (line 1)) (0.16)\n",
      "Requirement already satisfied: mcp<2.0.0,>=1.8.0 in /opt/conda/lib/python3.12/site-packages (from strands-agents->-r requirements.txt (line 1)) (1.10.1)\n",
      "Requirement already satisfied: opentelemetry-api<2.0.0,>=1.30.0 in /opt/conda/lib/python3.12/site-packages (from strands-agents->-r requirements.txt (line 1)) (1.33.1)\n",
      "Requirement already satisfied: opentelemetry-sdk<2.0.0,>=1.30.0 in /opt/conda/lib/python3.12/site-packages (from strands-agents->-r requirements.txt (line 1)) (1.33.1)\n",
      "Requirement already satisfied: pydantic<3.0.0,>=2.0.0 in /opt/conda/lib/python3.12/site-packages (from strands-agents->-r requirements.txt (line 1)) (2.11.4)\n",
      "Requirement already satisfied: typing-extensions<5.0.0,>=4.13.2 in /opt/conda/lib/python3.12/site-packages (from strands-agents->-r requirements.txt (line 1)) (4.13.2)\n",
      "Requirement already satisfied: watchdog<7.0.0,>=6.0.0 in /opt/conda/lib/python3.12/site-packages (from strands-agents->-r requirements.txt (line 1)) (6.0.0)\n",
      "Requirement already satisfied: aws-requests-auth<0.5.0,>=0.4.3 in /opt/conda/lib/python3.12/site-packages (from strands-agents-tools->-r requirements.txt (line 2)) (0.4.3)\n",
      "Requirement already satisfied: colorama<0.5.0,>=0.4.6 in /opt/conda/lib/python3.12/site-packages (from strands-agents-tools->-r requirements.txt (line 2)) (0.4.6)\n",
      "Requirement already satisfied: dill<0.5.0,>=0.4.0 in /opt/conda/lib/python3.12/site-packages (from strands-agents-tools->-r requirements.txt (line 2)) (0.4.0)\n",
      "Requirement already satisfied: pillow<12.0.0,>=11.2.1 in /opt/conda/lib/python3.12/site-packages (from strands-agents-tools->-r requirements.txt (line 2)) (11.2.1)\n",
      "Requirement already satisfied: prompt-toolkit<4.0.0,>=3.0.51 in /opt/conda/lib/python3.12/site-packages (from strands-agents-tools->-r requirements.txt (line 2)) (3.0.51)\n",
      "Requirement already satisfied: pyjwt<3.0.0,>=2.10.1 in /opt/conda/lib/python3.12/site-packages (from strands-agents-tools->-r requirements.txt (line 2)) (2.10.1)\n",
      "Requirement already satisfied: rich<15.0.0,>=14.0.0 in /opt/conda/lib/python3.12/site-packages (from strands-agents-tools->-r requirements.txt (line 2)) (14.0.0)\n",
      "Requirement already satisfied: slack-bolt<2.0.0,>=1.23.0 in /opt/conda/lib/python3.12/site-packages (from strands-agents-tools->-r requirements.txt (line 2)) (1.23.0)\n",
      "Requirement already satisfied: sympy<2.0.0,>=1.12.0 in /opt/conda/lib/python3.12/site-packages (from strands-agents-tools->-r requirements.txt (line 2)) (1.14.0)\n",
      "Requirement already satisfied: tenacity<10.0.0,>=9.1.2 in /opt/conda/lib/python3.12/site-packages (from strands-agents-tools->-r requirements.txt (line 2)) (9.1.2)\n",
      "Requirement already satisfied: requests>=0.14.0 in /opt/conda/lib/python3.12/site-packages (from aws-requests-auth<0.5.0,>=0.4.3->strands-agents-tools->-r requirements.txt (line 2)) (2.32.3)\n",
      "Requirement already satisfied: jmespath<2.0.0,>=0.7.1 in /opt/conda/lib/python3.12/site-packages (from boto3<2.0.0,>=1.26.0->strands-agents->-r requirements.txt (line 1)) (1.0.1)\n",
      "Requirement already satisfied: s3transfer<0.12.0,>=0.11.0 in /opt/conda/lib/python3.12/site-packages (from boto3<2.0.0,>=1.26.0->strands-agents->-r requirements.txt (line 1)) (0.11.3)\n",
      "Requirement already satisfied: python-dateutil<3.0.0,>=2.1 in /opt/conda/lib/python3.12/site-packages (from botocore<2.0.0,>=1.29.0->strands-agents->-r requirements.txt (line 1)) (2.9.0.post0)\n",
      "Requirement already satisfied: urllib3!=2.2.0,<3,>=1.25.4 in /opt/conda/lib/python3.12/site-packages (from botocore<2.0.0,>=1.29.0->strands-agents->-r requirements.txt (line 1)) (2.4.0)\n",
      "Requirement already satisfied: anyio>=4.5 in /opt/conda/lib/python3.12/site-packages (from mcp<2.0.0,>=1.8.0->strands-agents->-r requirements.txt (line 1)) (4.9.0)\n",
      "Requirement already satisfied: httpx-sse>=0.4 in /opt/conda/lib/python3.12/site-packages (from mcp<2.0.0,>=1.8.0->strands-agents->-r requirements.txt (line 1)) (0.4.0)\n",
      "Requirement already satisfied: httpx>=0.27 in /opt/conda/lib/python3.12/site-packages (from mcp<2.0.0,>=1.8.0->strands-agents->-r requirements.txt (line 1)) (0.28.1)\n",
      "Requirement already satisfied: jsonschema>=4.20.0 in /opt/conda/lib/python3.12/site-packages (from mcp<2.0.0,>=1.8.0->strands-agents->-r requirements.txt (line 1)) (4.23.0)\n",
      "Requirement already satisfied: pydantic-settings>=2.5.2 in /opt/conda/lib/python3.12/site-packages (from mcp<2.0.0,>=1.8.0->strands-agents->-r requirements.txt (line 1)) (2.9.1)\n",
      "Requirement already satisfied: python-multipart>=0.0.9 in /opt/conda/lib/python3.12/site-packages (from mcp<2.0.0,>=1.8.0->strands-agents->-r requirements.txt (line 1)) (0.0.20)\n",
      "Requirement already satisfied: sse-starlette>=1.6.1 in /opt/conda/lib/python3.12/site-packages (from mcp<2.0.0,>=1.8.0->strands-agents->-r requirements.txt (line 1)) (2.3.6)\n",
      "Requirement already satisfied: starlette>=0.27 in /opt/conda/lib/python3.12/site-packages (from mcp<2.0.0,>=1.8.0->strands-agents->-r requirements.txt (line 1)) (0.46.2)\n",
      "Requirement already satisfied: uvicorn>=0.23.1 in /opt/conda/lib/python3.12/site-packages (from mcp<2.0.0,>=1.8.0->strands-agents->-r requirements.txt (line 1)) (0.34.2)\n",
      "Requirement already satisfied: deprecated>=1.2.6 in /opt/conda/lib/python3.12/site-packages (from opentelemetry-api<2.0.0,>=1.30.0->strands-agents->-r requirements.txt (line 1)) (1.2.18)\n",
      "Requirement already satisfied: importlib-metadata<8.7.0,>=6.0 in /opt/conda/lib/python3.12/site-packages (from opentelemetry-api<2.0.0,>=1.30.0->strands-agents->-r requirements.txt (line 1)) (6.10.0)\n",
      "Requirement already satisfied: opentelemetry-semantic-conventions==0.54b1 in /opt/conda/lib/python3.12/site-packages (from opentelemetry-sdk<2.0.0,>=1.30.0->strands-agents->-r requirements.txt (line 1)) (0.54b1)\n",
      "Requirement already satisfied: wcwidth in /opt/conda/lib/python3.12/site-packages (from prompt-toolkit<4.0.0,>=3.0.51->strands-agents-tools->-r requirements.txt (line 2)) (0.2.13)\n",
      "Requirement already satisfied: annotated-types>=0.6.0 in /opt/conda/lib/python3.12/site-packages (from pydantic<3.0.0,>=2.0.0->strands-agents->-r requirements.txt (line 1)) (0.7.0)\n",
      "Requirement already satisfied: pydantic-core==2.33.2 in /opt/conda/lib/python3.12/site-packages (from pydantic<3.0.0,>=2.0.0->strands-agents->-r requirements.txt (line 1)) (2.33.2)\n",
      "Requirement already satisfied: typing-inspection>=0.4.0 in /opt/conda/lib/python3.12/site-packages (from pydantic<3.0.0,>=2.0.0->strands-agents->-r requirements.txt (line 1)) (0.4.0)\n",
      "Requirement already satisfied: markdown-it-py>=2.2.0 in /opt/conda/lib/python3.12/site-packages (from rich<15.0.0,>=14.0.0->strands-agents-tools->-r requirements.txt (line 2)) (3.0.0)\n",
      "Requirement already satisfied: pygments<3.0.0,>=2.13.0 in /opt/conda/lib/python3.12/site-packages (from rich<15.0.0,>=14.0.0->strands-agents-tools->-r requirements.txt (line 2)) (2.19.1)\n",
      "Requirement already satisfied: slack_sdk<4,>=3.35.0 in /opt/conda/lib/python3.12/site-packages (from slack-bolt<2.0.0,>=1.23.0->strands-agents-tools->-r requirements.txt (line 2)) (3.35.0)\n",
      "Requirement already satisfied: mpmath<1.4,>=1.1.0 in /opt/conda/lib/python3.12/site-packages (from sympy<2.0.0,>=1.12.0->strands-agents-tools->-r requirements.txt (line 2)) (1.3.0)\n",
      "Requirement already satisfied: idna>=2.8 in /opt/conda/lib/python3.12/site-packages (from anyio>=4.5->mcp<2.0.0,>=1.8.0->strands-agents->-r requirements.txt (line 1)) (3.10)\n",
      "Requirement already satisfied: sniffio>=1.1 in /opt/conda/lib/python3.12/site-packages (from anyio>=4.5->mcp<2.0.0,>=1.8.0->strands-agents->-r requirements.txt (line 1)) (1.3.1)\n",
      "Requirement already satisfied: wrapt<2,>=1.10 in /opt/conda/lib/python3.12/site-packages (from deprecated>=1.2.6->opentelemetry-api<2.0.0,>=1.30.0->strands-agents->-r requirements.txt (line 1)) (1.17.2)\n",
      "Requirement already satisfied: certifi in /opt/conda/lib/python3.12/site-packages (from httpx>=0.27->mcp<2.0.0,>=1.8.0->strands-agents->-r requirements.txt (line 1)) (2025.4.26)\n",
      "Requirement already satisfied: httpcore==1.* in /opt/conda/lib/python3.12/site-packages (from httpx>=0.27->mcp<2.0.0,>=1.8.0->strands-agents->-r requirements.txt (line 1)) (1.0.9)\n",
      "Requirement already satisfied: h11>=0.16 in /opt/conda/lib/python3.12/site-packages (from httpcore==1.*->httpx>=0.27->mcp<2.0.0,>=1.8.0->strands-agents->-r requirements.txt (line 1)) (0.16.0)\n",
      "Requirement already satisfied: zipp>=0.5 in /opt/conda/lib/python3.12/site-packages (from importlib-metadata<8.7.0,>=6.0->opentelemetry-api<2.0.0,>=1.30.0->strands-agents->-r requirements.txt (line 1)) (3.21.0)\n",
      "Requirement already satisfied: attrs>=22.2.0 in /opt/conda/lib/python3.12/site-packages (from jsonschema>=4.20.0->mcp<2.0.0,>=1.8.0->strands-agents->-r requirements.txt (line 1)) (23.2.0)\n",
      "Requirement already satisfied: jsonschema-specifications>=2023.03.6 in /opt/conda/lib/python3.12/site-packages (from jsonschema>=4.20.0->mcp<2.0.0,>=1.8.0->strands-agents->-r requirements.txt (line 1)) (2025.4.1)\n",
      "Requirement already satisfied: referencing>=0.28.4 in /opt/conda/lib/python3.12/site-packages (from jsonschema>=4.20.0->mcp<2.0.0,>=1.8.0->strands-agents->-r requirements.txt (line 1)) (0.36.2)\n",
      "Requirement already satisfied: rpds-py>=0.7.1 in /opt/conda/lib/python3.12/site-packages (from jsonschema>=4.20.0->mcp<2.0.0,>=1.8.0->strands-agents->-r requirements.txt (line 1)) (0.25.0)\n",
      "Requirement already satisfied: mdurl~=0.1 in /opt/conda/lib/python3.12/site-packages (from markdown-it-py>=2.2.0->rich<15.0.0,>=14.0.0->strands-agents-tools->-r requirements.txt (line 2)) (0.1.2)\n",
      "Requirement already satisfied: python-dotenv>=0.21.0 in /opt/conda/lib/python3.12/site-packages (from pydantic-settings>=2.5.2->mcp<2.0.0,>=1.8.0->strands-agents->-r requirements.txt (line 1)) (1.1.0)\n",
      "Requirement already satisfied: six>=1.5 in /opt/conda/lib/python3.12/site-packages (from python-dateutil<3.0.0,>=2.1->botocore<2.0.0,>=1.29.0->strands-agents->-r requirements.txt (line 1)) (1.17.0)\n",
      "Requirement already satisfied: charset_normalizer<4,>=2 in /opt/conda/lib/python3.12/site-packages (from requests>=0.14.0->aws-requests-auth<0.5.0,>=0.4.3->strands-agents-tools->-r requirements.txt (line 2)) (3.4.2)\n",
      "Requirement already satisfied: click>=7.0 in /opt/conda/lib/python3.12/site-packages (from uvicorn>=0.23.1->mcp<2.0.0,>=1.8.0->strands-agents->-r requirements.txt (line 1)) (8.2.1)\n"
     ]
    }
   ],
   "source": [
    "!pip install -r requirements.txt"
   ]
  },
  {
   "cell_type": "code",
   "execution_count": 2,
   "id": "5058e219-8fb8-4503-8bbf-9e69dd06cf62",
   "metadata": {},
   "outputs": [],
   "source": [
    "# Now let's import the dependency packages import boto3\n",
    "from strands import Agent\n",
    "from strands_tools import agent_graph\n"
   ]
  },
  {
   "cell_type": "markdown",
   "id": "f4241ec9-0fe9-41b3-a53a-9a70846a5961",
   "metadata": {},
   "source": [
    "## Importing dependency packages "
   ]
  },
  {
   "cell_type": "code",
   "execution_count": 3,
   "id": "8a96c2df-0418-48c5-adcd-7224d3ebddf1",
   "metadata": {},
   "outputs": [],
   "source": [
    "# Now let's import the dependency packages import boto3\n",
    "import boto3\n",
    "import time\n",
    "import yaml\n",
    "import os\n",
    "import logging\n",
    "import base64\n",
    "import json\n",
    "from botocore.config import Config\n",
    "from typing import List, Dict\n",
    "import PyPDF2\n",
    "\n"
   ]
  },
  {
   "cell_type": "markdown",
   "id": "04a82ba0-b198-4c12-867c-70b5f928e007",
   "metadata": {},
   "source": [
    "## Understanding Agent Graph Basics\n",
    "\n",
    "Agent Graph allows you to create networks of specialized AI agents that can communicate with each other to solve complex problems. Let's understand the core concepts:\n",
    "\n",
    "- **Graph**: A collection of agents organized in a specific topology\n",
    "- **Nodes**: Individual agents with specific roles and system prompts\n",
    "- **Edges**: Communication paths between agents\n",
    "- **Topologies**: Different network structures (star, mesh, hierarchical)\n",
    "\n"
   ]
  },
  {
   "cell_type": "markdown",
   "id": "d62d4500-a6c7-4455-9422-e1c98d322ac9",
   "metadata": {},
   "source": [
    "## Loan Underwriting Workbench"
   ]
  },
  {
   "cell_type": "markdown",
   "id": "c6cd8132-e15e-4a8d-b39f-973c5d6a129c",
   "metadata": {},
   "source": [
    "## Building Different Network Topologies\n",
    "\n",
    "Let's explore different network topologies for various use cases:\n"
   ]
  },
  {
   "cell_type": "markdown",
   "id": "a7af1c02-e7b4-4c20-a329-1cd17bf2a0d3",
   "metadata": {},
   "source": [
    "###  Hierarchical  - Workbench team"
   ]
  },
  {
   "cell_type": "code",
   "execution_count": 4,
   "id": "8f5271e4-2710-4dbd-bc6c-7cf05cef6b2b",
   "metadata": {},
   "outputs": [],
   "source": [
    "def read_pdf(file_path):\n",
    "    \"\"\"\n",
    "    Read and extract text from a PDF file.\n",
    "    \n",
    "    Args:\n",
    "        file_path (str): Path to the PDF file\n",
    "        \n",
    "    Returns:\n",
    "        str: Extracted text from the PDF\n",
    "    \"\"\"\n",
    "    try:\n",
    "        # Open the PDF file in binary read mode\n",
    "        with open(file_path, 'rb') as file:\n",
    "            # Create a PDF reader object\n",
    "            pdf_reader = PyPDF2.PdfReader(file)\n",
    "            \n",
    "            # Get number of pages\n",
    "            num_pages = len(pdf_reader.pages)\n",
    "            print(f\"Total pages: {num_pages}\")\n",
    "            \n",
    "            # Extract text from each page\n",
    "            text = \"\"\n",
    "            for page_num in range(num_pages):\n",
    "                page = pdf_reader.pages[page_num]\n",
    "                text += page.extract_text()\n",
    "                \n",
    "            return text\n",
    "    \n",
    "    except FileNotFoundError:\n",
    "        return \"Error: The file was not found.\"\n",
    "    except PyPDF2.errors.PdfReadError:\n",
    "        return \"Error: Invalid PDF file or the file is encrypted.\"\n",
    "    except Exception as e:\n",
    "        return f\"Error: {str(e)}\"\n"
   ]
  },
  {
   "cell_type": "code",
   "execution_count": 16,
   "id": "b9a8e9b3-0a56-4370-a9d0-d9a972c833bf",
   "metadata": {},
   "outputs": [
    {
     "name": "stdout",
     "output_type": "stream",
     "text": [
      "Total pages: 10\n",
      "Total pages: 3\n",
      "Total pages: 3\n",
      "Total pages: 3\n",
      "Total pages: 2\n",
      "Total pages: 3\n",
      "Total pages: 4\n",
      "Total pages: 4\n",
      "Extracted text:\n",
      "Model: # CREDIT REPORT  ## CONFIDENTIAL INFORMATION  **Report Date:** June 11, 2024   **Report Number:** CR-78942615   **Consumer Name:** Joe Doe   **SSN:** XXX-XX-7845   **Current Address:** 2834 Maple Avenue, Apt 5B, Portland, OR 97214   **Previous Address:** 1267 College Drive, SeaRle, WA 98105  ---  ## CREDIT SCORE: 705  **Score Type:** FICO 8   **Score Range:** 300-850   **Score Date:** June 11, 2024  ### SCORE FACTORS AFFECTING YOUR CREDIT SCORE: 1. ProporZon of balances to credit limits on revolving accounts is too high 2. Length of Zme accounts have been established 3. Number of accounts with delinquency 4. Too many recent inquiries in the last 12 months  ---  ## CREDIT SUMMARY  **Accounts:** 12 Total   **Open Accounts:** 9   **Closed Accounts:** 3   **Delinquent Accounts:** 1   **Public Records:** 0   **CollecZons:** 0   **Average Account Age:** 8 years, 3 months   **Oldest Account:** 15 years, 2 months  ### ACCOUNT TYPES: - Revolving: 7 accounts - Installment: 5 accounts - Mo\n",
      "---  **SAMPLE BANK OF AMERICA** *For Tes7ng Purposes Only - Not a Real Statement*  ---  **STATEMENT PERIOD:** June 1, 2024 - July 31, 2024  **ACCOUNT HOLDER:** Joe Doe   **ACCOUNT NUMBER:** ****-****-1234   **STATEMENT DATE:** August 1, 2024  **ACCOUNT SUMMARY** - Beginning Balance (June 1): $2,847.32 - Total Deposits: $5,420.00 - Total Withdrawals: $4,156.78 - Ending Balance (July 31): $4,110.54  ---  **TRANSACTION HISTORY**  | Date | Descrip7on | Amount | Balance | |------|-------------|---------|---------| | 06/01 | Opening Balance | | $2,847.32 | | 06/03 | Direct Deposit - ACME CORP | +$2,100.00 | $4,947.32 | | 06/05 | ATM Withdrawal - Main St | -$80.00 | $4,867.32 | | 06/07 | Check #1234 - City Electric | -$127.45 | $4,739.87 | | 06/10 | Online Transfer - Savings | -$500.00 | $4,239.87 | | 06/12 | Debit Purchase - Grocery Store | -$89.23 | $4,150.64 | | 06/15 | Mobile Deposit | +$350.00 | $4,500.64 | | 06/18 | Direct Deposit - ACME CORP | +$2,100.00 | $6,600.64 | | 06/20 | Rent Pa\n",
      "Model: # PAYSTUB  **OCKTANK**  ---  **EMPLOYEE INFORMATION** - **Name:** Joe Doe - **Employee ID:** 00001 - **Department:** Engineering - **PosiIon:** ML Engineer - **Pay Period:** June 1, 2024 - July 31, 2024 - **Pay Date:** August 15, 2024  ---  **EARNINGS** | DescripIon | Hours | Rate | Amount | |-------------|-------|------|--------| | Regular Pay | 352.00 | $45.00 | $15,840.00 | | OverIme Pay | 16.00 | $67.50 | $1,080.00 | | **GROSS PAY** | | | **$16,920.00** |  ---  **DEDUCTIONS** | DescripIon | Amount | |-------------|--------| | Federal Income Tax | $2,538.00 | | State Income Tax | $845.00 | | Social Security Tax | $1,049.04 | | Medicare Tax | $245.34 | | Health Insurance | $320.00 | | Dental Insurance | $45.00 | | 401(k) ContribuIon | $846.00 | | **TOTAL DEDUCTIONS** | **$5,888.38** |  ---  **NET PAY SUMMARY** - **Gross Pay:** $16,920.00 - **Total DeducIons:** $5,888.38 - **NET PAY:** **$11,031.62**  ---  **YEAR-TO-DATE TOTALS** - **YTD Gross:** $101,520.00 - **YTD DeducIons:*\n"
     ]
    }
   ],
   "source": [
    "# Example usage\n",
    "if __name__ == \"__main__\":\n",
    "    pdf_path = \"data/JoeDoeCreditReport.pdf\"  # Replace with your PDF file path\n",
    "    extracted_JoeDoeCreditReport = read_pdf(pdf_path)\n",
    "    \n",
    "    pdf_path = \"data/JoeDoeBankStatement.pdf\"  # Replace with your PDF file path\n",
    "    extracted_JoeDoeBankStatement = read_pdf(pdf_path)\n",
    "    \n",
    "    pdf_path = \"data/JoeDoeBankStatement_2.pdf\"  # Replace with your PDF file path\n",
    "    extracted_JoeDoeBankStatement_2 = read_pdf(pdf_path)\n",
    "    \n",
    "    pdf_path = \"data/JoeDoePayStub.pdf\"  # Replace with your PDF file path\n",
    "    extracted_JoeDoePayStub = read_pdf(pdf_path)\n",
    "\n",
    "    pdf_path = \"data/JoeDoeIDVerification.pdf\"  # Replace with your PDF file path\n",
    "    extracted_JoeDoeIDVerification = read_pdf(pdf_path)\n",
    "\n",
    "    pdf_path = \"data/JoeDoeTaxes.pdf\"  # Replace with your PDF file path\n",
    "    extracted_JoeDoeTaxes = read_pdf(pdf_path)\n",
    "\n",
    "    pdf_path = \"data/JoeDoeLoanApplication.pdf\"  # Replace with your PDF file path\n",
    "    extracted_JoeDoeLoanApplication = read_pdf(pdf_path)\n",
    "\n",
    "    pdf_path = \"data/JoeDoePropertyInfo.pdf\"  # Replace with your PDF file path\n",
    "    extracted_JoeDoePropertyInfo = read_pdf(pdf_path)\n",
    "    \n",
    "    print(\"Extracted text:\")\n",
    "    print(extracted_JoeDoeCreditReport[0:1000])\n",
    "    print(extracted_JoeDoeBankStatement[0:1000])\n",
    "    print(extracted_JoeDoePayStub[0:1000])"
   ]
  },
  {
   "cell_type": "code",
   "execution_count": 24,
   "id": "0f5cca2f-9242-4645-b256-e78f08e86b42",
   "metadata": {},
   "outputs": [],
   "source": [
    "agent = Agent(tools=[agent_graph])"
   ]
  },
  {
   "cell_type": "code",
   "execution_count": 25,
   "id": "451aa15a-0a0a-4c97-a985-3b62bea750ac",
   "metadata": {},
   "outputs": [
    {
     "data": {
      "text/html": [
       "<pre style=\"white-space:pre;overflow-x:auto;line-height:normal;font-family:Menlo,'DejaVu Sans Mono',consolas,'Courier New',monospace\"></pre>\n"
      ],
      "text/plain": []
     },
     "metadata": {},
     "output_type": "display_data"
    },
    {
     "data": {
      "text/plain": [
       "{'toolUseId': 'tooluse_agent_graph_122770777',\n",
       " 'status': 'success',\n",
       " 'content': [{'text': 'Graph loan_workbench created and started'}]}"
      ]
     },
     "execution_count": 25,
     "metadata": {},
     "output_type": "execute_result"
    },
    {
     "name": "stdout",
     "output_type": "stream",
     "text": [
      "# Loan Underwriting Report for Joe Doe\n",
      "\n",
      "## Executive Summary\n",
      "After analyzing the complete application package for Joe Doe, I recommend **CONDITIONAL APPROVAL** for the mortgage loan request of $304,000 for the property at 1247 Maple Grove Lane, Springfield, IL 62704. There are some minor discrepancies in the documentation that need to be clarified before final approval.\n",
      "\n",
      "## Application Details\n",
      "- **Applicant:** Joe Doe\n",
      "- **Loan Request:** $304,000 mortgage for primary residence\n",
      "- **Property Value:** $385,000 (per appraisal)\n",
      "- **Down Payment:** $76,000 (20%)\n",
      "- **Loan-to-Value Ratio:** 79%\n",
      "- **Term Requested:** 30 years, fixed rate\n",
      "\n",
      "## Credit Analysis\n",
      "- **Credit Score:** 705 (FICO 8)\n",
      "- **Credit History:** Generally positive with minimal delinquencies\n",
      "  - One 30-day late payment on Chase card (July 2021)\n",
      "  - One 30-day late payment on Capital One (March 2022)\n",
      "- **Revolving Accounts:** 7 (5 active, 2 closed)\n",
      "- **Installment Accounts:** 5 (all current)\n",
      "- **Credit Utilization:** 29% ($8,637 of $29,500)\n",
      "- **Total Debt:** $37,842\n",
      "\n",
      "## Income Verification\n",
      "- **Employer:** TechCorp Solutions Inc. (reported on application as 5 years tenure)\n",
      "- **Position:** ML Engineer at Ocktank (discrepancy from application which states Senior Software Engineer)\n",
      "- **Monthly Income:** $8,460 ($16,920 bi-monthly per paystub)\n",
      "- **Annual Income:** $101,520 (verified from paystub YTD information)\n",
      "- **Income Stability:** Consistent direct deposits observed in bank statements\n",
      "\n",
      "## Asset Verification\n",
      "- **Checking Account Balance:** $4,110.54 (Bank of America)\n",
      "- **Additional Checking:** $2,322.50 (First National Bank)\n",
      "- **Total Liquid Assets:** $6,433.04 (verified)\n",
      "- **Down Payment Source:** Not fully verified in provided documents\n",
      "\n",
      "## Debt-to-Income Analysis\n",
      "- **Monthly Gross Income:** $8,460\n",
      "- **Current Monthly Debt Payments:**\n",
      "  - Auto Loan: $415\n",
      "  - Student Loans: $500 (combined)\n",
      "  - Credit Cards (minimum payments): ~$200\n",
      "  - Total Monthly Debt: ~$1,115\n",
      "- **Proposed Mortgage Payment:** ~$1,900 (estimated with taxes and insurance)\n",
      "- **Front-End DTI:** 22.5% (mortgage only)\n",
      "- **Back-End DTI:** 35.6% (all debts including mortgage)\n",
      "\n",
      "## Property Analysis\n",
      "- **Property Type:** Single Family Residence, built in 2018\n",
      "- **Appraisal Value:** $385,000\n",
      "- **Purchase Price:** $380,000\n",
      "- **Location:** Springfield, IL 62704\n",
      "- **Property Tax:** $4,620 annually\n",
      "- **Insurance Estimate:** $1,380 annually\n",
      "- **Flood Zone:** X (Minimal Risk, no flood insurance required)\n",
      "\n",
      "## Discrepancies and Missing Information\n",
      "1. **SSN Discrepancies:** Different SSNs appear across documents (XXX-XX-7845 on credit report, XXX-XX-1234 on application, XXX-XX-4829 on appraisal)\n",
      "2. **Employment Information:** Job title discrepancy (ML Engineer vs. Senior Software Engineer)\n",
      "3. **Address Verification:** Current address on application (123 Maple Street) differs from credit report (2834 Maple Avenue)\n",
      "4. **Missing Documents:**\n",
      "   - Verification of down payment source\n",
      "   - Complete bank statements to verify sufficient funds\n",
      "   - Employer verification letter\n",
      "   - Government ID with consistent information\n",
      "\n",
      "## Risk Assessment\n",
      "- **Positive Factors:**\n",
      "  - Good credit score (705)\n",
      "  - Stable employment with consistent income\n",
      "  - Strong property value and 20% down payment\n",
      "  - Low LTV ratio (79%)\n",
      "  - Acceptable DTI ratios (22.5% front-end, 35.6% back-end)\n",
      "\n",
      "- **Risk Factors:**\n",
      "  - Information inconsistencies across documents\n",
      "  - Limited liquid assets verified\n",
      "  - Some minor credit delinquencies in past 3 years\n",
      "\n",
      "## Conditional Approval Requirements\n",
      "The following conditions must be satisfied prior to final loan approval:\n",
      "\n",
      "1. Verification of SSN discrepancy - provide valid government-issued ID with matching SSN\n",
      "2. Employer verification letter confirming position, salary, and tenure\n",
      "3. Documentation of down payment source\n",
      "4. Complete bank statements for the past 2 months from all accounts\n",
      "5. Explanation of address discrepancies\n",
      "\n",
      "## Proposed Loan Terms\n",
      "- **Loan Amount:** $304,000\n",
      "- **Interest Rate:** Market rate for borrower with 705 credit score\n",
      "- **Term:** 30 years, fixed rate\n",
      "- **Monthly Principal & Interest:** ~$1,450 (estimated)\n",
      "- **Monthly Escrow:** ~$500 (taxes and insurance)\n",
      "- **Total Monthly Payment:** ~$1,950 (estimated)\n",
      "\n",
      "## Final Recommendation\n",
      "**CONDITIONAL APPROVAL** pending resolution of the identified discrepancies and submission of missing documentation. The applicant demonstrates adequate income, acceptable credit history, and the property meets collateral requirements.\n",
      "\n",
      "---\n",
      "\n",
      "*This underwriting report was prepared on [Current Date] by the Loan Underwriting Supervisor Agent. All information is confidential and for internal use only.*"
     ]
    }
   ],
   "source": [
    "# Example: Create a Workbench team\n",
    "agent.tool.agent_graph(\n",
    "    action=\"create\",\n",
    "    graph_id=\"loan_workbench\",\n",
    "    topology={\n",
    "        \"type\": \"hierarchical\",\n",
    "        \"nodes\": [\n",
    "            {\"id\": \"loan_underwriting_supervisor_agent\", \n",
    "             \"role\": \"executive\",\n",
    "             \"model_id\": \"us.anthropic.claude-3-5-sonnet-20241022-v2:0\", \n",
    "             \"system_prompt\": f\"\"\"\n",
    "                You are the Loan Underwriting Supervisor Agent responsible for orchestrating the complete loan underwriting process. Your responsibilities include:\n",
    "\n",
    "                1. Receive and validate loan applications\n",
    "                2. Coordinate with manager agents to execute underwriting tasks\n",
    "                3. Monitor progress and handle escalations\n",
    "                4. Aggregate results from all assessment domains\n",
    "                5. Make final loan approval/rejection decisions based on comprehensive analysis\n",
    "                6. Ensure compliance with lending policies and regulations\n",
    "                7. Generate final underwriting reports\n",
    "                \n",
    "                Process Flow:\n",
    "                - Start with application validation\n",
    "                - Delegate tasks to appropriate manager agents\n",
    "                - Monitor and coordinate parallel processing\n",
    "                - Collect and analyze results from all domains\n",
    "                - Apply business rules and lending policies\n",
    "                - Make final decision and generate documentation\n",
    "                \n",
    "                Decision Criteria:\n",
    "                - Credit score thresholds\n",
    "                - Debt-to-income ratios\n",
    "                - Collateral value\n",
    "                - Risk assessment scores\n",
    "                - Regulatory compliance status\n",
    "             \"\"\"\n",
    "            },\n",
    "            {\"id\": \"financial_analysis_manager\", \n",
    "             \"role\": \"manager\", \n",
    "             \"model_id\": \"us.anthropic.claude-3-5-sonnet-20241022-v2:0\",\n",
    "             \"system_prompt\": f\"\"\"\n",
    "                You are the Financial Analuysis Manager responsible for comprehensive credit evaluation and income verification.\n",
    "                Your tasks include:\n",
    "\n",
    "                1. Coordinate tasks between the Credit Assessment Agent and the Verification Agent \n",
    "                2. Share required data between the Credit Assessment Agent and the Verification Agent \n",
    "                3. Provide overall Financial analysis and credit worthiness \n",
    "         \n",
    "             \"\"\"\n",
    "            },\n",
    "            {\"id\": \"risk_analysis_manager\", \n",
    "             \"role\": \"manager\", \n",
    "             \"model_id\": \"us.anthropic.claude-3-5-sonnet-20241022-v2:0\",\n",
    "             \"system_prompt\": f\"\"\"\n",
    "                You are the Risk Analysis Manager responsible for evaluating loan risks and detecting potential fraud. Your duties include:\n",
    "\n",
    "                1. Coordinate risk scoring and probability analysis\n",
    "                2. Oversee fraud detection processes\n",
    "                3. Analyze market and economic risk factors\n",
    "                4. Evaluate borrower risk profile\n",
    "                5. Assess collateral and security risks\n",
    "                6. Provide consolidated risk assessment\n",
    "                \n",
    "                Risk Categories:\n",
    "                - Credit risk (default probability)\n",
    "                - Fraud risk (application authenticity)\n",
    "                - Market risk (economic factors)\n",
    "                - Operational risk (process failures)\n",
    "                - Concentration risk (portfolio impact)\n",
    "         \n",
    "             \"\"\"\n",
    "            },\n",
    "            \n",
    "            {\"id\": \"credit_assessment_agent\", \n",
    "             \"role\": \"specialist\", \n",
    "             \"model_id\": \"us.anthropic.claude-3-5-sonnet-20241022-v2:0\",\n",
    "             \"system_prompt\": f\"\"\"\n",
    "                You are the Credit Assessment agent responsible for comprehensive credit evaluation. Your tasks include:\n",
    "\n",
    "                1. Coordinate credit score analysis with Credit Score Agent\n",
    "                2. Analyze credit history patterns and trends\n",
    "                3. Evaluate credit utilization and payment history\n",
    "                4. Assess credit mix and account age\n",
    "                5. Identify credit red flags or concerns\n",
    "                6. Provide consolidated credit assessment summary\n",
    "                \n",
    "                Focus Areas:\n",
    "                - FICO/VantageScore analysis\n",
    "                - Credit report anomalies\n",
    "                - Recent credit inquiries\n",
    "                - Derogatory marks evaluation\n",
    "                - Credit stability assessment\n",
    "                \n",
    "                Provide quantitative scores and qualitative insights for decision-making.\n",
    "               \n",
    "             \"\"\"\n",
    "            },\n",
    "            {\"id\": \"verification_agent\",\n",
    "             \"role\": \"specialist\", \n",
    "             \"model_id\": \"us.anthropic.claude-3-5-sonnet-20241022-v2:0\",\n",
    "             \"system_prompt\": f\"\"\"\n",
    "                You are the Verification Agent responsible for validating applicant financial information. Your responsibilities include:\n",
    "\n",
    "                1. Coordinate income verification through multiple sources\n",
    "                2. Validate employment status and stability\n",
    "                3. Verify asset declarations and documentation\n",
    "                4. Cross-reference financial statements\n",
    "                5. Identify discrepancies or inconsistencies\n",
    "                6. Provide comprehensive verification summary\n",
    "                \n",
    "                Verification Standards:\n",
    "                - Income source diversity and stability\n",
    "                - Employment tenure and position\n",
    "                - Asset liquidity and ownership\n",
    "                - Documentation authenticity\n",
    "                - Financial statement consistency\n",
    "\n",
    "                \n",
    "             \"\"\"\n",
    "            },\n",
    "            \n",
    "            {\"id\": \"risk_calculation_Agent\",\n",
    "             \"role\": \"specialist\", \n",
    "             \"model_id\": \"us.anthropic.claude-3-5-sonnet-20241022-v2:0\",\n",
    "             \"system_prompt\": f\"\"\"\"\n",
    "                You are the Risk Calculation Agent specialized in quantitative risk modeling. Your tasks:\n",
    "\n",
    "                1. Calculate probability of default (PD)\n",
    "                2. Estimate loss given default (LGD)\n",
    "                3. Assess exposure at default (EAD)\n",
    "                4. Compute risk-adjusted pricing\n",
    "                5. Analyze portfolio concentration risks\n",
    "                6. Generate risk scores and ratings\n",
    "                \n",
    "                Use statistical models and historical data for accurate risk quantification.\n",
    "             \"\"\"\n",
    "            },\n",
    "            {\"id\": \"fraud_detection_agent\",\n",
    "             \"role\": \"specialist\", \n",
    "             \"model_id\": \"us.anthropic.claude-3-5-sonnet-20241022-v2:0\",\n",
    "             \"system_prompt\": f\"\"\"\"\n",
    "                You are the Fraud Detection Agent focused on identifying fraudulent applications. Your responsibilities:\n",
    "\n",
    "                1. Analyze application data for inconsistencies\n",
    "                2. Detect synthetic identity fraud\n",
    "                3. Identify document manipulation or forgery\n",
    "                4. Flag suspicious behavioral patterns\n",
    "                5. Cross-reference against fraud databases\n",
    "                6. Generate fraud risk scores\n",
    "                \n",
    "                Use pattern recognition and anomaly detection techniques.\n",
    "             \"\"\"\n",
    "            },\n",
    "            {\"id\": \"policy_documentation_agent\", \n",
    "             \"role\": \"specialist\",\n",
    "             \"model_id\": \"us.anthropic.claude-3-5-sonnet-20241022-v2:0\",\n",
    "             \"system_prompt\": f\"\"\"\"\n",
    "                    You are the Documentation Agent responsible for loan file management. Your duties:\n",
    "        \n",
    "                    1. Compile complete loan documentation\n",
    "                    2. Ensure document completeness and accuracy\n",
    "                    3. Generate required disclosures and notices\n",
    "                    4. Create audit trails and decision logs\n",
    "                    5. Prepare final loan packages\n",
    "                    6. Archive documents per retention policies\n",
    "        \n",
    "                    Maintain comprehensive documentation for regulatory and audit purposes.\n",
    "             \"\"\"\n",
    "            }\n",
    "        ],\n",
    "        \"edges\": [\n",
    "            {\"from\": \"loan_underwriting_supervisor_agent\", \"to\": \"financial_analysis_manager\"},\n",
    "            {\"from\": \"loan_underwriting_supervisor_agent\", \"to\": \"risk_analysis_manager\"},\n",
    "            {\"from\": \"loan_underwriting_supervisor_agent\", \"to\": \"policy_documentation_agent\"},\n",
    "            \n",
    "            {\"from\": \"financial_analysis_manager\", \"to\": \"credit_assessment_agent\"},\n",
    "            {\"from\": \"financial_analysis_manager\", \"to\": \"verification_agent\"},\n",
    "            {\"from\": \"credit_assessment_agent\", \"to\": \"financial_analysis_manager\"},\n",
    "            {\"from\": \"verification_agent\", \"to\": \"financial_analysis_manager\"},\n",
    "\n",
    "            {\"from\": \"risk_analysis_manager\", \"to\": \"risk_calculation_Agent\"},\n",
    "            {\"from\": \"risk_analysis_manager\", \"to\": \"fraud_detection_agent\"},\n",
    "            {\"from\": \"risk_calculation_Agent\", \"to\": \"risk_analysis_manager\"},\n",
    "            {\"from\": \"fraud_detection_agent\", \"to\": \"risk_analysis_manager\"},\n",
    "            \n",
    "            {\"from\": \"risk_analysis_manager\", \"to\": \"loan_underwriting_supervisor_agent\"} \n",
    "\n",
    "        ]\n",
    "    }\n",
    ")"
   ]
  },
  {
   "cell_type": "code",
   "execution_count": 26,
   "id": "6caee581-8119-4aed-b3dc-79c14f79f001",
   "metadata": {},
   "outputs": [
    {
     "data": {
      "text/html": [
       "<pre style=\"white-space:pre;overflow-x:auto;line-height:normal;font-family:Menlo,'DejaVu Sans Mono',consolas,'Courier New',monospace\"></pre>\n"
      ],
      "text/plain": []
     },
     "metadata": {},
     "output_type": "display_data"
    },
    {
     "name": "stderr",
     "output_type": "stream",
     "text": [
      "❌ Error: Graph content_team not found\n"
     ]
    },
    {
     "name": "stdout",
     "output_type": "stream",
     "text": [
      "I'll help you shut down the loan_workbench agent graph when they're done with their task. Let's first check the current status of the graph to see where things stand.\n",
      "Tool #1: agent_graph\n"
     ]
    },
    {
     "data": {
      "text/html": [
       "<pre style=\"white-space:pre;overflow-x:auto;line-height:normal;font-family:Menlo,'DejaVu Sans Mono',consolas,'Courier New',monospace\"></pre>\n"
      ],
      "text/plain": []
     },
     "metadata": {},
     "output_type": "display_data"
    },
    {
     "name": "stdout",
     "output_type": "stream",
     "text": [
      "The loan_workbench graph is still active. The loan underwriting supervisor agent is likely processing the application package that was submitted. Once you believe they've completed their work, you can shut down the graph with the following command:\n",
      "Tool #2: agent_graph\n"
     ]
    },
    {
     "data": {
      "text/html": [
       "<pre style=\"white-space:pre;overflow-x:auto;line-height:normal;font-family:Menlo,'DejaVu Sans Mono',consolas,'Courier New',monospace\"></pre>\n"
      ],
      "text/plain": []
     },
     "metadata": {},
     "output_type": "display_data"
    },
    {
     "name": "stdout",
     "output_type": "stream",
     "text": [
      "The loan_workbench agent graph has been successfully shut down and removed. All the agents in the graph (the loan underwriting supervisor, financial analysis manager, risk analysis manager, and their respective specialist agents) have been terminated."
     ]
    },
    {
     "data": {
      "text/plain": [
       "AgentResult(stop_reason='end_turn', message={'role': 'assistant', 'content': [{'text': 'The loan_workbench agent graph has been successfully shut down and removed. All the agents in the graph (the loan underwriting supervisor, financial analysis manager, risk analysis manager, and their respective specialist agents) have been terminated.'}]}, metrics=EventLoopMetrics(cycle_count=3, tool_metrics={'agent_graph': ToolMetrics(tool={'toolUseId': 'tooluse_QdkpzKQHQHiyxcBVsMQ9qg', 'name': 'agent_graph', 'input': {'graph_id': 'loan_workbench', 'action': 'stop'}}, call_count=2, success_count=2, error_count=0, total_time=17.1572847366333)}, cycle_durations=[4.291293144226074], traces=[<strands.telemetry.metrics.Trace object at 0x7fde5830a9f0>, <strands.telemetry.metrics.Trace object at 0x7fde58c61160>, <strands.telemetry.metrics.Trace object at 0x7fde581b40b0>], accumulated_usage={'inputTokens': 58172, 'outputTokens': 291, 'totalTokens': 58463}, accumulated_metrics={'latencyMs': 13661}), state={})"
      ]
     },
     "execution_count": 26,
     "metadata": {},
     "output_type": "execute_result"
    }
   ],
   "source": [
    "# Send a task and check status\n",
    "agent.tool.agent_graph(\n",
    "    action=\"message\",\n",
    "    graph_id=\"loan_workbench\",\n",
    "    message={\n",
    "        \"target\": \"loan_underwriting_supervisor_agent\",\n",
    "        \"content\": f\"\"\"\n",
    "            I will give you an Loan Application submission package for Joe Doe. \n",
    "            Process each document, and extract require information to process the Loan application. \n",
    "            Keep track of the pending or missing documents\n",
    "            Provide final Approval recomendation.\n",
    "            Write the insurance policy and provide the final output\n",
    "\n",
    "            Retrieve information from the application package:\n",
    "            {extracted_JoeDoeCreditReport} \n",
    "            {extracted_JoeDoeBankStatement}\n",
    "            {extracted_JoeDoeBankStatement_2}\n",
    "            {extracted_JoeDoePayStub}\n",
    "            {extracted_JoeDoeIDVerification}\n",
    "            {extracted_JoeDoeLoanApplication}\n",
    "            {extracted_JoeDoePropertyInfo}\n",
    "            {extracted_JoeDoeTaxes}\n",
    "            \"\"\"\n",
    "    }\n",
    ")\n",
    "status = agent.tool.agent_graph(action=\"status\", graph_id=\"content_team\")\n",
    "\n",
    "\n",
    "# Manage the network\n",
    "agent(\"Shut down the loan_workbench team when they're done\")"
   ]
  },
  {
   "cell_type": "markdown",
   "id": "98836511-3653-4f54-b2ce-ce0c6ae5e52d",
   "metadata": {},
   "source": [
    "## Working with Agent Graphs\n",
    "\n",
    "Now let's practice sending messages and managing our agent networks:\n"
   ]
  },
  {
   "cell_type": "code",
   "execution_count": null,
   "id": "9751605a-22e4-4bc4-adef-ec27d7bda31e",
   "metadata": {},
   "outputs": [],
   "source": [
    " Send a new message to a specific agent. Pick from the ones we create above and test with different task request. \n",
    "agent.tool.agent_graph(\n",
    "    action=\"message\",\n",
    "    graph_id=\"nlp_team\",\n",
    "    message={\n",
    "        \"target\": \"coordinator\",\n",
    "        \"content\": \"Analyze this text for sentiment and key themes: 'The new product launch exceeded expectations, with customers praising its innovative features despite the higher price point.'\"\n",
    "    }\n",
    ")\n",
    "\n",
    "# Check the status of the NLP team\n",
    "nlp_status = agent.tool.agent_graph(action=\"status\", graph_id=\"nlp_team\")"
   ]
  },
  {
   "cell_type": "markdown",
   "id": "d41b3e5e-40d3-47e0-a9b0-6961572905bd",
   "metadata": {},
   "source": [
    "## Conclusion: When to use Agent Graph:\n",
    "1. For complex workflows with different agent roles\n",
    "2. When you need persistent agent state\n",
    "3. For custom communication topologies\n",
    "4. When you need fine-grained control over message routing"
   ]
  },
  {
   "cell_type": "markdown",
   "id": "bc04b5ed-5d5c-4a7d-b791-2268e6cb4ac9",
   "metadata": {},
   "source": [
    "##  Congrats!\n",
    "you've created and invoked collaboratoin using Multi-Agent systems with different topologies. As optional step, you can delete the prerequisite infrastructure created"
   ]
  }
 ],
 "metadata": {
  "kernelspec": {
   "display_name": "Python 3 (ipykernel)",
   "language": "python",
   "name": "python3"
  },
  "language_info": {
   "codemirror_mode": {
    "name": "ipython",
    "version": 3
   },
   "file_extension": ".py",
   "mimetype": "text/x-python",
   "name": "python",
   "nbconvert_exporter": "python",
   "pygments_lexer": "ipython3",
   "version": "3.12.9"
  }
 },
 "nbformat": 4,
 "nbformat_minor": 5
}
