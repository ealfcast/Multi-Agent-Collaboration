{
 "cells": [
  {
   "cell_type": "markdown",
   "metadata": {
    "pycharm": {
     "name": "#%% md\n"
    }
   },
   "source": [
    "# Example for usage ARc Policy via a tool for a Strands Agent"
   ]
  },
  {
   "cell_type": "markdown",
   "metadata": {},
   "source": [
    "Install requirements"
   ]
  },
  {
   "cell_type": "code",
   "execution_count": null,
   "metadata": {},
   "outputs": [],
   "source": [
    "%pip install -r requirements.txt"
   ]
  },
  {
   "cell_type": "markdown",
   "metadata": {},
   "source": [
    "## Setup for the agent"
   ]
  },
  {
   "cell_type": "code",
   "execution_count": null,
   "metadata": {},
   "outputs": [],
   "source": [
    "from strands import Agent, tool\n",
    "from strands.models import BedrockModel\n",
    "import boto3"
   ]
  },
  {
   "cell_type": "code",
   "execution_count": null,
   "metadata": {},
   "outputs": [],
   "source": [
    "# Supply the pre-installed polciy and guardrail IDs\n",
    "ARC_POLICY_ID = \"<Fill in from value from the CFN Stack>\"\n",
    "GUARDRAIL_ID = \"<Fill in from value from the CFN Stack>\"\n",
    "GUARDRAIL_VERSION = \"DRAFT\"\n",
    "MODEL_ID = \"anthropic.claude-3-5-sonnet-20241022-v2:0\""
   ]
  },
  {
   "cell_type": "code",
   "execution_count": null,
   "metadata": {
    "scrolled": true
   },
   "outputs": [],
   "source": [
    "# Create a Bedrock model with guardrail configuration\n",
    "bedrock_model = BedrockModel(\n",
    "    model_id=MODEL_ID,\n",
    "    guardrail_id=GUARDRAIL_ID,\n",
    "    guardrail_version=GUARDRAIL_VERSION,\n",
    "    guardrail_trace=\"enabled\",\n",
    ")\n",
    "\n",
    "# Create agent with the guardrail-protected model\n",
    "auto_policy_agent = Agent(\n",
    "    system_prompt=\"You are a helpful assistant that will answer questions related to auto insurance policy\",\n",
    "    model=bedrock_model,\n",
    ")\n",
    "\n",
    "# Use the protected agent for conversations\n",
    "response = auto_policy_agent(\"If I have a trailer and I get into an accident is that considered a seperate vehical?\")\n",
    "\n",
    "# Handle potential guardrail interventions\n",
    "if response.stop_reason == \"guardrail_intervened\":\n",
    "    print(\"Content was blocked by guardrails, conversation context overwritten!\")\n",
    "\n",
    "print(f\"Conversation: {json.dumps(agent.messages, indent=4)}\")\n"
   ]
  }
 ],
 "metadata": {
  "kernelspec": {
   "display_name": ".venv",
   "language": "python",
   "name": "python3"
  },
  "language_info": {
   "codemirror_mode": {
    "name": "ipython",
    "version": 3
   },
   "file_extension": ".py",
   "mimetype": "text/x-python",
   "name": "python",
   "nbconvert_exporter": "python",
   "pygments_lexer": "ipython3",
   "version": "3.13.7"
  }
 },
 "nbformat": 4,
 "nbformat_minor": 4
}
