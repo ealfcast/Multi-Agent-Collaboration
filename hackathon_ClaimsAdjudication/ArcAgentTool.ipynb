{
 "cells": [
  {
   "cell_type": "markdown",
   "metadata": {
    "pycharm": {
     "name": "#%% md\n"
    }
   },
   "source": [
    "# Example for usage ARc Policy via a tool for a Strands Agent"
   ]
  },
  {
   "cell_type": "markdown",
   "metadata": {},
   "source": [
    "Install requirements"
   ]
  },
  {
   "cell_type": "code",
   "execution_count": null,
   "metadata": {},
   "outputs": [],
   "source": [
    "%pip install -r requirements.txt"
   ]
  },
  {
   "cell_type": "markdown",
   "metadata": {},
   "source": [
    "## Setup for the agent"
   ]
  },
  {
   "cell_type": "code",
   "execution_count": null,
   "metadata": {},
   "outputs": [],
   "source": [
    "from strands import Agent\n",
    "from strands.models import BedrockModel\n",
    "import boto3\n",
    "from botocore.config import Config as BotocoreConfig\n",
    "from strands.telemetry import StrandsTelemetry\n",
    "import logging\n",
    "\n",
    "# Configure the root strands logger\n",
    "logging.getLogger(\"strands\").setLevel(logging.DEBUG)\n",
    "\n",
    "# Add a handler to see the logs\n",
    "logging.basicConfig(\n",
    "    format=\"%(levelname)s | %(name)s | %(message)s\", \n",
    "    handlers=[logging.StreamHandler()]\n",
    ")\n",
    "\n",
    "# Setup tracing\n",
    "StrandsTelemetry().setup_console_exporter()"
   ]
  },
  {
   "cell_type": "code",
   "execution_count": null,
   "metadata": {},
   "outputs": [],
   "source": [
    "# Supply the pre-installed polciy and guardrail IDs\n",
    "ARC_POLICY_ID = \"xvi5i57kz3gl\"\n",
    "GUARDRAIL_ID = \"xb8kiy3pe4qr\"\n",
    "GUARDRAIL_VERSION = \"DRAFT\"\n",
    "# MODEL_ID = \"us.anthropic.claude-sonnet-4-20250514-v1:0\"\n",
    "MODEL_ID = \"us.amazon.nova-lite-v1:0\""
   ]
  },
  {
   "cell_type": "code",
   "execution_count": null,
   "metadata": {
    "scrolled": true
   },
   "outputs": [],
   "source": [
    "boto_config = BotocoreConfig(\n",
    "    retries={\"max_attempts\": 3, \"mode\": \"standard\"},\n",
    "    connect_timeout=5,\n",
    "    read_timeout=60\n",
    ")\n",
    "\n",
    "# Create a Bedrock model with guardrail configuration\n",
    "bedrock_model = BedrockModel(\n",
    "    boto_client_config=boto_config,\n",
    "    model_id=MODEL_ID,\n",
    "    guardrail_id=GUARDRAIL_ID,\n",
    "    guardrail_version=GUARDRAIL_VERSION,\n",
    "    guardrail_trace=\"enabled_full\",\n",
    "    guardrail_redact_input=True,\n",
    "    guardrail_redact_output=True,\n",
    "    streaming=False,\n",
    ")\n",
    "\n",
    "# Create agent with the guardrail-protected model\n",
    "auto_policy_agent = Agent(\n",
    "    system_prompt=\"You are a helpful assistant that will answer questions related to auto insurance policy.  When processing the result, make sure to use the information from the Automated Reasoning Output to modify the result to be correct.  Make sure that the Automated Reasoning Output section contains the IDs for the Rules, Variables, and Types from Automated Reasoning.\",\n",
    "    model=bedrock_model,\n",
    ")\n"
   ]
  },
  {
   "cell_type": "code",
   "execution_count": null,
   "metadata": {},
   "outputs": [],
   "source": [
    "# Use the protected agent for conversations\n",
    "response = auto_policy_agent(\"If I have a trailer and I get into an accident is that considered a separate vehicle?  Make sure that the output includes the automated reasoning output from the trace as well\")\n",
    "\n",
    "# Handle potential guardrail interventions\n",
    "# if response.stop_reason == \"guardrail_intervened\":\n",
    "#    print(\"Content was blocked by guardrails, conversation context overwritten!\")"
   ]
  },
  {
   "cell_type": "code",
   "execution_count": null,
   "metadata": {},
   "outputs": [],
   "source": []
  }
 ],
 "metadata": {
  "kernelspec": {
   "display_name": "Python 3 (ipykernel)",
   "language": "python",
   "name": "python3"
  },
  "language_info": {
   "codemirror_mode": {
    "name": "ipython",
    "version": 3
   },
   "file_extension": ".py",
   "mimetype": "text/x-python",
   "name": "python",
   "nbconvert_exporter": "python",
   "pygments_lexer": "ipython3",
   "version": "3.12.9"
  }
 },
 "nbformat": 4,
 "nbformat_minor": 4
}
