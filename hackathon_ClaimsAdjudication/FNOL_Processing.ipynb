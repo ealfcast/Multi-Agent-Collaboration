{
    "cells": [
        {
            "cell_type": "markdown",
            "metadata": {},
            "source": [
                "# FNOL (First Notice of Loss) Processing\n",
                "\n",
                "## Overview\n",
                "\n",
                "This notebook processes First Notice of Loss (FNOL) data for insurance claims. It extracts, validates, and structures FNOL data with completeness checks to prepare it for downstream processing by fraud detection and policy verification teams.\n",
                "\n",
                "## Workflow\n",
                "\n",
                "1. **Import Dependencies** - Load required libraries (Strands, AWS Bedrock, JSON)\n",
                "2. **AWS Configuration** - Configure Bedrock client and model\n",
                "3. **Load FNOL Data** - Read and parse FNOL.json file\n",
                "4. **FNOL Processing Agent** - Extract, validate, and structure claim data\n",
                "5. **Data Quality Checks** - Flag missing fields and inconsistencies\n",
                "6. **Output Structured Data** - Generate validated JSON for next stages\n"
            ]
        },
        {
            "cell_type": "markdown",
            "metadata": {},
            "source": [
                "## 1. Install Dependencies"
            ]
        },
        {
            "cell_type": "code",
            "execution_count": null,
            "metadata": {},
            "outputs": [],
            "source": [
                "!pip install -r requirements.txt"
            ]
        },
        {
            "cell_type": "markdown",
            "metadata": {},
            "source": [
                "## 2. Import Required Libraries"
            ]
        },
        {
            "cell_type": "code",
            "execution_count": null,
            "metadata": {},
            "outputs": [],
            "source": [
                "# Standard library imports\n",
                "import json\n",
                "from datetime import datetime\n",
                "\n",
                "# AWS SDK\n",
                "import boto3\n",
                "\n",
                "# Strands Agents SDK\n",
                "from strands import Agent\n",
                "from strands.models import BedrockModel\n",
                "\n",
                "print(\"✓ All dependencies imported successfully\")"
            ]
        },
        {
            "cell_type": "markdown",
            "metadata": {},
            "source": [
                "## 3. AWS Bedrock Configuration"
            ]
        },
        {
            "cell_type": "code",
            "execution_count": null,
            "metadata": {},
            "outputs": [],
            "source": [
                "# AWS Configuration\n",
                "AWS_REGION = \"us-east-1\"\n",
                "MODEL_ID = \"anthropic.claude-sonnet-4-5-20250929-v1:0\"\n",
                "\n",
                "# Initialize Bedrock client to verify connectivity\n",
                "bedrock_client = boto3.client(\n",
                "    service_name=\"bedrock-runtime\",\n",
                "    region_name=AWS_REGION\n",
                ")\n",
                "\n",
                "print(f\"✓ AWS Bedrock configured for region: {AWS_REGION}\")\n",
                "print(f\"✓ Using model: {MODEL_ID}\")"
            ]
        },
        {
            "cell_type": "markdown",
            "metadata": {},
            "source": [
                "## 4. Load FNOL Data"
            ]
        },
        {
            "cell_type": "code",
            "execution_count": null,
            "metadata": {},
            "outputs": [],
            "source": [
                "# Load FNOL JSON data\n",
                "with open('data/FNOL.json', 'r') as f:\n",
                "    fnol_data = json.load(f)\n",
                "\n",
                "print(\"✓ FNOL data loaded successfully\")\n",
                "print(f\"\\nClaim Number: {fnol_data['fnol']['claimNumber']}\")\n",
                "print(f\"Report Date: {fnol_data['fnol']['reportDate']}\")\n",
                "print(f\"Policyholder: {fnol_data['policyholder']['firstName']} {fnol_data['policyholder']['lastName']}\")\n",
                "print(f\"Vehicle: {fnol_data['vehicle']['insuredVehicle']['year']} {fnol_data['vehicle']['insuredVehicle']['make']} {fnol_data['vehicle']['insuredVehicle']['model']}\")"
            ]
        },
        {
            "cell_type": "markdown",
            "metadata": {},
            "source": [
                "## 5. Initialize Bedrock Model"
            ]
        },
        {
            "cell_type": "code",
            "execution_count": null,
            "metadata": {},
            "outputs": [],
            "source": [
                "# Initialize Bedrock model\n",
                "model = BedrockModel(\n",
                "    model_id=MODEL_ID,\n",
                "    region_name=AWS_REGION\n",
                ")\n",
                "\n",
                "print(\"✓ Bedrock model initialized\")"
            ]
        },
        {
            "cell_type": "markdown",
            "metadata": {},
            "source": [
                "## 6. Create FNOL Processing Agent\n",
                "\n",
                "This agent acts as a Claims Data Extraction Specialist that:\n",
                "- Extracts key data points from FNOL documents\n",
                "- Validates data completeness and consistency\n",
                "- Flags potential data quality issues\n",
                "- Generates structured JSON output for downstream processing"
            ]
        },
        {
            "cell_type": "code",
            "execution_count": null,
            "metadata": {},
            "outputs": [],
            "source": [
                "# Create FNOL Processing Agent\n",
                "fnol_agent = Agent(\n",
                "    name=\"FNOL Data Extraction Specialist\",\n",
                "    model=model,\n",
                "    system_prompt=\"\"\"You are a Claims Data Extraction Specialist.\n",
                "\n",
                "ROLE: Process First Notice of Loss (FNOL) forms and extract structured claim data.\n",
                "\n",
                "INPUTS: Raw FNOL document/form data\n",
                "OUTPUTS: Structured JSON with validated claim information\n",
                "\n",
                "INSTRUCTIONS:\n",
                "1. Extract key data points:\n",
                "   - Policy number, claim date, incident location, claimant details\n",
                "   - Incident description, damages reported, witnesses\n",
                "   - Supporting documentation references\n",
                "\n",
                "2. Validate data completeness:\n",
                "   - Flag missing required fields\n",
                "   - Identify inconsistencies in dates/locations\n",
                "   - Check format compliance (policy numbers, contact info)\n",
                "\n",
                "3. Flag potential data quality issues with specific error codes\n",
                "4. If critical information is missing, generate specific follow-up questions\n",
                "\n",
                "ERROR HANDLING: If form is illegible or severely incomplete, flag for manual review with detailed reasoning.\n",
                "\n",
                "QUALITY CHECK: Ensure all extracted monetary amounts, dates, and identifiers are properly formatted.\n",
                "\n",
                "OUTPUT FORMAT: Return a structured JSON object with the following sections:\n",
                "- extraction_metadata: Processing date, data quality score, completeness status\n",
                "- claim_information: Claim number, report date, policy number\n",
                "- policyholder_information: Name, contact details, driver license\n",
                "- incident_details: Date, time, location, description, weather conditions\n",
                "- vehicle_information: Insured vehicle details, damage assessment\n",
                "- other_parties: Information about other drivers/vehicles involved\n",
                "- injuries: Details of any injuries reported\n",
                "- validation_results: List of any missing fields, inconsistencies, or data quality issues\n",
                "- recommendations: Next steps or follow-up actions needed\n",
                "\"\"\"\n",
                ")\n",
                "\n",
                "print(\"FNOL Processing Agent created\")"
            ]
        },
        {
            "cell_type": "markdown",
            "metadata": {},
            "source": [
                "## 7. Process FNOL Data"
            ]
        },
        {
            "cell_type": "code",
            "execution_count": null,
            "metadata": {},
            "outputs": [],
            "source": [
                "# Create processing prompt\n",
                "processing_prompt = f\"\"\"\n",
                "Please process the following FNOL (First Notice of Loss) data and extract all relevant information.\n",
                "\n",
                "Perform the following tasks:\n",
                "1. Extract and structure all key data points\n",
                "2. Validate data completeness and identify any missing required fields\n",
                "3. Check for inconsistencies in dates, locations, or other data\n",
                "4. Assess data quality and flag any issues\n",
                "5. Generate recommendations for next steps\n",
                "\n",
                "FNOL Data:\n",
                "{json.dumps(fnol_data, indent=2)}\n",
                "\n",
                "Please provide a comprehensive structured JSON output with your analysis.\n",
                "\"\"\"\n",
                "\n",
                "print(\"=\" * 80)\n",
                "print(\"PROCESSING FNOL DATA\")\n",
                "print(\"=\" * 80)\n",
                "print(\"\\n Agent is processing FNOL data...\\n\")"
            ]
        },
        {
            "cell_type": "code",
            "execution_count": null,
            "metadata": {},
            "outputs": [],
            "source": [
                "# Run the agent\n",
                "response = fnol_agent(processing_prompt)\n",
                "\n",
                "print(\"\\n\" + \"=\" * 80)\n",
                "print(\"✓ FNOL Processing completed successfully\")\n",
                "print(\"=\" * 80)"
            ]
        },
        {
            "cell_type": "markdown",
            "metadata": {},
            "source": [
                "## 8. Display Processing Results"
            ]
        },
        {
            "cell_type": "code",
            "execution_count": null,
            "metadata": {},
            "outputs": [],
            "source": [
                "# Display agent's response\n",
                "print(\"=\" * 80)\n",
                "print(\"FNOL PROCESSING RESULTS\")\n",
                "print(\"=\" * 80)\n",
                "print()\n",
                "print(response)\n",
                "print()\n",
                "print(\"=\" * 80)"
            ]
        }
    ],
    "metadata": {
        "kernelspec": {
            "display_name": "Python 3 (ipykernel)",
            "language": "python",
            "name": "python3"
        },
        "language_info": {
            "codemirror_mode": {
                "name": "ipython",
                "version": 3
            },
            "file_extension": ".py",
            "mimetype": "text/x-python",
            "name": "python",
            "nbconvert_exporter": "python",
            "pygments_lexer": "ipython3",
            "version": "3.12.9"
        }
    },
    "nbformat": 4,
    "nbformat_minor": 4
}
