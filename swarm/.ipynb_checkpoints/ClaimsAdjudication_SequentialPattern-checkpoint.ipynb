{
 "cells": [
  {
   "cell_type": "markdown",
   "metadata": {
    "pycharm": {
     "name": "#%% md\n"
    }
   },
   "source": [
    "# Autonomous Claims Adjudication using Agent Workflows with Strands Agents"
   ]
  },
  {
   "cell_type": "markdown",
   "metadata": {
    "pycharm": {
     "name": "#%%\n"
    }
   },
   "source": [
    "## Understanding Multi-Agent Systems and Swarm Intelligence\n",
    "\n",
    "An agent swarm is a collection of autonomous AI agents working together to solve complex problems through collaboration. Inspired by natural systems like ant colonies or bird flocks, agent swarms leverage collective intelligence where the combined output exceeds what any single agent could produce. By distributing tasks and sharing information, swarms can tackle complex problems more efficiently and effectively than individual agents working in isolation.\n",
    "\n",
    "Multi-agent systems consist of multiple interacting intelligent agents within an environment. These systems enable:\n",
    "\n",
    "- *Distributed Problem Solving*: Breaking complex tasks into subtasks for parallel processing\n",
    "- *Information Sharing*: Agents exchange insights to build collective knowledge\n",
    "- *Specialization*: Different agents focus on specific aspects of a problem\n",
    "- *Redundancy*: Multiple agents working on similar tasks improve reliability\n",
    "- *Emergent Intelligence*: The system exhibits capabilities beyond those of its individual components\n",
    "\n",
    "Swarm intelligence emphasizes:\n",
    "\n",
    "1. *Decentralized Control*: No single agent directs the entire system\n",
    "2. *Local Interactions*: Agents primarily interact with nearby agents\n",
    "3. *Simple Rules*: Individual agents follow relatively simple behaviors\n",
    "4. *Emergent Complexity*: Complex system behavior emerges from simple agent interactions"
   ]
  },
  {
   "cell_type": "markdown",
   "metadata": {},
   "source": [
    "### Autonomous Claims Adjudication\n",
    "\n",
    "Claims adjudication is the process by which insurance companies process, review, validate, and assess claims to determine if they should be paid, adjusted, or denied.\n",
    "\n",
    "Here is a Generic Example of a Claim Adjudication Workflow for Auto-insurnace\n",
    "\n",
    "NOTE: THIS IS JUST AN EXMPLE FOR ILLUSTRATION PURPOSES. \n",
    "\n",
    "\n"
   ]
  },
  {
   "cell_type": "markdown",
   "metadata": {},
   "source": [
    "<p align=\"center\">\n",
    "    <img src=\"./images/ClaimsAdjudicationFlow.png\">\n",
    "</p>"
   ]
  },
  {
   "attachments": {},
   "cell_type": "markdown",
   "metadata": {},
   "source": [
    "### Workflow Pattern - Sequential\n",
    "\n",
    "In the Claims Adjudication Flow, there are tasks that have dependencies and   need to be completed before moving to the next task.\n",
    "We can use a Swarm Sequential pattern where each agent completes its task before passing the result to the next agent in the chain. \n",
    "\n",
    "\n",
    "#### Agentic Flow:\n",
    "An agent that receives an insurance claim (First Notification of Loss), retrieves policy details, validates information against external sources (e.g., repair shop estimates), completes appraisal or damage assessments, and approves payment or flags the claim for human review.\n",
    "\n",
    "Pattern —> Workflow with Sequential process\n"
   ]
  },
  {
   "cell_type": "markdown",
   "metadata": {},
   "source": [
    "<p align=\"center\">\n",
    "    <img src=\"./images/ClaimProcessing.png\">\n",
    "</p>"
   ]
  },
  {
   "cell_type": "markdown",
   "metadata": {},
   "source": [
    "## 1. Quick Start with Swarm tool"
   ]
  },
  {
   "cell_type": "markdown",
   "metadata": {},
   "source": [
    "The Strands Agents SDK provides a built-in swarm tool that simplifies the implementation of multi-agent systems, offering a quick start for users. This tool implements the shared memory."
   ]
  },
  {
   "cell_type": "code",
   "execution_count": null,
   "metadata": {},
   "outputs": [],
   "source": [
    "!pip install -r requirements.txt\n",
    "!pip install PyPDF2"
   ]
  },
  {
   "cell_type": "code",
   "execution_count": 1,
   "metadata": {},
   "outputs": [],
   "source": [
    "from strands import Agent\n",
    "from strands_tools import swarm\n",
    "import time\n",
    "import PyPDF2\n",
    "import json\n",
    "import boto3\n",
    "import yaml\n",
    "import os\n",
    "import logging\n"
   ]
  },
  {
   "cell_type": "code",
   "execution_count": 2,
   "metadata": {},
   "outputs": [],
   "source": [
    "import PyPDF2\n",
    "\n",
    "def read_file(file_path):\n",
    "    \"\"\"\n",
    "    Read and extract text from a PDF file.\n",
    "    \n",
    "    Args:\n",
    "        file_path (str): Path to the PDF file\n",
    "        \n",
    "    Returns:\n",
    "        str: Extracted text from the PDF\n",
    "    \"\"\"\n",
    "    try:\n",
    "        # Open the PDF file in binary read mode\n",
    "        # with open(file_path, 'rb') as file:\n",
    "        #     # Create a PDF reader object\n",
    "        #     pdf_reader = PyPDF2.PdfReader(file)\n",
    "        with open(file_path, 'r') as file:\n",
    "            file = file.read()\n",
    "            source_json = json.loads(file)\n",
    "            \n",
    "            # # Get number of pages\n",
    "            # num_pages = len(pdf_reader.pages)\n",
    "            # print(f\"Total pages: {num_pages}\")\n",
    "            \n",
    "            # # Extract text from each page\n",
    "            # text = \"\"\n",
    "            # for page_num in range(num_pages):\n",
    "            #     page = pdf_reader.pages[page_num]\n",
    "            #     text += page.extract_text()\n",
    "                \n",
    "            return source_json\n",
    "    \n",
    "    except FileNotFoundError:\n",
    "        return \"Error: The file was not found.\"\n",
    "    except PyPDF2.errors.PdfReadError:\n",
    "        return \"Error: Invalid PDF file or the file is encrypted.\"\n",
    "    except Exception as e:\n",
    "        return f\"Error: {str(e)}\"\n",
    "\n"
   ]
  },
  {
   "cell_type": "code",
   "execution_count": 3,
   "metadata": {
    "scrolled": true
   },
   "outputs": [
    {
     "name": "stdout",
     "output_type": "stream",
     "text": [
      "fnol_report text:\n",
      "{'fnol': {'claimNumber': 'CL-2023-1156789', 'reportDate': '2023-11-21', 'reportTime': '14:35:00', 'reportMethod': 'Online', 'submittedBy': 'Policyholder'}, 'policyInformation': {'policyNumber': 'AUTO-P987654321', 'policyType': 'Auto Insurance', 'effectiveDate': '2023-01-15', 'expirationDate': '2024-01-15', 'insuranceProvider': 'Acme Insurance Company', 'coverageTypes': [{'type': 'Liability', 'limit': '$300,000/$500,000'}, {'type': 'Collision', 'deductible': '$500'}, {'type': 'Comprehensive', 'deductible': '$250'}, {'type': 'Medical Payments', 'limit': '$10,000'}, {'type': 'Uninsured/Underinsured Motorist', 'limit': '$250,000/$500,000'}, {'type': 'Rental Reimbursement', 'limit': '$40/day, $1,200 maximum'}, {'type': 'Roadside Assistance', 'included': True}]}, 'policyholder': {'firstName': 'John', 'lastName': 'Smith', 'dateOfBirth': '1985-06-12', 'address': {'street': '123 Main Street', 'city': 'Springfield', 'state': 'IL', 'zipCode': '62704'}, 'contactInformation': {'homePhone': '217-555-1234', 'cellPhone': '217-555-5678', 'email': 'john.smith@email.com', 'preferredContactMethod': 'Email'}, 'driverLicense': {'number': 'S530-4281-7924', 'state': 'IL', 'expirationDate': '2026-06-12'}}, 'incident': {'date': '2023-11-19', 'time': '17:45:00', 'location': {'street': '456 Oak Avenue', 'city': 'Springfield', 'state': 'IL', 'zipCode': '62704', 'intersection': 'Oak Avenue and Maple Street', 'gpsCoordinates': {'latitude': '39.78383', 'longitude': '-89.65031'}}, 'description': 'While stopped at a red light, my vehicle was rear-ended by another car. The impact pushed my vehicle forward about 5 feet. I pulled over to the side of the road to exchange information with the other driver.', 'weatherConditions': {'condition': 'Light Rain', 'roadCondition': 'Wet', 'visibility': 'Good'}, 'policeReport': {'filed': True, 'reportNumber': 'SPD-2023-11875', 'departmentName': 'Springfield Police Department', 'officerName': 'Officer Michael Johnson', 'badgeNumber': '42587'}, 'witnesses': [{'name': 'Sarah Williams', 'phone': '217-555-9012', 'statement': \"I saw the blue sedan rear-end the policyholder's vehicle while it was completely stopped at the red light.\"}]}, 'vehicle': {'insuredVehicle': {'year': 2020, 'make': 'Honda', 'model': 'Accord', 'trim': 'EX-L', 'vin': '1HGCV2F35LA007149', 'licensePlate': {'number': 'ABC 1234', 'state': 'IL'}, 'mileage': 35650, 'primaryDriver': 'John Smith', 'damage': {'description': 'Rear bumper dented and paint scratched, trunk lid misaligned, possible frame damage, brake lights damaged', 'estimatedRepairCost': '$4,500', 'areas': ['Rear bumper', 'Trunk', 'Taillights', 'Possible frame']}, 'drivable': False, 'location': 'Springfield Auto Body Shop, 789 Industrial Pkwy, Springfield, IL 62704', 'photos': ['http://claimportal.acmeinsurance.com/claims/CL-2023-1156789/photo1.jpg', 'http://claimportal.acmeinsurance.com/claims/CL-2023-1156789/photo2.jpg', 'http://claimportal.acmeinsurance.com/claims/CL-2023-1156789/photo3.jpg', 'http://claimportal.acmeinsurance.com/claims/CL-2023-1156789/photo4.jpg']}}, 'otherParties': [{'type': 'Driver', 'firstName': 'Robert', 'lastName': 'Johnson', 'dateOfBirth': '1990-03-25', 'address': {'street': '789 Pine Road', 'city': 'Springfield', 'state': 'IL', 'zipCode': '62707'}, 'contactInformation': {'phone': '217-555-3456', 'email': 'robert.johnson@email.com'}, 'driverLicense': {'number': 'J525-7891-4562', 'state': 'IL'}, 'vehicle': {'year': 2018, 'make': 'Toyota', 'model': 'Camry', 'vin': '4T1B11HK5JU123456', 'licensePlate': {'number': 'XYZ 7890', 'state': 'IL'}, 'damage': {'description': 'Front bumper, hood, radiator damaged', 'areas': ['Front bumper', 'Hood', 'Grille', 'Radiator']}}, 'insurance': {'company': 'State County Insurance', 'policyNumber': 'AUTO-56789012', 'phoneNumber': '800-123-4567', 'verified': True}}], 'injuries': [{'injured': {'firstName': 'John', 'lastName': 'Smith', 'relationship': 'Policyholder'}, 'description': 'Neck pain, possible whiplash', 'medicalAttention': {'received': True, 'provider': 'Springfield General Hospital', 'date': '2023-11-19', 'treatmentDetails': 'X-rays taken, prescribed pain medication and neck brace'}}, {'injured': {'firstName': 'Robert', 'lastName': 'Johnson', 'relationship': 'Other driver'}, 'description': 'Minor airbag abrasions on face and arms', 'medicalAttention': {'received': True, 'provider': 'Springfield General Hospital', 'date': '2023-11-19', 'treatmentDetails': 'Examined and released with no serious injuries'}}], 'rentalCar': {'needed': True, 'provider': 'Enterprise Rent-A-Car', 'startDate': '2023-11-20', 'expectedDuration': '14 days', 'rentalDetails': {'make': 'Nissan', 'model': 'Altima', 'year': 2022, 'rentalRate': '$38/day'}}}\n"
     ]
    }
   ],
   "source": [
    "# Example usage\n",
    "if __name__ == \"__main__\":\n",
    "    file_path = \"data/FNOL.json\"  # Replace with your PDF file path\n",
    "    fnol_event = read_file(file_path)\n",
    "    print(\"fnol_report text:\")\n",
    "    print(fnol_event)"
   ]
  },
  {
   "cell_type": "code",
   "execution_count": 6,
   "metadata": {},
   "outputs": [],
   "source": [
    "from strands import Agent\n",
    "\n",
    "# Create specialized agents\n",
    "fnol_processing = Agent(system_prompt=f\"\"\"You extract and structure Claim data from FNOL form.\"\"\", \n",
    "                        callback_handler=None)\n",
    "appraisal = Agent(system_prompt=f\"\"\"\"You identify damages and assess estimated repair cost based on Claim data.\"\"\",\n",
    "                                 callback_handler=None)\n",
    "settlement = Agent(system_prompt=f\"\"\"You create a Claim payout report.\"\"\")\n",
    "\n",
    "# Sequential workflow processing\n",
    "def process_workflow(fnol_report):\n",
    "    # Step 1: FNOL Processing\n",
    "    fnol_processing_results = fnol_processing(f\"process {fnol_event}\")\n",
    "\n",
    "    # Step 2: Damage Assessment\n",
    "    appraisal_results = appraisal(f\"Analyze these research findings: {fnol_processing_results}\")\n",
    "\n",
    "    # Step 3: Payout Generation\n",
    "    settlement_results = settlement(f\"Create a report based on this analysis: {appraisal_results}\")\n",
    "\n",
    "    return settlement_results"
   ]
  },
  {
   "cell_type": "code",
   "execution_count": 7,
   "metadata": {},
   "outputs": [
    {
     "name": "stdout",
     "output_type": "stream",
     "text": [
      "# Claim Payout Report\n",
      "## Claim #: [Not Provided]\n",
      "## Date: [Current Date]\n",
      "\n",
      "### Vehicle Information\n",
      "- **Make/Model**: 2020 Honda Accord EX-L\n",
      "- **Current Status**: Non-drivable\n",
      "- **Current Location**: Springfield Auto Body Shop, 789 Industrial Pkwy, Springfield, IL 62704\n",
      "\n",
      "### Damage Assessment Summary\n",
      "- Rear bumper: Dented with paint damage\n",
      "- Trunk lid: Misaligned\n",
      "- Frame: Possible structural damage (requires further inspection)\n",
      "- Brake lights: Damaged\n",
      "\n",
      "### Financial Summary\n",
      "| Item | Amount |\n",
      "|------|--------|\n",
      "| Total Estimated Repair Cost | $4,500.00 |\n",
      "| Policyholder Deductible (Collision) | $500.00 |\n",
      "| **Total Insurance Payout for Repairs** | **$4,000.00** |\n",
      "\n",
      "### Additional Coverage\n",
      "| Item | Coverage Limit | Current Usage | Remaining |\n",
      "|------|---------------|--------------|-----------|\n",
      "| Rental Car | $40/day, $1,200 max | $532.00 (14 days @ $38/day) | $668.00 |\n",
      "\n",
      "### Next Steps\n",
      "1. Authorize initial payment of $4,000.00 for vehicle repairs\n",
      "2. Continue rental car coverage (currently within policy limits)\n",
      "3. Schedule follow-up inspection for potential frame damage\n",
      "4. Update estimate if additional damage is identified\n",
      "\n",
      "### Notes\n",
      "- Frame damage assessment may increase the total repair cost\n",
      "- Current repair timeline estimated at 14 days\n",
      "- All expenses currently fall within policy coverage limits"
     ]
    }
   ],
   "source": [
    "process_claim = process_workflow(fnol_event)"
   ]
  },
  {
   "cell_type": "markdown",
   "metadata": {},
   "source": [
    "### Using the Workflow Tool"
   ]
  },
  {
   "cell_type": "code",
   "execution_count": null,
   "metadata": {},
   "outputs": [
    {
     "name": "stderr",
     "output_type": "stream",
     "text": [
      "Error loading workflow Claim_processing: Expecting value: line 1 column 1 (char 0)\n",
      "Error loading workflow Claim_processing: Expecting value: line 1 column 1 (char 0)\n",
      "Error loading workflow Claim_processing: Expecting value: line 1 column 1 (char 0)\n",
      "Error loading workflow Claim_processing: Expecting value: line 1 column 1 (char 0)\n",
      "Error loading workflow Claim_processing: Expecting value: line 1 column 1 (char 0)\n"
     ]
    }
   ],
   "source": [
    "from strands import Agent\n",
    "from strands_tools import workflow\n",
    "\n",
    "# Create an agent with workflow capability\n",
    "agent = Agent(tools=[workflow])\n",
    "\n",
    "# Create a multi-agent workflow\n",
    "agent.tool.workflow(\n",
    "    action=\"create\",\n",
    "    workflow_id=\"Claim_adjudication\",\n",
    "    tasks=[\n",
    "        {\n",
    "            \"task_id\": \"fnol_processing\",\n",
    "            \"description\": \"Proccess FNOL forms Extract key data to process Claim\",\n",
    "            \"system_prompt\": f\"\"\"Process {fnol_event}You extract and structure Claim data from FNOL form.\"\"\",\n",
    "            \"priority\": 5\n",
    "        },\n",
    "        {\n",
    "            \"task_id\": \"appraisal\",\n",
    "            \"description\": \"Analyze Claim data, damages and assess estimated repair cost\",\n",
    "            \"dependencies\": [\"fnol_processing\"],\n",
    "            \"system_prompt\": \"You identify damages and assess estimated repair cost based on Claim data.\",\n",
    "            \"priority\": 3\n",
    "        },\n",
    "        {\n",
    "            \"task_id\": \"settlement\",\n",
    "            \"description\": \"Generate Claim payout\",\n",
    "            \"dependencies\": [\"appraisal\"],\n",
    "            \"system_prompt\": \"You create a Claim payout report.\",\n",
    "            \"priority\": 2\n",
    "        }\n",
    "    ]\n",
    ")\n",
    "\n",
    "# Execute workflow (parallel processing where possible)\n",
    "agent.tool.workflow(action=\"start\", \n",
    "                    workflow_id=\"Claim_processing\",\n",
    "                    )\n",
    "\n",
    "# Check results\n",
    "status = agent.tool.workflow(action=\"status\", workflow_id=\"Claim_adjudication\")"
   ]
  },
  {
   "cell_type": "code",
   "execution_count": null,
   "metadata": {},
   "outputs": [],
   "source": []
  }
 ],
 "metadata": {
  "kernelspec": {
   "display_name": "Python 3 (ipykernel)",
   "language": "python",
   "name": "python3"
  },
  "language_info": {
   "codemirror_mode": {
    "name": "ipython",
    "version": 3
   },
   "file_extension": ".py",
   "mimetype": "text/x-python",
   "name": "python",
   "nbconvert_exporter": "python",
   "pygments_lexer": "ipython3",
   "version": "3.12.9"
  }
 },
 "nbformat": 4,
 "nbformat_minor": 4
}
