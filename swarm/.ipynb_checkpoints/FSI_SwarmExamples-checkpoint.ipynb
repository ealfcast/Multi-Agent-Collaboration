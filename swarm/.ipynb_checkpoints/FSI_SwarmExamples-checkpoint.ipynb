{
 "cells": [
  {
   "cell_type": "markdown",
   "metadata": {
    "pycharm": {
     "name": "#%% md\n"
    }
   },
   "source": [
    "# Automated Financial Research & Analysis using Swarm of agents with Strands Agents"
   ]
  },
  {
   "cell_type": "markdown",
   "metadata": {
    "pycharm": {
     "name": "#%%\n"
    }
   },
   "source": [
    "## Understanding Multi-Agent Systems and Swarm Intelligence\n",
    "\n",
    "An agent swarm is a collection of autonomous AI agents working together to solve complex problems through collaboration. Inspired by natural systems like ant colonies or bird flocks, agent swarms leverage collective intelligence where the combined output exceeds what any single agent could produce. By distributing tasks and sharing information, swarms can tackle complex problems more efficiently and effectively than individual agents working in isolation.\n",
    "\n",
    "Multi-agent systems consist of multiple interacting intelligent agents within an environment. These systems enable:\n",
    "\n",
    "- *Distributed Problem Solving*: Breaking complex tasks into subtasks for parallel processing\n",
    "- *Information Sharing*: Agents exchange insights to build collective knowledge\n",
    "- *Specialization*: Different agents focus on specific aspects of a problem\n",
    "- *Redundancy*: Multiple agents working on similar tasks improve reliability\n",
    "- *Emergent Intelligence*: The system exhibits capabilities beyond those of its individual components\n",
    "\n",
    "Swarm intelligence emphasizes:\n",
    "\n",
    "1. *Decentralized Control*: No single agent directs the entire system\n",
    "2. *Local Interactions*: Agents primarily interact with nearby agents\n",
    "3. *Simple Rules*: Individual agents follow relatively simple behaviors\n",
    "4. *Emergent Complexity*: Complex system behavior emerges from simple agent interactions"
   ]
  },
  {
   "cell_type": "markdown",
   "metadata": {},
   "source": [
    "## Creating a Swarm with Strands Agents"
   ]
  },
  {
   "cell_type": "markdown",
   "metadata": {},
   "source": [
    "### Automated Financial Research & Analysis\n",
    "Swarm of specialized agents using mesh communication to solve problems collaboratively\n",
    "This mesh architecture enables direct communication between all agents, allowing each agent to share insights with every other agent. The specialized roles (research, creative, critical, and summarizer) work together to produce a comprehensive solution that benefits from multiple perspectives and iterative refinement.\n",
    "\n",
    "An agent that can ingest a financial report,news and analyzes market data from multiple sources, another agent perform evaluates risks or other metrics, and an editorial agent generate a summary report with key insights.\n",
    "Pattern —> Mesh\n",
    "\n"
   ]
  },
  {
   "cell_type": "markdown",
   "metadata": {},
   "source": [
    "Strands Agents SDK allows you to create swarms using existing Agent objects, even when they use different model providers or have different configurations. While various communication architectures are possible (hierarchical, parallel, sequential, and mesh), the following example demonstrates a mesh architecture implementation, which provides a flexible foundation for agent-to-agent communication.\n",
    "\n",
    "###  Mesh Swarm Architecture"
   ]
  },
  {
   "cell_type": "markdown",
   "metadata": {},
   "source": [
    "<p align=\"center\">\n",
    "    <img src=\"./images/swarm_example.png\">\n",
    "</p>"
   ]
  },
  {
   "cell_type": "markdown",
   "metadata": {},
   "source": [
    "## 1. Quick Start with Swarm tool"
   ]
  },
  {
   "cell_type": "markdown",
   "metadata": {},
   "source": [
    "The Strands Agents SDK provides a built-in swarm tool that simplifies the implementation of multi-agent systems, offering a quick start for users. This tool implements the shared memory."
   ]
  },
  {
   "cell_type": "code",
   "execution_count": 1,
   "metadata": {},
   "outputs": [
    {
     "name": "stdout",
     "output_type": "stream",
     "text": [
      "Collecting strands-agents (from -r requirements.txt (line 1))\n",
      "  Using cached strands_agents-0.1.9-py3-none-any.whl.metadata (10 kB)\n",
      "Collecting strands-agents-tools (from -r requirements.txt (line 2))\n",
      "  Using cached strands_agents_tools-0.1.7-py3-none-any.whl.metadata (23 kB)\n",
      "Requirement already satisfied: boto3<2.0.0,>=1.26.0 in /opt/conda/lib/python3.12/site-packages (from strands-agents->-r requirements.txt (line 1)) (1.37.1)\n",
      "Requirement already satisfied: botocore<2.0.0,>=1.29.0 in /opt/conda/lib/python3.12/site-packages (from strands-agents->-r requirements.txt (line 1)) (1.37.1)\n",
      "Collecting docstring-parser<1.0,>=0.15 (from strands-agents->-r requirements.txt (line 1))\n",
      "  Using cached docstring_parser-0.16-py3-none-any.whl.metadata (3.0 kB)\n",
      "Collecting mcp<2.0.0,>=1.8.0 (from strands-agents->-r requirements.txt (line 1))\n",
      "  Downloading mcp-1.10.1-py3-none-any.whl.metadata (40 kB)\n",
      "Requirement already satisfied: opentelemetry-api<2.0.0,>=1.30.0 in /opt/conda/lib/python3.12/site-packages (from strands-agents->-r requirements.txt (line 1)) (1.32.1)\n",
      "Requirement already satisfied: opentelemetry-sdk<2.0.0,>=1.30.0 in /opt/conda/lib/python3.12/site-packages (from strands-agents->-r requirements.txt (line 1)) (1.32.1)\n",
      "Requirement already satisfied: pydantic<3.0.0,>=2.0.0 in /opt/conda/lib/python3.12/site-packages (from strands-agents->-r requirements.txt (line 1)) (2.11.3)\n",
      "Requirement already satisfied: typing-extensions<5.0.0,>=4.13.2 in /opt/conda/lib/python3.12/site-packages (from strands-agents->-r requirements.txt (line 1)) (4.13.2)\n",
      "Collecting watchdog<7.0.0,>=6.0.0 (from strands-agents->-r requirements.txt (line 1))\n",
      "  Using cached watchdog-6.0.0-py3-none-manylinux2014_x86_64.whl.metadata (44 kB)\n",
      "Collecting aws-requests-auth<0.5.0,>=0.4.3 (from strands-agents-tools->-r requirements.txt (line 2))\n",
      "  Using cached aws_requests_auth-0.4.3-py2.py3-none-any.whl.metadata (567 bytes)\n",
      "Requirement already satisfied: colorama<0.5.0,>=0.4.6 in /opt/conda/lib/python3.12/site-packages (from strands-agents-tools->-r requirements.txt (line 2)) (0.4.6)\n",
      "Requirement already satisfied: dill<0.5.0,>=0.4.0 in /opt/conda/lib/python3.12/site-packages (from strands-agents-tools->-r requirements.txt (line 2)) (0.4.0)\n",
      "Collecting pillow<12.0.0,>=11.2.1 (from strands-agents-tools->-r requirements.txt (line 2))\n",
      "  Using cached pillow-11.2.1-cp312-cp312-manylinux_2_28_x86_64.whl.metadata (8.9 kB)\n",
      "Requirement already satisfied: prompt-toolkit<4.0.0,>=3.0.51 in /opt/conda/lib/python3.12/site-packages (from strands-agents-tools->-r requirements.txt (line 2)) (3.0.51)\n",
      "Requirement already satisfied: pyjwt<3.0.0,>=2.10.1 in /opt/conda/lib/python3.12/site-packages (from strands-agents-tools->-r requirements.txt (line 2)) (2.10.1)\n",
      "Collecting rich<15.0.0,>=14.0.0 (from strands-agents-tools->-r requirements.txt (line 2))\n",
      "  Using cached rich-14.0.0-py3-none-any.whl.metadata (18 kB)\n",
      "Collecting slack-bolt<2.0.0,>=1.23.0 (from strands-agents-tools->-r requirements.txt (line 2))\n",
      "  Using cached slack_bolt-1.23.0-py2.py3-none-any.whl.metadata (11 kB)\n",
      "Requirement already satisfied: sympy<2.0.0,>=1.12.0 in /opt/conda/lib/python3.12/site-packages (from strands-agents-tools->-r requirements.txt (line 2)) (1.14.0)\n",
      "Requirement already satisfied: tenacity<10.0.0,>=9.1.2 in /opt/conda/lib/python3.12/site-packages (from strands-agents-tools->-r requirements.txt (line 2)) (9.1.2)\n",
      "Requirement already satisfied: requests>=0.14.0 in /opt/conda/lib/python3.12/site-packages (from aws-requests-auth<0.5.0,>=0.4.3->strands-agents-tools->-r requirements.txt (line 2)) (2.32.3)\n",
      "Requirement already satisfied: jmespath<2.0.0,>=0.7.1 in /opt/conda/lib/python3.12/site-packages (from boto3<2.0.0,>=1.26.0->strands-agents->-r requirements.txt (line 1)) (1.0.1)\n",
      "Requirement already satisfied: s3transfer<0.12.0,>=0.11.0 in /opt/conda/lib/python3.12/site-packages (from boto3<2.0.0,>=1.26.0->strands-agents->-r requirements.txt (line 1)) (0.11.3)\n",
      "Requirement already satisfied: python-dateutil<3.0.0,>=2.1 in /opt/conda/lib/python3.12/site-packages (from botocore<2.0.0,>=1.29.0->strands-agents->-r requirements.txt (line 1)) (2.9.0.post0)\n",
      "Requirement already satisfied: urllib3!=2.2.0,<3,>=1.25.4 in /opt/conda/lib/python3.12/site-packages (from botocore<2.0.0,>=1.29.0->strands-agents->-r requirements.txt (line 1)) (2.4.0)\n",
      "Requirement already satisfied: anyio>=4.5 in /opt/conda/lib/python3.12/site-packages (from mcp<2.0.0,>=1.8.0->strands-agents->-r requirements.txt (line 1)) (4.9.0)\n",
      "Requirement already satisfied: httpx-sse>=0.4 in /opt/conda/lib/python3.12/site-packages (from mcp<2.0.0,>=1.8.0->strands-agents->-r requirements.txt (line 1)) (0.4.0)\n",
      "Requirement already satisfied: httpx>=0.27 in /opt/conda/lib/python3.12/site-packages (from mcp<2.0.0,>=1.8.0->strands-agents->-r requirements.txt (line 1)) (0.28.1)\n",
      "Requirement already satisfied: jsonschema>=4.20.0 in /opt/conda/lib/python3.12/site-packages (from mcp<2.0.0,>=1.8.0->strands-agents->-r requirements.txt (line 1)) (4.23.0)\n",
      "Requirement already satisfied: pydantic-settings>=2.5.2 in /opt/conda/lib/python3.12/site-packages (from mcp<2.0.0,>=1.8.0->strands-agents->-r requirements.txt (line 1)) (2.9.1)\n",
      "Requirement already satisfied: python-multipart>=0.0.9 in /opt/conda/lib/python3.12/site-packages (from mcp<2.0.0,>=1.8.0->strands-agents->-r requirements.txt (line 1)) (0.0.20)\n",
      "Collecting sse-starlette>=1.6.1 (from mcp<2.0.0,>=1.8.0->strands-agents->-r requirements.txt (line 1))\n",
      "  Using cached sse_starlette-2.3.6-py3-none-any.whl.metadata (10 kB)\n",
      "Requirement already satisfied: starlette>=0.27 in /opt/conda/lib/python3.12/site-packages (from mcp<2.0.0,>=1.8.0->strands-agents->-r requirements.txt (line 1)) (0.46.2)\n",
      "Requirement already satisfied: uvicorn>=0.23.1 in /opt/conda/lib/python3.12/site-packages (from mcp<2.0.0,>=1.8.0->strands-agents->-r requirements.txt (line 1)) (0.34.2)\n",
      "Requirement already satisfied: deprecated>=1.2.6 in /opt/conda/lib/python3.12/site-packages (from opentelemetry-api<2.0.0,>=1.30.0->strands-agents->-r requirements.txt (line 1)) (1.2.18)\n",
      "Requirement already satisfied: importlib-metadata<8.7.0,>=6.0 in /opt/conda/lib/python3.12/site-packages (from opentelemetry-api<2.0.0,>=1.30.0->strands-agents->-r requirements.txt (line 1)) (6.10.0)\n",
      "Requirement already satisfied: opentelemetry-semantic-conventions==0.53b1 in /opt/conda/lib/python3.12/site-packages (from opentelemetry-sdk<2.0.0,>=1.30.0->strands-agents->-r requirements.txt (line 1)) (0.53b1)\n",
      "Requirement already satisfied: wcwidth in /opt/conda/lib/python3.12/site-packages (from prompt-toolkit<4.0.0,>=3.0.51->strands-agents-tools->-r requirements.txt (line 2)) (0.2.13)\n",
      "Requirement already satisfied: annotated-types>=0.6.0 in /opt/conda/lib/python3.12/site-packages (from pydantic<3.0.0,>=2.0.0->strands-agents->-r requirements.txt (line 1)) (0.7.0)\n",
      "Requirement already satisfied: pydantic-core==2.33.1 in /opt/conda/lib/python3.12/site-packages (from pydantic<3.0.0,>=2.0.0->strands-agents->-r requirements.txt (line 1)) (2.33.1)\n",
      "Requirement already satisfied: typing-inspection>=0.4.0 in /opt/conda/lib/python3.12/site-packages (from pydantic<3.0.0,>=2.0.0->strands-agents->-r requirements.txt (line 1)) (0.4.0)\n",
      "Requirement already satisfied: markdown-it-py>=2.2.0 in /opt/conda/lib/python3.12/site-packages (from rich<15.0.0,>=14.0.0->strands-agents-tools->-r requirements.txt (line 2)) (3.0.0)\n",
      "Requirement already satisfied: pygments<3.0.0,>=2.13.0 in /opt/conda/lib/python3.12/site-packages (from rich<15.0.0,>=14.0.0->strands-agents-tools->-r requirements.txt (line 2)) (2.19.1)\n",
      "Collecting slack_sdk<4,>=3.35.0 (from slack-bolt<2.0.0,>=1.23.0->strands-agents-tools->-r requirements.txt (line 2))\n",
      "  Using cached slack_sdk-3.35.0-py2.py3-none-any.whl.metadata (15 kB)\n",
      "Requirement already satisfied: mpmath<1.4,>=1.1.0 in /opt/conda/lib/python3.12/site-packages (from sympy<2.0.0,>=1.12.0->strands-agents-tools->-r requirements.txt (line 2)) (1.3.0)\n",
      "Requirement already satisfied: idna>=2.8 in /opt/conda/lib/python3.12/site-packages (from anyio>=4.5->mcp<2.0.0,>=1.8.0->strands-agents->-r requirements.txt (line 1)) (3.10)\n",
      "Requirement already satisfied: sniffio>=1.1 in /opt/conda/lib/python3.12/site-packages (from anyio>=4.5->mcp<2.0.0,>=1.8.0->strands-agents->-r requirements.txt (line 1)) (1.3.1)\n",
      "Requirement already satisfied: wrapt<2,>=1.10 in /opt/conda/lib/python3.12/site-packages (from deprecated>=1.2.6->opentelemetry-api<2.0.0,>=1.30.0->strands-agents->-r requirements.txt (line 1)) (1.17.2)\n",
      "Requirement already satisfied: certifi in /opt/conda/lib/python3.12/site-packages (from httpx>=0.27->mcp<2.0.0,>=1.8.0->strands-agents->-r requirements.txt (line 1)) (2025.1.31)\n",
      "Requirement already satisfied: httpcore==1.* in /opt/conda/lib/python3.12/site-packages (from httpx>=0.27->mcp<2.0.0,>=1.8.0->strands-agents->-r requirements.txt (line 1)) (1.0.9)\n",
      "Requirement already satisfied: h11>=0.16 in /opt/conda/lib/python3.12/site-packages (from httpcore==1.*->httpx>=0.27->mcp<2.0.0,>=1.8.0->strands-agents->-r requirements.txt (line 1)) (0.16.0)\n",
      "Requirement already satisfied: zipp>=0.5 in /opt/conda/lib/python3.12/site-packages (from importlib-metadata<8.7.0,>=6.0->opentelemetry-api<2.0.0,>=1.30.0->strands-agents->-r requirements.txt (line 1)) (3.21.0)\n",
      "Requirement already satisfied: attrs>=22.2.0 in /opt/conda/lib/python3.12/site-packages (from jsonschema>=4.20.0->mcp<2.0.0,>=1.8.0->strands-agents->-r requirements.txt (line 1)) (23.2.0)\n",
      "Requirement already satisfied: jsonschema-specifications>=2023.03.6 in /opt/conda/lib/python3.12/site-packages (from jsonschema>=4.20.0->mcp<2.0.0,>=1.8.0->strands-agents->-r requirements.txt (line 1)) (2025.4.1)\n",
      "Requirement already satisfied: referencing>=0.28.4 in /opt/conda/lib/python3.12/site-packages (from jsonschema>=4.20.0->mcp<2.0.0,>=1.8.0->strands-agents->-r requirements.txt (line 1)) (0.36.2)\n",
      "Requirement already satisfied: rpds-py>=0.7.1 in /opt/conda/lib/python3.12/site-packages (from jsonschema>=4.20.0->mcp<2.0.0,>=1.8.0->strands-agents->-r requirements.txt (line 1)) (0.24.0)\n",
      "Requirement already satisfied: mdurl~=0.1 in /opt/conda/lib/python3.12/site-packages (from markdown-it-py>=2.2.0->rich<15.0.0,>=14.0.0->strands-agents-tools->-r requirements.txt (line 2)) (0.1.2)\n",
      "Requirement already satisfied: python-dotenv>=0.21.0 in /opt/conda/lib/python3.12/site-packages (from pydantic-settings>=2.5.2->mcp<2.0.0,>=1.8.0->strands-agents->-r requirements.txt (line 1)) (1.1.0)\n",
      "Requirement already satisfied: six>=1.5 in /opt/conda/lib/python3.12/site-packages (from python-dateutil<3.0.0,>=2.1->botocore<2.0.0,>=1.29.0->strands-agents->-r requirements.txt (line 1)) (1.17.0)\n",
      "Requirement already satisfied: charset_normalizer<4,>=2 in /opt/conda/lib/python3.12/site-packages (from requests>=0.14.0->aws-requests-auth<0.5.0,>=0.4.3->strands-agents-tools->-r requirements.txt (line 2)) (3.4.2)\n",
      "Requirement already satisfied: click>=7.0 in /opt/conda/lib/python3.12/site-packages (from uvicorn>=0.23.1->mcp<2.0.0,>=1.8.0->strands-agents->-r requirements.txt (line 1)) (8.1.8)\n",
      "Using cached strands_agents-0.1.9-py3-none-any.whl (124 kB)\n",
      "Using cached strands_agents_tools-0.1.7-py3-none-any.whl (159 kB)\n",
      "Using cached aws_requests_auth-0.4.3-py2.py3-none-any.whl (6.8 kB)\n",
      "Using cached docstring_parser-0.16-py3-none-any.whl (36 kB)\n",
      "Downloading mcp-1.10.1-py3-none-any.whl (150 kB)\n",
      "Using cached pillow-11.2.1-cp312-cp312-manylinux_2_28_x86_64.whl (4.6 MB)\n",
      "Using cached rich-14.0.0-py3-none-any.whl (243 kB)\n",
      "Using cached slack_bolt-1.23.0-py2.py3-none-any.whl (229 kB)\n",
      "Using cached watchdog-6.0.0-py3-none-manylinux2014_x86_64.whl (79 kB)\n",
      "Using cached slack_sdk-3.35.0-py2.py3-none-any.whl (293 kB)\n",
      "Using cached sse_starlette-2.3.6-py3-none-any.whl (10 kB)\n",
      "Installing collected packages: watchdog, slack_sdk, pillow, docstring-parser, sse-starlette, slack-bolt, rich, aws-requests-auth, mcp, strands-agents, strands-agents-tools\n",
      "  Attempting uninstall: pillow\n",
      "    Found existing installation: pillow 11.1.0\n",
      "    Uninstalling pillow-11.1.0:\n",
      "      Successfully uninstalled pillow-11.1.0\n",
      "  Attempting uninstall: rich\n",
      "    Found existing installation: rich 13.9.4\n",
      "    Uninstalling rich-13.9.4:\n",
      "      Successfully uninstalled rich-13.9.4\n",
      "\u001b[31mERROR: pip's dependency resolver does not currently take into account all the packages that are installed. This behaviour is the source of the following dependency conflicts.\n",
      "autogluon-multimodal 1.2 requires nvidia-ml-py3==7.352.0, which is not installed.\n",
      "autogluon-multimodal 1.2 requires jsonschema<4.22,>=4.18, but you have jsonschema 4.23.0 which is incompatible.\n",
      "autogluon-multimodal 1.2 requires nltk<3.9,>=3.4.5, but you have nltk 3.9.1 which is incompatible.\n",
      "autogluon-multimodal 1.2 requires omegaconf<2.3.0,>=2.1.1, but you have omegaconf 2.3.0 which is incompatible.\n",
      "autogluon-multimodal 1.2 requires transformers[sentencepiece]<4.50,>=4.38.0, but you have transformers 4.51.3 which is incompatible.\n",
      "sagemaker-core 1.0.31 requires rich<14.0.0,>=13.0.0, but you have rich 14.0.0 which is incompatible.\u001b[0m\u001b[31m\n",
      "\u001b[0mSuccessfully installed aws-requests-auth-0.4.3 docstring-parser-0.16 mcp-1.10.1 pillow-11.2.1 rich-14.0.0 slack-bolt-1.23.0 slack_sdk-3.35.0 sse-starlette-2.3.6 strands-agents-0.1.9 strands-agents-tools-0.1.7 watchdog-6.0.0\n",
      "Collecting PyPDF2\n",
      "  Using cached pypdf2-3.0.1-py3-none-any.whl.metadata (6.8 kB)\n",
      "Using cached pypdf2-3.0.1-py3-none-any.whl (232 kB)\n",
      "Installing collected packages: PyPDF2\n",
      "Successfully installed PyPDF2-3.0.1\n"
     ]
    }
   ],
   "source": [
    "!pip install -r requirements.txt\n",
    "!pip install PyPDF2"
   ]
  },
  {
   "cell_type": "code",
   "execution_count": 2,
   "metadata": {},
   "outputs": [],
   "source": [
    "from strands import Agent\n",
    "from strands_tools import swarm\n",
    "import time\n",
    "import PyPDF2\n",
    "import json\n",
    "import boto3\n",
    "import yaml\n",
    "import os\n",
    "import logging\n"
   ]
  },
  {
   "cell_type": "code",
   "execution_count": 3,
   "metadata": {},
   "outputs": [],
   "source": [
    "import PyPDF2\n",
    "\n",
    "def read_pdf(file_path):\n",
    "    \"\"\"\n",
    "    Read and extract text from a PDF file.\n",
    "    \n",
    "    Args:\n",
    "        file_path (str): Path to the PDF file\n",
    "        \n",
    "    Returns:\n",
    "        str: Extracted text from the PDF\n",
    "    \"\"\"\n",
    "    try:\n",
    "        # Open the PDF file in binary read mode\n",
    "        with open(file_path, 'rb') as file:\n",
    "            # Create a PDF reader object\n",
    "            pdf_reader = PyPDF2.PdfReader(file)\n",
    "            \n",
    "            # Get number of pages\n",
    "            num_pages = len(pdf_reader.pages)\n",
    "            print(f\"Total pages: {num_pages}\")\n",
    "            \n",
    "            # Extract text from each page\n",
    "            text = \"\"\n",
    "            for page_num in range(num_pages):\n",
    "                page = pdf_reader.pages[page_num]\n",
    "                text += page.extract_text()\n",
    "                \n",
    "            return text\n",
    "    \n",
    "    except FileNotFoundError:\n",
    "        return \"Error: The file was not found.\"\n",
    "    except PyPDF2.errors.PdfReadError:\n",
    "        return \"Error: Invalid PDF file or the file is encrypted.\"\n",
    "    except Exception as e:\n",
    "        return f\"Error: {str(e)}\"\n",
    "\n"
   ]
  },
  {
   "cell_type": "code",
   "execution_count": 4,
   "metadata": {
    "scrolled": true
   },
   "outputs": [
    {
     "name": "stdout",
     "output_type": "stream",
     "text": [
      "Total pages: 39\n",
      "financial_report text:\n",
      "Table of ContentsAMAZON.COM, INC.PART IItem 1.BusinessThis Annual Report on Form 10-K and the documents incorporated herein by reference contain forward-looking statementsbased on expectations, estimates, and projections as of the date of this filing. Actual results and outcomes may differ materially fromthose expressed in forward-looking statements. See Item 1A of Part I — “Risk Factors.” As used herein, “Amazon.com,” “we,” “our,”and similar terms include Amazon.com, Inc. and its subsidiaries, unless the context indicates otherwise.GeneralWe seek to be Earth’s most customer-centric company. We are guided by four principles: customer obsession rather thancompetitor focus, passion for invention, commitment to operational excellence, and long-term thinking. In each of our segments, weserve our primary customer sets, consisting of consumers, sellers, developers, enterprises, content creators, advertisers, and employees.We have organized our operations into three segments: North America, I\n"
     ]
    }
   ],
   "source": [
    "# Example usage\n",
    "if __name__ == \"__main__\":\n",
    "    pdf_path = \"data/amzn-20241231-10K-Part-1&2.pdf\"  # Replace with your PDF file path\n",
    "    financial_report = read_pdf(pdf_path)\n",
    "    print(\"financial_report text:\")\n",
    "    print(financial_report[0:1000])"
   ]
  },
  {
   "cell_type": "code",
   "execution_count": 15,
   "metadata": {},
   "outputs": [],
   "source": [
    "# prompt= f\"\"\"\n",
    "#              You are an Insurance Claim Legal Expert. You task is to review the {extracted_text} and do the following:\n",
    "#              1) Verify: Review the letter and verify this is a demand letter from a legal firm\n",
    "#              2) Classify: Carefully understand the language and Classify this document in Urgent-Response , or Normal-Response. Pay special\n",
    "#              attention to the amount of money or damages that is demanded and how soon (days, hours) they want a response.\n",
    "#                  Urgent-Response: Is the ammount of money in the demand letter exceeding $50,000 and/or the response time frame is less than 3 days (72 hours)\n",
    "#                  Normal-Response: The ammount of money in the demand letter is less than $50,000 and/or we have more than 3 days (72 hours) to respond\n",
    "#              3) Write an email that corresponds to the Classification: Urgent-Response or Normal-Response.\n",
    "#              \"\"\""
   ]
  },
  {
   "cell_type": "markdown",
   "metadata": {},
   "source": []
  },
  {
   "cell_type": "markdown",
   "metadata": {},
   "source": [
    "In a mesh architecture, all agents can communicate directly with each other. The following example demonstrates a swarm of specialized agents using mesh communication to solve problems collaboratively:"
   ]
  },
  {
   "cell_type": "code",
   "execution_count": 5,
   "metadata": {},
   "outputs": [],
   "source": [
    "# Create specialized agents with different expertise\n",
    "research_agent = Agent(system_prompt=(\"\"\"You are a Financial Research Agent specializing in gathering and analyzing information.\n",
    "Your role in the swarm is to provide factual information and research insights on the topic.\n",
    "You should focus on providing accurate data and identifying key aspects of the problem.\n",
    "When receiving input from other agents, evaluate if their information aligns with your research.\n",
    "\"\"\"), \n",
    "callback_handler=None)\n",
    "\n",
    "investment_agent = Agent(system_prompt=(\"\"\"You are a Investmen Agent specializing in evaluating innovative approach to new investments.\n",
    "Your role in the swarm is to think outside the box and propose creative investment approaches.\n",
    "You should build upon information from other agents while adding your unique creative perspective.\n",
    "Focus on novel approaches that others might not have considered.\n",
    "\"\"\"), \n",
    "callback_handler=None)\n",
    "\n",
    "critical_agent = Agent(system_prompt=(\"\"\"You are a Critical Agent specializing in analyzing invetment proposals and finding flaws and risks.\n",
    "Your role in the swarm is to evaluate investment proposed by other agents and identify potential issues.\n",
    "You should carefully examine proposed investments, find weaknesses or oversights, and suggest improvements.\n",
    "Be constructive in your criticism while ensuring the final solution is robust.\n",
    "\"\"\"), \n",
    "callback_handler=None)\n",
    "\n",
    "summarizer_agent = Agent(system_prompt=\"\"\"You are a Summarizer Agent specializing in synthesizing information.\n",
    "Your role in the swarm is to gather insights from all agents and create a cohesive final solution.\n",
    "You should combine the best ideas and address the criticisms to create a comprehensive response.\n",
    "Focus on creating a clear, actionable summary that addresses the original query effectively.\n",
    "\"\"\")"
   ]
  },
  {
   "cell_type": "markdown",
   "metadata": {},
   "source": [
    "The mesh communication is implemented using a dictionary to track messages between agents:"
   ]
  },
  {
   "cell_type": "code",
   "execution_count": 6,
   "metadata": {},
   "outputs": [],
   "source": [
    "# Dictionary to track messages between agents (mesh communication)\n",
    "messages = {\n",
    "    \"research\": [],\n",
    "    \"investment\": [],\n",
    "    \"critical\": [],\n",
    "    \"summarizer\": []\n",
    "}"
   ]
  },
  {
   "cell_type": "markdown",
   "metadata": {},
   "source": [
    "The swarm operates in multiple phases, with each agent first analyzing the problem independently:"
   ]
  },
  {
   "cell_type": "code",
   "execution_count": 7,
   "metadata": {},
   "outputs": [],
   "source": [
    "query = f\"\"\"\n",
    "             Analyze the 10K Financial report in {financial_report} and tell me if this is a good company to invest\n",
    "             \"\"\""
   ]
  },
  {
   "cell_type": "code",
   "execution_count": 8,
   "metadata": {},
   "outputs": [],
   "source": [
    "# Phase 1: Initial analysis by each specialized agent\n",
    "research_result = research_agent(query)\n",
    "time.sleep(30)\n",
    "investment_result = investment_agent(query)\n",
    "time.sleep(30)\n",
    "critical_result = critical_agent(query)"
   ]
  },
  {
   "cell_type": "code",
   "execution_count": 9,
   "metadata": {},
   "outputs": [],
   "source": [
    "# research_result"
   ]
  },
  {
   "cell_type": "markdown",
   "metadata": {},
   "source": [
    "After the initial analysis, results are shared with all other agents (mesh communication):"
   ]
  },
  {
   "cell_type": "code",
   "execution_count": 10,
   "metadata": {},
   "outputs": [],
   "source": [
    "# Share results with all other agents (mesh communication)\n",
    "messages[\"investment\"].append(f\"From Research Agent: {research_result}\")\n",
    "messages[\"critical\"].append(f\"From Research Agent: {research_result}\")\n",
    "messages[\"summarizer\"].append(f\"From Research Agent: {research_result}\")\n",
    "\n",
    "messages[\"research\"].append(f\"From Creative Agent: {investment_result}\")\n",
    "messages[\"critical\"].append(f\"From Creative Agent: {investment_result}\")\n",
    "messages[\"summarizer\"].append(f\"From Creative Agent: {investment_result}\")\n",
    "\n",
    "messages[\"research\"].append(f\"From Critical Agent: {critical_result}\")\n",
    "messages[\"investment\"].append(f\"From Critical Agent: {critical_result}\")\n",
    "messages[\"summarizer\"].append(f\"From Critical Agent: {critical_result}\")"
   ]
  },
  {
   "cell_type": "code",
   "execution_count": 11,
   "metadata": {},
   "outputs": [],
   "source": [
    "# messages[\"research\"]"
   ]
  },
  {
   "cell_type": "markdown",
   "metadata": {},
   "source": [
    "In the second phase, each agent refines their solution based on input from all other agents:"
   ]
  },
  {
   "cell_type": "code",
   "execution_count": 12,
   "metadata": {},
   "outputs": [],
   "source": [
    "# Phase 2: Each agent refines based on input from others\n",
    "research_prompt = f\"{query}\\n\\nConsider these messages from other agents:\\n\" + \"\\n\\n\".join(messages[\"research\"])\n",
    "investment_prompt = f\"{query}\\n\\nConsider these messages from other agents:\\n\" + \"\\n\\n\".join(messages[\"investment\"])\n",
    "critical_prompt = f\"{query}\\n\\nConsider these messages from other agents:\\n\" + \"\\n\\n\".join(messages[\"critical\"])\n",
    "\n",
    "refined_research = research_agent(research_prompt)\n",
    "\n",
    "time.sleep(30)\n",
    "\n",
    "refined_investment = investment_agent(investment_prompt)\n",
    "\n",
    "time.sleep(30)\n",
    "\n",
    "refined_critical = critical_agent(critical_prompt)\n",
    "\n",
    "# Share refined results with summarizer\n",
    "messages[\"summarizer\"].append(f\"From Research Agent (Phase 2): {refined_research}\")\n",
    "messages[\"summarizer\"].append(f\"From Investment Agent (Phase 2): {refined_investment}\")\n",
    "messages[\"summarizer\"].append(f\"From Critical Agent (Phase 2): {refined_critical}\")"
   ]
  },
  {
   "cell_type": "markdown",
   "metadata": {},
   "source": [
    "Finally, the summarizer agent synthesizes all inputs into a comprehensive solution:"
   ]
  },
  {
   "cell_type": "code",
   "execution_count": 13,
   "metadata": {},
   "outputs": [
    {
     "name": "stdout",
     "output_type": "stream",
     "text": [
      "# Amazon.com, Inc. (AMZN) Investment Analysis: A Comprehensive Evaluation\n",
      "\n",
      "## Executive Summary\n",
      "\n",
      "Based on a thorough analysis of Amazon's 2024 10-K financial report, Amazon represents an excellent long-term investment opportunity, though with important considerations that investors should carefully weigh. The company demonstrates strong financial performance, strategic vision, and continued investment in high-growth areas that position it well for sustainable future growth.\n",
      "\n",
      "## Financial Performance\n",
      "\n",
      "Amazon shows robust financial health and impressive growth metrics:\n",
      "\n",
      "- **Revenue Growth**: 11% year-over-year increase to $638 billion in 2024\n",
      "- **Operating Cash Flow**: Substantial improvement from $84.9 billion to $115.9 billion (36% increase)\n",
      "- **Segment Performance**: \n",
      "  - AWS: Leading with 19% growth to $107.6 billion\n",
      "  - North America: 10% growth to $387.5 billion\n",
      "  - International: 9% growth to $142.9 billion\n",
      "- **Liquidity Position**: $101.2 billion in cash, cash equivalents, and marketable securities\n",
      "- **Segment Diversification**: Well-balanced revenue mix across three main segments\n",
      "\n",
      "This financial strength provides Amazon with significant flexibility to invest in growth initiatives, navigate economic uncertainties, and potentially return value to shareholders in the future.\n",
      "\n",
      "## Strategic Growth Engines\n",
      "\n",
      "### 1. AWS Cloud Services\n",
      "AWS continues to be a standout performer, growing at 19% and generating $107.6 billion in revenue. As businesses accelerate digital transformation and AI adoption increases, AWS is strategically positioned to benefit from the growing demand for cloud infrastructure and services. This segment likely provides higher margins than retail operations, contributing disproportionately to profitability.\n",
      "\n",
      "### 2. Artificial Intelligence Investments\n",
      "Amazon is making substantial investments in AI capabilities:\n",
      "- $2.75 billion invested in Anthropic in Q1 2024\n",
      "- Additional $1.3 billion in Q4 2024\n",
      "- $2.7 billion more planned by Q4 2025\n",
      "\n",
      "These investments position Amazon at the forefront of the AI revolution, with potential applications across all business segments. Amazon is uniquely positioned as both an AI application company and a provider of essential AI infrastructure through AWS.\n",
      "\n",
      "### 3. Advertising and Subscription Services\n",
      "Though specific advertising revenue figures aren't broken out in the report, advertising is identified as a key growth driver in both North America and International segments. This high-margin business leverages Amazon's vast consumer data and purchase intent information. Similarly, subscription services like Amazon Prime continue to strengthen customer loyalty and provide recurring revenue.\n",
      "\n",
      "## Investment Strengths\n",
      "\n",
      "1. **Diversified Business Model**: Amazon operates across e-commerce, cloud computing, advertising, subscription services, and emerging technologies, creating multiple growth vectors and reducing risk through diversification.\n",
      "\n",
      "2. **Infrastructure and Scale**: Amazon's massive fulfillment network (over 770 million square feet of leased and owned space) and technology infrastructure create significant barriers to entry and competitive advantages that are difficult to replicate.\n",
      "\n",
      "3. **Innovation Focus**: The company's continued investment in emerging technologies and infrastructure demonstrates its commitment to long-term growth and market leadership.\n",
      "\n",
      "4. **Financial Discipline**: Despite heavy investments, Amazon generates strong cash flow, demonstrating efficient capital allocation and operational excellence.\n",
      "\n",
      "5. **Customer-Centric Philosophy**: Amazon's consistent focus on \"customer obsession\" as its first guiding principle has driven its success for decades and continues to shape its strategic decisions.\n",
      "\n",
      "## Risk Considerations\n",
      "\n",
      "1. **Capital Expenditure Requirements**: Amazon's significant ongoing investments ($77.7 billion in 2024, expected to increase in 2025) create pressure on near-term returns.\n",
      "   \n",
      "2. **Regulatory Scrutiny**: The company faces \"open investigations based on claims that aspects of operations infringe competition or consumer protection rules,\" which could potentially impact business practices or result in penalties.\n",
      "\n",
      "3. **Intense Competition**: Amazon faces robust competition across all business segments from established players and new entrants with \"greater resources, longer histories, more customers, greater brand recognition.\"\n",
      "\n",
      "4. **International Challenges**: Operations in markets like China and India involve complex regulatory environments and potential restrictions that could limit growth opportunities.\n",
      "\n",
      "5. **Execution Risk**: Expansion into new markets, products, and services creates operational challenges and potential for missteps.\n",
      "\n",
      "## Investment Recommendation\n",
      "\n",
      "**Amazon represents a strong investment opportunity for long-term investors** based on its:\n",
      "\n",
      "- Multiple established and emerging growth engines\n",
      "- Exceptional cash flow generation capabilities\n",
      "- Strategic positioning in high-growth markets (cloud computing, AI, advertising)\n",
      "- Proven track record of innovation and market disruption\n",
      "- Strong leadership with a clear long-term vision\n",
      "\n",
      "For investors with a long-term horizon who can tolerate some regulatory and competitive uncertainties, Amazon offers exposure to multiple high-growth sectors through a single investment. The company's willingness to invest heavily in future capabilities, even at the expense of short-term profits, aligns with a sustainable growth strategy that has proven successful over its history.\n",
      "\n",
      "## Investor Considerations\n",
      "\n",
      "1. **Time Horizon**: Amazon is best suited for investors with a multi-year investment horizon who understand the company's strategy of prioritizing growth and customer experience over short-term profit maximization.\n",
      "\n",
      "2. **Risk Tolerance**: Potential investors should be comfortable with regulatory uncertainties and the company's significant capital expenditure requirements.\n",
      "\n",
      "3. **Portfolio Allocation**: Consider Amazon as a core holding within a diversified portfolio, recognizing that near-term volatility may occur as the company navigates regulatory challenges and continues its investment cycle.\n",
      "\n",
      "4. **Monitoring Points**: Investors should particularly watch for developments in regulatory investigations, AWS growth rates, and returns on the substantial AI investments.\n",
      "\n",
      "In conclusion, Amazon's strong financial performance, strategic vision, and continued innovation make it a compelling long-term investment, despite regulatory and competitive challenges. For patient investors seeking exposure to a company with multiple growth vectors and proven execution capabilities, Amazon represents an attractive opportunity."
     ]
    }
   ],
   "source": [
    "# Final phase: Summarizer creates the final solution\n",
    "time.sleep(30)\n",
    "\n",
    "summarizer_prompt = f\"\"\"\n",
    "Original query: {query}\n",
    "\n",
    "Please synthesize the following inputs from all agents into a comprehensive final solution:\n",
    "\n",
    "{\"\\n\\n\".join(messages[\"summarizer\"])}\n",
    "\n",
    "Create a well-structured final answer that incorporates the research findings, \n",
    "creative ideas, and addresses the critical feedback.\n",
    "Provide recommendation weather to invest in this company or not.Provide rationale to support your recommendation\n",
    "\"\"\"\n",
    "\n",
    "final_solution = str(summarizer_agent(summarizer_prompt))"
   ]
  },
  {
   "cell_type": "code",
   "execution_count": 47,
   "metadata": {},
   "outputs": [
    {
     "name": "stdout",
     "output_type": "stream",
     "text": [
      "# Investment Analysis: Amazon.com, Inc. (AMZN)\n",
      "\n",
      "## Executive Summary\n",
      "\n",
      "After comprehensive analysis of Amazon's 2024 10-K report, I recommend Amazon as a **strong investment opportunity** for long-term investors. The company demonstrates robust financial performance, strategic diversification across multiple high-growth segments, and continues to make forward-looking investments that position it well for sustainable growth, despite some notable risks that require consideration.\n",
      "\n",
      "## Financial Performance Analysis\n",
      "\n",
      "Amazon has delivered impressive financial results in 2024:\n",
      "\n",
      "- **Revenue Growth**: 11% year-over-year increase to $637.96 billion\n",
      "  - North America: $387.5 billion (10% growth) - 61% of total revenue\n",
      "  - International: $142.9 billion (9% growth) - 22% of total revenue\n",
      "  - AWS: $107.6 billion (19% growth) - 17% of total revenue\n",
      "\n",
      "- **Cash Flow Generation**: Operating cash flow increased dramatically to $115.88 billion in 2024 (from $84.95 billion in 2023), representing a 36% improvement\n",
      "  \n",
      "- **Liquidity Position**: $101.2 billion in cash, cash equivalents, and marketable securities, providing significant financial flexibility\n",
      "\n",
      "This financial strength is particularly notable given the company continues to invest heavily in future growth initiatives, demonstrating Amazon's ability to balance current profitability with long-term strategic investments.\n",
      "\n",
      "## Investment Strengths\n",
      "\n",
      "### 1. Diversified Business Model with Multiple Growth Engines\n",
      "\n",
      "Amazon has successfully built a diversified business ecosystem with several strong growth vectors:\n",
      "- E-commerce (both first-party and third-party marketplace)\n",
      "- Cloud computing services (AWS)\n",
      "- Digital advertising (rapidly growing high-margin business)\n",
      "- Subscription services (Prime membership)\n",
      "- Emerging areas like healthcare\n",
      "\n",
      "This diversification creates resilience against sector-specific downturns and provides multiple pathways for continued growth.\n",
      "\n",
      "### 2. AWS Leadership and Cloud Computing Dominance\n",
      "\n",
      "AWS continues to be a standout performer with 19% growth, outpacing the company's overall growth rate. As enterprises continue digital transformation and adopt AI technologies, AWS is strategically positioned as a market leader with strong margins and growth potential.\n",
      "\n",
      "### 3. Strategic AI Investments\n",
      "\n",
      "Amazon is making significant investments in artificial intelligence:\n",
      "- $4+ billion investment in Anthropic through convertible notes\n",
      "- Substantial infrastructure investments to support AI development and services\n",
      "- Integration of AI capabilities across its product ecosystem\n",
      "\n",
      "These investments position Amazon at the forefront of the AI revolution, a technology trend that is likely to drive significant value across all business segments.\n",
      "\n",
      "### 4. Operational Excellence and Scale\n",
      "\n",
      "Amazon operates a massive fulfillment network with over 700 million square feet of facilities globally. This infrastructure creates significant competitive advantages in:\n",
      "- Fulfillment speed and reliability\n",
      "- Operating efficiency through economies of scale\n",
      "- Barriers to entry for potential competitors\n",
      "\n",
      "### 5. Customer-Centric Focus and Ecosystem Lock-In\n",
      "\n",
      "The company's stated mission to be \"Earth's most customer-centric company\" has translated into strong customer loyalty and ecosystem lock-in through services like Prime membership, creating a sustainable competitive advantage and stable revenue streams.\n",
      "\n",
      "## Risk Factors and Challenges\n",
      "\n",
      "### 1. Significant Capital Expenditure Requirements\n",
      "\n",
      "Amazon's growth strategy requires substantial ongoing investment:\n",
      "- $77.7 billion in capital expenditures in 2024 (up from $48.1 billion in 2023)\n",
      "- Expected to increase further in 2025, primarily for technology infrastructure\n",
      "- These investments pressure near-term profitability metrics\n",
      "\n",
      "### 2. Regulatory Scrutiny and Legal Challenges\n",
      "\n",
      "Amazon faces increasing regulatory pressure across multiple jurisdictions:\n",
      "- Antitrust investigations regarding marketplace practices and competition\n",
      "- Data privacy and security regulations\n",
      "- Potential new regulations targeting large technology platforms\n",
      "\n",
      "### 3. Intense Competitive Landscape\n",
      "\n",
      "The company operates in highly competitive markets across all segments:\n",
      "- E-commerce competition from traditional retailers and specialized online players\n",
      "- Cloud services competition from Microsoft Azure, Google Cloud, and others\n",
      "- Advertising competition from Google, Meta, and emerging retail media networks\n",
      "\n",
      "### 4. International Operational Complexities\n",
      "\n",
      "Operating globally presents unique challenges:\n",
      "- Regulatory restrictions in key markets like China and India\n",
      "- Foreign exchange risk exposure\n",
      "- Local competition and market dynamics\n",
      "- Political and economic instability in certain regions\n",
      "\n",
      "## Investment Recommendation\n",
      "\n",
      "**Recommendation: Amazon represents a compelling long-term investment opportunity.**\n",
      "\n",
      "The rationale for this recommendation includes:\n",
      "\n",
      "1. **Financial Strength and Cash Flow Generation**: Amazon's exceptional cash flow growth (36% year-over-year) demonstrates its ability to generate significant returns while continuing to invest in future growth areas. The strong balance sheet provides flexibility to weather economic downturns and pursue strategic opportunities.\n",
      "\n",
      "2. **Diversified Growth Profile**: Multiple strong business segments provide balanced growth and reduce risk exposure to any single market. AWS's continued outperformance (19% growth) is particularly compelling given the higher margins in this segment.\n",
      "\n",
      "3. **Strategic Vision and Execution**: Management continues to demonstrate long-term thinking and disciplined execution through strategic investments in infrastructure, AI, and emerging business areas. Their history of successfully entering and disrupting new markets provides confidence in future growth initiatives.\n",
      "\n",
      "4. **Leading Position in Secular Growth Trends**: Amazon provides exposure to multiple long-term growth trends including e-commerce penetration, cloud computing adoption, digital advertising growth, and artificial intelligence development.\n",
      "\n",
      "5. **Customer-Centric Culture**: The company's focus on customer experience and continuous innovation has created strong brand loyalty and ecosystem lock-in, providing sustainable competitive advantages.\n",
      "\n",
      "While Amazon does face meaningful challenges including regulatory scrutiny, intense competition, and high capital requirements, these risks appear manageable given the company's financial resources, diversified business model, and track record of successful execution. The significant increase in operating cash flow is particularly encouraging, demonstrating the company's ability to generate substantial returns while continuing to invest for the future.\n",
      "\n",
      "For investors with a long-term horizon who can tolerate some short-term volatility, Amazon presents an attractive investment opportunity with exposure to multiple high-growth technology sectors and a proven management team focused on sustainable value creation.\n",
      "\n"
     ]
    }
   ],
   "source": [
    "print(final_solution)"
   ]
  },
  {
   "cell_type": "markdown",
   "metadata": {},
   "source": [
    "This mesh architecture enables direct communication between all agents, allowing each agent to share insights with every other agent. The specialized roles (research, creative, critical, and summarizer) work together to produce a comprehensive solution that benefits from multiple perspectives and iterative refinement."
   ]
  },
  {
   "cell_type": "markdown",
   "metadata": {},
   "source": [
    "### 2.2 Implementing Shared Memory"
   ]
  },
  {
   "cell_type": "markdown",
   "metadata": {},
   "source": [
    "While the mesh communication example effectively demonstrates agent collaboration, a shared memory system would enhance the swarm's capabilities by providing:\n",
    "\n",
    "- A centralized knowledge repository for all agents\n",
    "- Automated phase tracking and historical knowledge preservation\n",
    "- Thread-safe concurrent access for improved efficiency\n",
    "- Persistent storage of insights across multiple interactions\n",
    "\n",
    "Extending our mesh swarm example with shared memory would replace the message dictionary with a SharedMemory instance, simplifying the code while enabling more sophisticated knowledge management."
   ]
  },
  {
   "cell_type": "markdown",
   "metadata": {},
   "source": [
    "## When to use Swarm:\n",
    "\n",
    "- For quick, parallel processing of a single complex task\n",
    "- When you need multiple perspectives on the same problem\n",
    "- For tasks that benefit from collective intelligence\n",
    "\n",
    "## Conclusion\n",
    "\n",
    "Multi-agent swarms solve complex problems through collective intelligence. The Strands Agents SDK supports both custom implementations and a built-in swarm tool with shared memory. By distributing tasks across specialized agents and enabling effective communication, swarms achieve better results than single agents working alone. Whether using mesh communication patterns or the swarm tool, developers can create systems where multiple agents work together with defined roles, coordination mechanisms, and knowledge sharing.\n",
    "\n"
   ]
  }
 ],
 "metadata": {
  "kernelspec": {
   "display_name": "Python 3 (ipykernel)",
   "language": "python",
   "name": "python3"
  },
  "language_info": {
   "codemirror_mode": {
    "name": "ipython",
    "version": 3
   },
   "file_extension": ".py",
   "mimetype": "text/x-python",
   "name": "python",
   "nbconvert_exporter": "python",
   "pygments_lexer": "ipython3",
   "version": "3.12.9"
  }
 },
 "nbformat": 4,
 "nbformat_minor": 4
}
