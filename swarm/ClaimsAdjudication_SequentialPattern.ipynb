{
 "cells": [
  {
   "cell_type": "markdown",
   "metadata": {
    "pycharm": {
     "name": "#%% md\n"
    }
   },
   "source": [
    "# Autonomous Claims Adjudication using Agent Workflows with Strands Agents"
   ]
  },
  {
   "cell_type": "markdown",
   "metadata": {
    "pycharm": {
     "name": "#%%\n"
    }
   },
   "source": [
    "## Understanding Multi-Agent Systems and Swarm Intelligence\n",
    "\n",
    "An agent swarm is a collection of autonomous AI agents working together to solve complex problems through collaboration. Inspired by natural systems like ant colonies or bird flocks, agent swarms leverage collective intelligence where the combined output exceeds what any single agent could produce. By distributing tasks and sharing information, swarms can tackle complex problems more efficiently and effectively than individual agents working in isolation.\n",
    "\n",
    "Multi-agent systems consist of multiple interacting intelligent agents within an environment. These systems enable:\n",
    "\n",
    "- *Distributed Problem Solving*: Breaking complex tasks into subtasks for parallel processing\n",
    "- *Information Sharing*: Agents exchange insights to build collective knowledge\n",
    "- *Specialization*: Different agents focus on specific aspects of a problem\n",
    "- *Redundancy*: Multiple agents working on similar tasks improve reliability\n",
    "- *Emergent Intelligence*: The system exhibits capabilities beyond those of its individual components\n",
    "\n",
    "Swarm intelligence emphasizes:\n",
    "\n",
    "1. *Decentralized Control*: No single agent directs the entire system\n",
    "2. *Local Interactions*: Agents primarily interact with nearby agents\n",
    "3. *Simple Rules*: Individual agents follow relatively simple behaviors\n",
    "4. *Emergent Complexity*: Complex system behavior emerges from simple agent interactions"
   ]
  },
  {
   "cell_type": "markdown",
   "metadata": {},
   "source": [
    "### Autonomous Claims Adjudication\n",
    "\n",
    "Claims adjudication is the process by which insurance companies process, review, validate, and assess claims to determine if they should be paid, adjusted, or denied.\n",
    "\n",
    "Here is a Generic Example of a Claim Adjudication Workflow for Auto-insurnace\n",
    "\n",
    "NOTE: THIS IS JUST AN EXAMPLE FOR ILLUSTRATION PURPOSES. \n",
    "\n",
    "\n"
   ]
  },
  {
   "cell_type": "markdown",
   "metadata": {},
   "source": [
    "<p align=\"center\">\n",
    "    <img src=\"./images/ClaimsAdjudicationFlow.png\">\n",
    "</p>"
   ]
  },
  {
   "attachments": {},
   "cell_type": "markdown",
   "metadata": {},
   "source": [
    "### Workflow Pattern - Sequential\n",
    "\n",
    "In the Claims Adjudication Flow, there are tasks that have dependencies and   need to be completed before moving to the next task.\n",
    "We can use a Swarm Sequential pattern where each agent completes its task before passing the result to the next agent in the chain. \n",
    "\n",
    "\n",
    "#### Agentic Flow:\n",
    "An agent that receives an insurance claim (First Notification of Loss), retrieves policy details, validates information against external sources (e.g., repair shop estimates), completes appraisal or damage assessments, and approves payment or flags the claim for human review.\n",
    "\n",
    "Pattern —> Workflow with Sequential process\n"
   ]
  },
  {
   "cell_type": "markdown",
   "metadata": {},
   "source": [
    "<p align=\"center\">\n",
    "    <img src=\"./images/ClaimProcessing.png\">\n",
    "</p>"
   ]
  },
  {
   "cell_type": "markdown",
   "metadata": {},
   "source": [
    "## 1. Quick Start with Swarm tool"
   ]
  },
  {
   "cell_type": "markdown",
   "metadata": {},
   "source": [
    "The Strands Agents SDK provides a built-in swarm tool that simplifies the implementation of multi-agent systems, offering a quick start for users. This tool implements the shared memory."
   ]
  },
  {
   "cell_type": "code",
   "execution_count": 1,
   "metadata": {},
   "outputs": [
    {
     "name": "stdout",
     "output_type": "stream",
     "text": [
      "Collecting strands-agents (from -r requirements.txt (line 1))\n",
      "  Using cached strands_agents-0.1.9-py3-none-any.whl.metadata (10 kB)\n",
      "Collecting strands-agents-tools (from -r requirements.txt (line 2))\n",
      "  Using cached strands_agents_tools-0.1.7-py3-none-any.whl.metadata (23 kB)\n",
      "Requirement already satisfied: boto3<2.0.0,>=1.26.0 in /opt/conda/lib/python3.12/site-packages (from strands-agents->-r requirements.txt (line 1)) (1.37.1)\n",
      "Requirement already satisfied: botocore<2.0.0,>=1.29.0 in /opt/conda/lib/python3.12/site-packages (from strands-agents->-r requirements.txt (line 1)) (1.37.1)\n",
      "Collecting docstring-parser<1.0,>=0.15 (from strands-agents->-r requirements.txt (line 1))\n",
      "  Using cached docstring_parser-0.16-py3-none-any.whl.metadata (3.0 kB)\n",
      "Collecting mcp<2.0.0,>=1.8.0 (from strands-agents->-r requirements.txt (line 1))\n",
      "  Using cached mcp-1.10.1-py3-none-any.whl.metadata (40 kB)\n",
      "Requirement already satisfied: opentelemetry-api<2.0.0,>=1.30.0 in /opt/conda/lib/python3.12/site-packages (from strands-agents->-r requirements.txt (line 1)) (1.33.1)\n",
      "Requirement already satisfied: opentelemetry-sdk<2.0.0,>=1.30.0 in /opt/conda/lib/python3.12/site-packages (from strands-agents->-r requirements.txt (line 1)) (1.33.1)\n",
      "Requirement already satisfied: pydantic<3.0.0,>=2.0.0 in /opt/conda/lib/python3.12/site-packages (from strands-agents->-r requirements.txt (line 1)) (2.11.4)\n",
      "Requirement already satisfied: typing-extensions<5.0.0,>=4.13.2 in /opt/conda/lib/python3.12/site-packages (from strands-agents->-r requirements.txt (line 1)) (4.13.2)\n",
      "Collecting watchdog<7.0.0,>=6.0.0 (from strands-agents->-r requirements.txt (line 1))\n",
      "  Using cached watchdog-6.0.0-py3-none-manylinux2014_x86_64.whl.metadata (44 kB)\n",
      "Collecting aws-requests-auth<0.5.0,>=0.4.3 (from strands-agents-tools->-r requirements.txt (line 2))\n",
      "  Using cached aws_requests_auth-0.4.3-py2.py3-none-any.whl.metadata (567 bytes)\n",
      "Requirement already satisfied: colorama<0.5.0,>=0.4.6 in /opt/conda/lib/python3.12/site-packages (from strands-agents-tools->-r requirements.txt (line 2)) (0.4.6)\n",
      "Requirement already satisfied: dill<0.5.0,>=0.4.0 in /opt/conda/lib/python3.12/site-packages (from strands-agents-tools->-r requirements.txt (line 2)) (0.4.0)\n",
      "Requirement already satisfied: pillow<12.0.0,>=11.2.1 in /opt/conda/lib/python3.12/site-packages (from strands-agents-tools->-r requirements.txt (line 2)) (11.2.1)\n",
      "Requirement already satisfied: prompt-toolkit<4.0.0,>=3.0.51 in /opt/conda/lib/python3.12/site-packages (from strands-agents-tools->-r requirements.txt (line 2)) (3.0.51)\n",
      "Requirement already satisfied: pyjwt<3.0.0,>=2.10.1 in /opt/conda/lib/python3.12/site-packages (from strands-agents-tools->-r requirements.txt (line 2)) (2.10.1)\n",
      "Requirement already satisfied: rich<15.0.0,>=14.0.0 in /opt/conda/lib/python3.12/site-packages (from strands-agents-tools->-r requirements.txt (line 2)) (14.0.0)\n",
      "Collecting slack-bolt<2.0.0,>=1.23.0 (from strands-agents-tools->-r requirements.txt (line 2))\n",
      "  Using cached slack_bolt-1.23.0-py2.py3-none-any.whl.metadata (11 kB)\n",
      "Requirement already satisfied: sympy<2.0.0,>=1.12.0 in /opt/conda/lib/python3.12/site-packages (from strands-agents-tools->-r requirements.txt (line 2)) (1.14.0)\n",
      "Requirement already satisfied: tenacity<10.0.0,>=9.1.2 in /opt/conda/lib/python3.12/site-packages (from strands-agents-tools->-r requirements.txt (line 2)) (9.1.2)\n",
      "Requirement already satisfied: requests>=0.14.0 in /opt/conda/lib/python3.12/site-packages (from aws-requests-auth<0.5.0,>=0.4.3->strands-agents-tools->-r requirements.txt (line 2)) (2.32.3)\n",
      "Requirement already satisfied: jmespath<2.0.0,>=0.7.1 in /opt/conda/lib/python3.12/site-packages (from boto3<2.0.0,>=1.26.0->strands-agents->-r requirements.txt (line 1)) (1.0.1)\n",
      "Requirement already satisfied: s3transfer<0.12.0,>=0.11.0 in /opt/conda/lib/python3.12/site-packages (from boto3<2.0.0,>=1.26.0->strands-agents->-r requirements.txt (line 1)) (0.11.3)\n",
      "Requirement already satisfied: python-dateutil<3.0.0,>=2.1 in /opt/conda/lib/python3.12/site-packages (from botocore<2.0.0,>=1.29.0->strands-agents->-r requirements.txt (line 1)) (2.9.0.post0)\n",
      "Requirement already satisfied: urllib3!=2.2.0,<3,>=1.25.4 in /opt/conda/lib/python3.12/site-packages (from botocore<2.0.0,>=1.29.0->strands-agents->-r requirements.txt (line 1)) (2.4.0)\n",
      "Requirement already satisfied: anyio>=4.5 in /opt/conda/lib/python3.12/site-packages (from mcp<2.0.0,>=1.8.0->strands-agents->-r requirements.txt (line 1)) (4.9.0)\n",
      "Requirement already satisfied: httpx-sse>=0.4 in /opt/conda/lib/python3.12/site-packages (from mcp<2.0.0,>=1.8.0->strands-agents->-r requirements.txt (line 1)) (0.4.0)\n",
      "Requirement already satisfied: httpx>=0.27 in /opt/conda/lib/python3.12/site-packages (from mcp<2.0.0,>=1.8.0->strands-agents->-r requirements.txt (line 1)) (0.28.1)\n",
      "Requirement already satisfied: jsonschema>=4.20.0 in /opt/conda/lib/python3.12/site-packages (from mcp<2.0.0,>=1.8.0->strands-agents->-r requirements.txt (line 1)) (4.23.0)\n",
      "Requirement already satisfied: pydantic-settings>=2.5.2 in /opt/conda/lib/python3.12/site-packages (from mcp<2.0.0,>=1.8.0->strands-agents->-r requirements.txt (line 1)) (2.9.1)\n",
      "Requirement already satisfied: python-multipart>=0.0.9 in /opt/conda/lib/python3.12/site-packages (from mcp<2.0.0,>=1.8.0->strands-agents->-r requirements.txt (line 1)) (0.0.20)\n",
      "Collecting sse-starlette>=1.6.1 (from mcp<2.0.0,>=1.8.0->strands-agents->-r requirements.txt (line 1))\n",
      "  Using cached sse_starlette-2.3.6-py3-none-any.whl.metadata (10 kB)\n",
      "Requirement already satisfied: starlette>=0.27 in /opt/conda/lib/python3.12/site-packages (from mcp<2.0.0,>=1.8.0->strands-agents->-r requirements.txt (line 1)) (0.46.2)\n",
      "Requirement already satisfied: uvicorn>=0.23.1 in /opt/conda/lib/python3.12/site-packages (from mcp<2.0.0,>=1.8.0->strands-agents->-r requirements.txt (line 1)) (0.34.2)\n",
      "Requirement already satisfied: deprecated>=1.2.6 in /opt/conda/lib/python3.12/site-packages (from opentelemetry-api<2.0.0,>=1.30.0->strands-agents->-r requirements.txt (line 1)) (1.2.18)\n",
      "Requirement already satisfied: importlib-metadata<8.7.0,>=6.0 in /opt/conda/lib/python3.12/site-packages (from opentelemetry-api<2.0.0,>=1.30.0->strands-agents->-r requirements.txt (line 1)) (6.10.0)\n",
      "Requirement already satisfied: opentelemetry-semantic-conventions==0.54b1 in /opt/conda/lib/python3.12/site-packages (from opentelemetry-sdk<2.0.0,>=1.30.0->strands-agents->-r requirements.txt (line 1)) (0.54b1)\n",
      "Requirement already satisfied: wcwidth in /opt/conda/lib/python3.12/site-packages (from prompt-toolkit<4.0.0,>=3.0.51->strands-agents-tools->-r requirements.txt (line 2)) (0.2.13)\n",
      "Requirement already satisfied: annotated-types>=0.6.0 in /opt/conda/lib/python3.12/site-packages (from pydantic<3.0.0,>=2.0.0->strands-agents->-r requirements.txt (line 1)) (0.7.0)\n",
      "Requirement already satisfied: pydantic-core==2.33.2 in /opt/conda/lib/python3.12/site-packages (from pydantic<3.0.0,>=2.0.0->strands-agents->-r requirements.txt (line 1)) (2.33.2)\n",
      "Requirement already satisfied: typing-inspection>=0.4.0 in /opt/conda/lib/python3.12/site-packages (from pydantic<3.0.0,>=2.0.0->strands-agents->-r requirements.txt (line 1)) (0.4.0)\n",
      "Requirement already satisfied: markdown-it-py>=2.2.0 in /opt/conda/lib/python3.12/site-packages (from rich<15.0.0,>=14.0.0->strands-agents-tools->-r requirements.txt (line 2)) (3.0.0)\n",
      "Requirement already satisfied: pygments<3.0.0,>=2.13.0 in /opt/conda/lib/python3.12/site-packages (from rich<15.0.0,>=14.0.0->strands-agents-tools->-r requirements.txt (line 2)) (2.19.1)\n",
      "Collecting slack_sdk<4,>=3.35.0 (from slack-bolt<2.0.0,>=1.23.0->strands-agents-tools->-r requirements.txt (line 2))\n",
      "  Using cached slack_sdk-3.35.0-py2.py3-none-any.whl.metadata (15 kB)\n",
      "Requirement already satisfied: mpmath<1.4,>=1.1.0 in /opt/conda/lib/python3.12/site-packages (from sympy<2.0.0,>=1.12.0->strands-agents-tools->-r requirements.txt (line 2)) (1.3.0)\n",
      "Requirement already satisfied: idna>=2.8 in /opt/conda/lib/python3.12/site-packages (from anyio>=4.5->mcp<2.0.0,>=1.8.0->strands-agents->-r requirements.txt (line 1)) (3.10)\n",
      "Requirement already satisfied: sniffio>=1.1 in /opt/conda/lib/python3.12/site-packages (from anyio>=4.5->mcp<2.0.0,>=1.8.0->strands-agents->-r requirements.txt (line 1)) (1.3.1)\n",
      "Requirement already satisfied: wrapt<2,>=1.10 in /opt/conda/lib/python3.12/site-packages (from deprecated>=1.2.6->opentelemetry-api<2.0.0,>=1.30.0->strands-agents->-r requirements.txt (line 1)) (1.17.2)\n",
      "Requirement already satisfied: certifi in /opt/conda/lib/python3.12/site-packages (from httpx>=0.27->mcp<2.0.0,>=1.8.0->strands-agents->-r requirements.txt (line 1)) (2025.4.26)\n",
      "Requirement already satisfied: httpcore==1.* in /opt/conda/lib/python3.12/site-packages (from httpx>=0.27->mcp<2.0.0,>=1.8.0->strands-agents->-r requirements.txt (line 1)) (1.0.9)\n",
      "Requirement already satisfied: h11>=0.16 in /opt/conda/lib/python3.12/site-packages (from httpcore==1.*->httpx>=0.27->mcp<2.0.0,>=1.8.0->strands-agents->-r requirements.txt (line 1)) (0.16.0)\n",
      "Requirement already satisfied: zipp>=0.5 in /opt/conda/lib/python3.12/site-packages (from importlib-metadata<8.7.0,>=6.0->opentelemetry-api<2.0.0,>=1.30.0->strands-agents->-r requirements.txt (line 1)) (3.21.0)\n",
      "Requirement already satisfied: attrs>=22.2.0 in /opt/conda/lib/python3.12/site-packages (from jsonschema>=4.20.0->mcp<2.0.0,>=1.8.0->strands-agents->-r requirements.txt (line 1)) (23.2.0)\n",
      "Requirement already satisfied: jsonschema-specifications>=2023.03.6 in /opt/conda/lib/python3.12/site-packages (from jsonschema>=4.20.0->mcp<2.0.0,>=1.8.0->strands-agents->-r requirements.txt (line 1)) (2025.4.1)\n",
      "Requirement already satisfied: referencing>=0.28.4 in /opt/conda/lib/python3.12/site-packages (from jsonschema>=4.20.0->mcp<2.0.0,>=1.8.0->strands-agents->-r requirements.txt (line 1)) (0.36.2)\n",
      "Requirement already satisfied: rpds-py>=0.7.1 in /opt/conda/lib/python3.12/site-packages (from jsonschema>=4.20.0->mcp<2.0.0,>=1.8.0->strands-agents->-r requirements.txt (line 1)) (0.25.0)\n",
      "Requirement already satisfied: mdurl~=0.1 in /opt/conda/lib/python3.12/site-packages (from markdown-it-py>=2.2.0->rich<15.0.0,>=14.0.0->strands-agents-tools->-r requirements.txt (line 2)) (0.1.2)\n",
      "Requirement already satisfied: python-dotenv>=0.21.0 in /opt/conda/lib/python3.12/site-packages (from pydantic-settings>=2.5.2->mcp<2.0.0,>=1.8.0->strands-agents->-r requirements.txt (line 1)) (1.1.0)\n",
      "Requirement already satisfied: six>=1.5 in /opt/conda/lib/python3.12/site-packages (from python-dateutil<3.0.0,>=2.1->botocore<2.0.0,>=1.29.0->strands-agents->-r requirements.txt (line 1)) (1.17.0)\n",
      "Requirement already satisfied: charset_normalizer<4,>=2 in /opt/conda/lib/python3.12/site-packages (from requests>=0.14.0->aws-requests-auth<0.5.0,>=0.4.3->strands-agents-tools->-r requirements.txt (line 2)) (3.4.2)\n",
      "Requirement already satisfied: click>=7.0 in /opt/conda/lib/python3.12/site-packages (from uvicorn>=0.23.1->mcp<2.0.0,>=1.8.0->strands-agents->-r requirements.txt (line 1)) (8.2.1)\n",
      "Using cached strands_agents-0.1.9-py3-none-any.whl (124 kB)\n",
      "Using cached strands_agents_tools-0.1.7-py3-none-any.whl (159 kB)\n",
      "Using cached aws_requests_auth-0.4.3-py2.py3-none-any.whl (6.8 kB)\n",
      "Using cached docstring_parser-0.16-py3-none-any.whl (36 kB)\n",
      "Using cached mcp-1.10.1-py3-none-any.whl (150 kB)\n",
      "Using cached slack_bolt-1.23.0-py2.py3-none-any.whl (229 kB)\n",
      "Using cached watchdog-6.0.0-py3-none-manylinux2014_x86_64.whl (79 kB)\n",
      "Using cached slack_sdk-3.35.0-py2.py3-none-any.whl (293 kB)\n",
      "Using cached sse_starlette-2.3.6-py3-none-any.whl (10 kB)\n",
      "Installing collected packages: watchdog, slack_sdk, docstring-parser, sse-starlette, slack-bolt, aws-requests-auth, mcp, strands-agents, strands-agents-tools\n",
      "Successfully installed aws-requests-auth-0.4.3 docstring-parser-0.16 mcp-1.10.1 slack-bolt-1.23.0 slack_sdk-3.35.0 sse-starlette-2.3.6 strands-agents-0.1.9 strands-agents-tools-0.1.7 watchdog-6.0.0\n",
      "Collecting PyPDF2\n",
      "  Using cached pypdf2-3.0.1-py3-none-any.whl.metadata (6.8 kB)\n",
      "Using cached pypdf2-3.0.1-py3-none-any.whl (232 kB)\n",
      "Installing collected packages: PyPDF2\n",
      "Successfully installed PyPDF2-3.0.1\n"
     ]
    }
   ],
   "source": [
    "!pip install -r requirements.txt\n",
    "!pip install PyPDF2"
   ]
  },
  {
   "cell_type": "code",
   "execution_count": 2,
   "metadata": {},
   "outputs": [],
   "source": [
    "from strands import Agent\n",
    "from strands_tools import swarm\n",
    "import time\n",
    "import PyPDF2\n",
    "import json\n",
    "import boto3\n",
    "import yaml\n",
    "import os\n",
    "import logging\n"
   ]
  },
  {
   "cell_type": "code",
   "execution_count": 3,
   "metadata": {},
   "outputs": [],
   "source": [
    "import PyPDF2\n",
    "\n",
    "def read_file(file_path):\n",
    "    \"\"\"\n",
    "    Read and extract text from a PDF file.\n",
    "    \n",
    "    Args:\n",
    "        file_path (str): Path to the PDF file\n",
    "        \n",
    "    Returns:\n",
    "        str: Extracted text from the PDF\n",
    "    \"\"\"\n",
    "    try:\n",
    "        # Open the PDF file in binary read mode\n",
    "        # with open(file_path, 'rb') as file:\n",
    "        #     # Create a PDF reader object\n",
    "        #     pdf_reader = PyPDF2.PdfReader(file)\n",
    "        with open(file_path, 'r') as file:\n",
    "            file = file.read()\n",
    "            source_json = json.loads(file)\n",
    "            \n",
    "            # # Get number of pages\n",
    "            # num_pages = len(pdf_reader.pages)\n",
    "            # print(f\"Total pages: {num_pages}\")\n",
    "            \n",
    "            # # Extract text from each page\n",
    "            # text = \"\"\n",
    "            # for page_num in range(num_pages):\n",
    "            #     page = pdf_reader.pages[page_num]\n",
    "            #     text += page.extract_text()\n",
    "                \n",
    "            return source_json\n",
    "    \n",
    "    except FileNotFoundError:\n",
    "        return \"Error: The file was not found.\"\n",
    "    except PyPDF2.errors.PdfReadError:\n",
    "        return \"Error: Invalid PDF file or the file is encrypted.\"\n",
    "    except Exception as e:\n",
    "        return f\"Error: {str(e)}\"\n",
    "\n"
   ]
  },
  {
   "cell_type": "code",
   "execution_count": 4,
   "metadata": {
    "scrolled": true
   },
   "outputs": [
    {
     "name": "stdout",
     "output_type": "stream",
     "text": [
      "fnol_report text:\n",
      "{'fnol': {'claimNumber': 'CL-2023-1156789', 'reportDate': '2023-11-21', 'reportTime': '14:35:00', 'reportMethod': 'Online', 'submittedBy': 'Policyholder'}, 'policyInformation': {'policyNumber': 'AUTO-P987654321', 'policyType': 'Auto Insurance', 'effectiveDate': '2023-01-15', 'expirationDate': '2024-01-15', 'insuranceProvider': 'Acme Insurance Company', 'coverageTypes': [{'type': 'Liability', 'limit': '$300,000/$500,000'}, {'type': 'Collision', 'deductible': '$500'}, {'type': 'Comprehensive', 'deductible': '$250'}, {'type': 'Medical Payments', 'limit': '$10,000'}, {'type': 'Uninsured/Underinsured Motorist', 'limit': '$250,000/$500,000'}, {'type': 'Rental Reimbursement', 'limit': '$40/day, $1,200 maximum'}, {'type': 'Roadside Assistance', 'included': True}]}, 'policyholder': {'firstName': 'John', 'lastName': 'Smith', 'dateOfBirth': '1985-06-12', 'address': {'street': '123 Main Street', 'city': 'Springfield', 'state': 'IL', 'zipCode': '62704'}, 'contactInformation': {'homePhone': '217-555-1234', 'cellPhone': '217-555-5678', 'email': 'john.smith@email.com', 'preferredContactMethod': 'Email'}, 'driverLicense': {'number': 'S530-4281-7924', 'state': 'IL', 'expirationDate': '2026-06-12'}}, 'incident': {'date': '2023-11-19', 'time': '17:45:00', 'location': {'street': '456 Oak Avenue', 'city': 'Springfield', 'state': 'IL', 'zipCode': '62704', 'intersection': 'Oak Avenue and Maple Street', 'gpsCoordinates': {'latitude': '39.78383', 'longitude': '-89.65031'}}, 'description': 'While stopped at a red light, my vehicle was rear-ended by another car. The impact pushed my vehicle forward about 5 feet. I pulled over to the side of the road to exchange information with the other driver.', 'weatherConditions': {'condition': 'Light Rain', 'roadCondition': 'Wet', 'visibility': 'Good'}, 'policeReport': {'filed': True, 'reportNumber': 'SPD-2023-11875', 'departmentName': 'Springfield Police Department', 'officerName': 'Officer Michael Johnson', 'badgeNumber': '42587'}, 'witnesses': [{'name': 'Sarah Williams', 'phone': '217-555-9012', 'statement': \"I saw the blue sedan rear-end the policyholder's vehicle while it was completely stopped at the red light.\"}]}, 'vehicle': {'insuredVehicle': {'year': 2020, 'make': 'Honda', 'model': 'Accord', 'trim': 'EX-L', 'vin': '1HGCV2F35LA007149', 'licensePlate': {'number': 'ABC 1234', 'state': 'IL'}, 'mileage': 35650, 'primaryDriver': 'John Smith', 'damage': {'description': 'Rear bumper dented and paint scratched, trunk lid misaligned, possible frame damage, brake lights damaged', 'estimatedRepairCost': '$4,500', 'areas': ['Rear bumper', 'Trunk', 'Taillights', 'Possible frame']}, 'drivable': False, 'location': 'Springfield Auto Body Shop, 789 Industrial Pkwy, Springfield, IL 62704', 'photos': ['http://claimportal.acmeinsurance.com/claims/CL-2023-1156789/photo1.jpg', 'http://claimportal.acmeinsurance.com/claims/CL-2023-1156789/photo2.jpg', 'http://claimportal.acmeinsurance.com/claims/CL-2023-1156789/photo3.jpg', 'http://claimportal.acmeinsurance.com/claims/CL-2023-1156789/photo4.jpg']}}, 'otherParties': [{'type': 'Driver', 'firstName': 'Robert', 'lastName': 'Johnson', 'dateOfBirth': '1990-03-25', 'address': {'street': '789 Pine Road', 'city': 'Springfield', 'state': 'IL', 'zipCode': '62707'}, 'contactInformation': {'phone': '217-555-3456', 'email': 'robert.johnson@email.com'}, 'driverLicense': {'number': 'J525-7891-4562', 'state': 'IL'}, 'vehicle': {'year': 2018, 'make': 'Toyota', 'model': 'Camry', 'vin': '4T1B11HK5JU123456', 'licensePlate': {'number': 'XYZ 7890', 'state': 'IL'}, 'damage': {'description': 'Front bumper, hood, radiator damaged', 'areas': ['Front bumper', 'Hood', 'Grille', 'Radiator']}}, 'insurance': {'company': 'State County Insurance', 'policyNumber': 'AUTO-56789012', 'phoneNumber': '800-123-4567', 'verified': True}}], 'injuries': [{'injured': {'firstName': 'John', 'lastName': 'Smith', 'relationship': 'Policyholder'}, 'description': 'Neck pain, possible whiplash', 'medicalAttention': {'received': True, 'provider': 'Springfield General Hospital', 'date': '2023-11-19', 'treatmentDetails': 'X-rays taken, prescribed pain medication and neck brace'}}, {'injured': {'firstName': 'Robert', 'lastName': 'Johnson', 'relationship': 'Other driver'}, 'description': 'Minor airbag abrasions on face and arms', 'medicalAttention': {'received': True, 'provider': 'Springfield General Hospital', 'date': '2023-11-19', 'treatmentDetails': 'Examined and released with no serious injuries'}}], 'rentalCar': {'needed': True, 'provider': 'Enterprise Rent-A-Car', 'startDate': '2023-11-20', 'expectedDuration': '14 days', 'rentalDetails': {'make': 'Nissan', 'model': 'Altima', 'year': 2022, 'rentalRate': '$38/day'}}}\n"
     ]
    }
   ],
   "source": [
    "# Example usage\n",
    "if __name__ == \"__main__\":\n",
    "    file_path = \"data/FNOL.json\"  # Replace with your PDF file path\n",
    "    fnol_event = read_file(file_path)\n",
    "    print(\"fnol_report text:\")\n",
    "    print(fnol_event)"
   ]
  },
  {
   "cell_type": "code",
   "execution_count": 5,
   "metadata": {},
   "outputs": [],
   "source": [
    "from strands import Agent\n",
    "\n",
    "# Create specialized agents\n",
    "fnol_processing = Agent(system_prompt=f\"\"\"You extract and structure Claim data from FNOL form.\"\"\", \n",
    "                        callback_handler=None)\n",
    "appraisal = Agent(system_prompt=f\"\"\"\"You identify damages and assess estimated repair cost based on Claim data.\"\"\",\n",
    "                                 callback_handler=None)\n",
    "settlement = Agent(system_prompt=f\"\"\"You create a Claim payout report.\"\"\")\n",
    "\n",
    "# Sequential workflow processing\n",
    "def process_workflow(fnol_report):\n",
    "    # Step 1: FNOL Processing\n",
    "    fnol_processing_results = fnol_processing(f\"process {fnol_event}\")\n",
    "\n",
    "    # Step 2: Damage Assessment\n",
    "    appraisal_results = appraisal(f\"Analyze these research findings: {fnol_processing_results}\")\n",
    "\n",
    "    # Step 3: Payout Generation\n",
    "    settlement_results = settlement(f\"Create a report based on this analysis: {appraisal_results}\")\n",
    "\n",
    "    return settlement_results"
   ]
  },
  {
   "cell_type": "code",
   "execution_count": 6,
   "metadata": {},
   "outputs": [
    {
     "name": "stdout",
     "output_type": "stream",
     "text": [
      "# Claim Payout Report\n",
      "\n",
      "## Claim Summary\n",
      "**Total Estimated Repair Cost:** $4,500.00\n",
      "\n",
      "## Damage Assessment\n",
      "- **Rear bumper:** Significant impact damage requiring replacement\n",
      "- **Trunk:** Structural damage affecting opening/closing mechanism and alignment\n",
      "- **Taillights:** Both taillights damaged, requiring replacement\n",
      "- **Frame:** Possible damage requiring further inspection and potential straightening\n",
      "\n",
      "## Cost Breakdown\n",
      "| Item | Cost |\n",
      "|------|------|\n",
      "| Rear bumper replacement (parts and labor) | $1,200.00 |\n",
      "| Trunk repair/alignment | $800.00 |\n",
      "| Taillight replacement (both sides, parts and labor) | $600.00 |\n",
      "| Frame inspection and potential repair | $1,500.00 |\n",
      "| Paint and finish work | $400.00 |\n",
      "\n",
      "## Additional Costs\n",
      "| Item | Cost | Coverage |\n",
      "|------|------|----------|\n",
      "| Rental vehicle (14 days @ $38/day) | $532.00 | Covered (policy limit: $40/day, $1,200 maximum) |\n",
      "| Towing | $0.00 | Included in roadside assistance coverage |\n",
      "\n",
      "## Payout Calculation\n",
      "- **Total Repair Estimate:** $4,500.00\n",
      "- **Policyholder Deductible:** $500.00\n",
      "- **Insurance Payout:** $4,000.00\n",
      "\n",
      "## Notes\n",
      "This assessment is preliminary. A thorough physical inspection by an insurance adjuster is required to confirm frame damage extent and identify any additional hidden damage that may affect the final repair cost."
     ]
    }
   ],
   "source": [
    "process_claim = process_workflow(fnol_event)"
   ]
  },
  {
   "cell_type": "markdown",
   "metadata": {},
   "source": [
    "### Using the Workflow Tool"
   ]
  },
  {
   "cell_type": "code",
   "execution_count": null,
   "metadata": {},
   "outputs": [
    {
     "name": "stderr",
     "output_type": "stream",
     "text": [
      "Error loading workflow Claim_processing: Expecting value: line 1 column 1 (char 0)\n"
     ]
    }
   ],
   "source": [
    "from strands import Agent\n",
    "from strands_tools import workflow\n",
    "\n",
    "# Create an agent with workflow capability\n",
    "agent = Agent(tools=[workflow])\n",
    "\n",
    "# Create a multi-agent workflow\n",
    "agent.tool.workflow(\n",
    "    action=\"create\",\n",
    "    workflow_id=\"Claim_adjudication\",\n",
    "    tasks=[\n",
    "        {\n",
    "            \"task_id\": \"fnol_processing\",\n",
    "            \"description\": \"Proccess FNOL forms Extract key data to process Claim\",\n",
    "            \"system_prompt\": f\"\"\"Process {fnol_event}You extract and structure Claim data from FNOL form.\"\"\",\n",
    "            \"priority\": 5\n",
    "        },\n",
    "        {\n",
    "            \"task_id\": \"appraisal\",\n",
    "            \"description\": \"Analyze Claim data, damages and assess estimated repair cost\",\n",
    "            \"dependencies\": [\"fnol_processing\"],\n",
    "            \"system_prompt\": \"You identify damages and assess estimated repair cost based on Claim data.\",\n",
    "            \"priority\": 3\n",
    "        },\n",
    "        {\n",
    "            \"task_id\": \"settlement\",\n",
    "            \"description\": \"Generate Claim payout\",\n",
    "            \"dependencies\": [\"appraisal\"],\n",
    "            \"system_prompt\": \"You create a Claim payout report.\",\n",
    "            \"priority\": 2\n",
    "        }\n",
    "    ]\n",
    ")\n",
    "\n",
    "# Execute workflow (parallel processing where possible)\n",
    "agent.tool.workflow(action=\"start\", \n",
    "                    workflow_id=\"Claim_processing\",\n",
    "                    )\n",
    "\n",
    "# Check results\n",
    "status = agent.tool.workflow(action=\"status\", workflow_id=\"Claim_adjudication\")"
   ]
  },
  {
   "cell_type": "code",
   "execution_count": null,
   "metadata": {},
   "outputs": [],
   "source": []
  }
 ],
 "metadata": {
  "kernelspec": {
   "display_name": "Python 3 (ipykernel)",
   "language": "python",
   "name": "python3"
  },
  "language_info": {
   "codemirror_mode": {
    "name": "ipython",
    "version": 3
   },
   "file_extension": ".py",
   "mimetype": "text/x-python",
   "name": "python",
   "nbconvert_exporter": "python",
   "pygments_lexer": "ipython3",
   "version": "3.12.9"
  }
 },
 "nbformat": 4,
 "nbformat_minor": 4
}
