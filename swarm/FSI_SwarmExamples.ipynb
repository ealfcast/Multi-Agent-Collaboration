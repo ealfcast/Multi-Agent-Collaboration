{
 "cells": [
  {
   "cell_type": "markdown",
   "metadata": {
    "pycharm": {
     "name": "#%% md\n"
    }
   },
   "source": [
    "# Creating Swarm of agents using Strands Agents"
   ]
  },
  {
   "cell_type": "markdown",
   "metadata": {
    "pycharm": {
     "name": "#%%\n"
    }
   },
   "source": [
    "## Understanding Multi-Agent Systems and Swarm Intelligence\n",
    "\n",
    "An agent swarm is a collection of autonomous AI agents working together to solve complex problems through collaboration. Inspired by natural systems like ant colonies or bird flocks, agent swarms leverage collective intelligence where the combined output exceeds what any single agent could produce. By distributing tasks and sharing information, swarms can tackle complex problems more efficiently and effectively than individual agents working in isolation.\n",
    "\n",
    "Multi-agent systems consist of multiple interacting intelligent agents within an environment. These systems enable:\n",
    "\n",
    "- *Distributed Problem Solving*: Breaking complex tasks into subtasks for parallel processing\n",
    "- *Information Sharing*: Agents exchange insights to build collective knowledge\n",
    "- *Specialization*: Different agents focus on specific aspects of a problem\n",
    "- *Redundancy*: Multiple agents working on similar tasks improve reliability\n",
    "- *Emergent Intelligence*: The system exhibits capabilities beyond those of its individual components\n",
    "\n",
    "Swarm intelligence emphasizes:\n",
    "\n",
    "1. *Decentralized Control*: No single agent directs the entire system\n",
    "2. *Local Interactions*: Agents primarily interact with nearby agents\n",
    "3. *Simple Rules*: Individual agents follow relatively simple behaviors\n",
    "4. *Emergent Complexity*: Complex system behavior emerges from simple agent interactions"
   ]
  },
  {
   "cell_type": "markdown",
   "metadata": {},
   "source": [
    "## 1. Quick Start with Swarm tool"
   ]
  },
  {
   "cell_type": "markdown",
   "metadata": {},
   "source": [
    "The Strands Agents SDK provides a built-in swarm tool that simplifies the implementation of multi-agent systems, offering a quick start for users. This tool implements the shared memory."
   ]
  },
  {
   "cell_type": "code",
   "execution_count": null,
   "metadata": {},
   "outputs": [],
   "source": [
    "!pip install -r requirements.txt\n",
    "!pip install PyPDF2"
   ]
  },
  {
   "cell_type": "code",
   "execution_count": 24,
   "metadata": {},
   "outputs": [],
   "source": [
    "from strands import Agent\n",
    "from strands_tools import swarm\n",
    "import time\n",
    "import PyPDF2\n",
    "import json\n",
    "import boto3\n",
    "import yaml\n",
    "import os\n",
    "import logging\n"
   ]
  },
  {
   "cell_type": "code",
   "execution_count": 36,
   "metadata": {},
   "outputs": [],
   "source": [
    "import PyPDF2\n",
    "\n",
    "def read_pdf(file_path):\n",
    "    \"\"\"\n",
    "    Read and extract text from a PDF file.\n",
    "    \n",
    "    Args:\n",
    "        file_path (str): Path to the PDF file\n",
    "        \n",
    "    Returns:\n",
    "        str: Extracted text from the PDF\n",
    "    \"\"\"\n",
    "    try:\n",
    "        # Open the PDF file in binary read mode\n",
    "        with open(file_path, 'rb') as file:\n",
    "            # Create a PDF reader object\n",
    "            pdf_reader = PyPDF2.PdfReader(file)\n",
    "            \n",
    "            # Get number of pages\n",
    "            num_pages = len(pdf_reader.pages)\n",
    "            print(f\"Total pages: {num_pages}\")\n",
    "            \n",
    "            # Extract text from each page\n",
    "            text = \"\"\n",
    "            for page_num in range(num_pages):\n",
    "                page = pdf_reader.pages[page_num]\n",
    "                text += page.extract_text()\n",
    "                \n",
    "            return text\n",
    "    \n",
    "    except FileNotFoundError:\n",
    "        return \"Error: The file was not found.\"\n",
    "    except PyPDF2.errors.PdfReadError:\n",
    "        return \"Error: Invalid PDF file or the file is encrypted.\"\n",
    "    except Exception as e:\n",
    "        return f\"Error: {str(e)}\"\n",
    "\n"
   ]
  },
  {
   "cell_type": "code",
   "execution_count": 37,
   "metadata": {
    "scrolled": true
   },
   "outputs": [
    {
     "name": "stdout",
     "output_type": "stream",
     "text": [
      "Total pages: 39\n",
      "financial_report text:\n",
      "Table of ContentsAMAZON.COM, INC.PART IItem 1.BusinessThis Annual Report on Form 10-K and the documents incorporated herein by reference contain forward-looking statementsbased on expectations, estimates, and projections as of the date of this filing. Actual results and outcomes may differ materially fromthose expressed in forward-looking statements. See Item 1A of Part I — “Risk Factors.” As used herein, “Amazon.com,” “we,” “our,”and similar terms include Amazon.com, Inc. and its subsidiaries, unless the context indicates otherwise.GeneralWe seek to be Earth’s most customer-centric company. We are guided by four principles: customer obsession rather thancompetitor focus, passion for invention, commitment to operational excellence, and long-term thinking. In each of our segments, weserve our primary customer sets, consisting of consumers, sellers, developers, enterprises, content creators, advertisers, and employees.We have organized our operations into three segments: North America, I\n"
     ]
    }
   ],
   "source": [
    "# Example usage\n",
    "if __name__ == \"__main__\":\n",
    "    pdf_path = \"data/amzn-20241231-10K-Part-1&2.pdf\"  # Replace with your PDF file path\n",
    "    financial_report = read_pdf(pdf_path)\n",
    "    print(\"financial_report text:\")\n",
    "    print(financial_report[0:1000])"
   ]
  },
  {
   "cell_type": "code",
   "execution_count": 15,
   "metadata": {},
   "outputs": [],
   "source": [
    "# prompt= f\"\"\"\n",
    "#              You are an Insurance Claim Legal Expert. You task is to review the {extracted_text} and do the following:\n",
    "#              1) Verify: Review the letter and verify this is a demand letter from a legal firm\n",
    "#              2) Classify: Carefully understand the language and Classify this document in Urgent-Response , or Normal-Response. Pay special\n",
    "#              attention to the amount of money or damages that is demanded and how soon (days, hours) they want a response.\n",
    "#                  Urgent-Response: Is the ammount of money in the demand letter exceeding $50,000 and/or the response time frame is less than 3 days (72 hours)\n",
    "#                  Normal-Response: The ammount of money in the demand letter is less than $50,000 and/or we have more than 3 days (72 hours) to respond\n",
    "#              3) Write an email that corresponds to the Classification: Urgent-Response or Normal-Response.\n",
    "#              \"\"\""
   ]
  },
  {
   "cell_type": "markdown",
   "metadata": {},
   "source": [
    "## Creating a Swarm with Strands Agents"
   ]
  },
  {
   "cell_type": "markdown",
   "metadata": {},
   "source": [
    "Strands Agents SDK allows you to create swarms using existing Agent objects, even when they use different model providers or have different configurations. While various communication architectures are possible (hierarchical, parallel, sequential, and mesh), the following example demonstrates a mesh architecture implementation, which provides a flexible foundation for agent-to-agent communication.\n",
    "\n",
    "### 2.1 Mesh Swarm Architecture"
   ]
  },
  {
   "cell_type": "markdown",
   "metadata": {},
   "source": [
    "<p align=\"center\">\n",
    "    <img src=\"./images/swarm_example.png\">\n",
    "</p>"
   ]
  },
  {
   "cell_type": "markdown",
   "metadata": {},
   "source": [
    "In a mesh architecture, all agents can communicate directly with each other. The following example demonstrates a swarm of specialized agents using mesh communication to solve problems collaboratively:"
   ]
  },
  {
   "cell_type": "code",
   "execution_count": 38,
   "metadata": {},
   "outputs": [],
   "source": [
    "# Create specialized agents with different expertise\n",
    "research_agent = Agent(system_prompt=(\"\"\"You are a Financial Research Agent specializing in gathering and analyzing information.\n",
    "Your role in the swarm is to provide factual information and research insights on the topic.\n",
    "You should focus on providing accurate data and identifying key aspects of the problem.\n",
    "When receiving input from other agents, evaluate if their information aligns with your research.\n",
    "\"\"\"), \n",
    "callback_handler=None)\n",
    "\n",
    "investment_agent = Agent(system_prompt=(\"\"\"You are a Investmen Agent specializing in evaluating innovative approach to new investments.\n",
    "Your role in the swarm is to think outside the box and propose creative investment approaches.\n",
    "You should build upon information from other agents while adding your unique creative perspective.\n",
    "Focus on novel approaches that others might not have considered.\n",
    "\"\"\"), \n",
    "callback_handler=None)\n",
    "\n",
    "critical_agent = Agent(system_prompt=(\"\"\"You are a Critical Agent specializing in analyzing invetment proposals and finding flaws and risks.\n",
    "Your role in the swarm is to evaluate investment proposed by other agents and identify potential issues.\n",
    "You should carefully examine proposed investments, find weaknesses or oversights, and suggest improvements.\n",
    "Be constructive in your criticism while ensuring the final solution is robust.\n",
    "\"\"\"), \n",
    "callback_handler=None)\n",
    "\n",
    "summarizer_agent = Agent(system_prompt=\"\"\"You are a Summarizer Agent specializing in synthesizing information.\n",
    "Your role in the swarm is to gather insights from all agents and create a cohesive final solution.\n",
    "You should combine the best ideas and address the criticisms to create a comprehensive response.\n",
    "Focus on creating a clear, actionable summary that addresses the original query effectively.\n",
    "\"\"\")"
   ]
  },
  {
   "cell_type": "markdown",
   "metadata": {},
   "source": [
    "The mesh communication is implemented using a dictionary to track messages between agents:"
   ]
  },
  {
   "cell_type": "code",
   "execution_count": 39,
   "metadata": {},
   "outputs": [],
   "source": [
    "# Dictionary to track messages between agents (mesh communication)\n",
    "messages = {\n",
    "    \"research\": [],\n",
    "    \"investment\": [],\n",
    "    \"critical\": [],\n",
    "    \"summarizer\": []\n",
    "}"
   ]
  },
  {
   "cell_type": "markdown",
   "metadata": {},
   "source": [
    "The swarm operates in multiple phases, with each agent first analyzing the problem independently:"
   ]
  },
  {
   "cell_type": "code",
   "execution_count": 40,
   "metadata": {},
   "outputs": [],
   "source": [
    "query = f\"\"\"\n",
    "             Analyze the 10K Financial report in {financial_report} and tell me if this is a good company to invest\n",
    "             \"\"\""
   ]
  },
  {
   "cell_type": "code",
   "execution_count": 41,
   "metadata": {},
   "outputs": [],
   "source": [
    "# Phase 1: Initial analysis by each specialized agent\n",
    "research_result = research_agent(query)\n",
    "time.sleep(30)\n",
    "investment_result = investment_agent(query)\n",
    "time.sleep(30)\n",
    "critical_result = critical_agent(query)"
   ]
  },
  {
   "cell_type": "code",
   "execution_count": 42,
   "metadata": {},
   "outputs": [],
   "source": [
    "# research_result"
   ]
  },
  {
   "cell_type": "markdown",
   "metadata": {},
   "source": [
    "After the initial analysis, results are shared with all other agents (mesh communication):"
   ]
  },
  {
   "cell_type": "code",
   "execution_count": 43,
   "metadata": {},
   "outputs": [],
   "source": [
    "# Share results with all other agents (mesh communication)\n",
    "messages[\"investment\"].append(f\"From Research Agent: {research_result}\")\n",
    "messages[\"critical\"].append(f\"From Research Agent: {research_result}\")\n",
    "messages[\"summarizer\"].append(f\"From Research Agent: {research_result}\")\n",
    "\n",
    "messages[\"research\"].append(f\"From Creative Agent: {investment_result}\")\n",
    "messages[\"critical\"].append(f\"From Creative Agent: {investment_result}\")\n",
    "messages[\"summarizer\"].append(f\"From Creative Agent: {investment_result}\")\n",
    "\n",
    "messages[\"research\"].append(f\"From Critical Agent: {critical_result}\")\n",
    "messages[\"investment\"].append(f\"From Critical Agent: {critical_result}\")\n",
    "messages[\"summarizer\"].append(f\"From Critical Agent: {critical_result}\")"
   ]
  },
  {
   "cell_type": "code",
   "execution_count": 44,
   "metadata": {},
   "outputs": [],
   "source": [
    "# messages[\"research\"]"
   ]
  },
  {
   "cell_type": "markdown",
   "metadata": {},
   "source": [
    "In the second phase, each agent refines their solution based on input from all other agents:"
   ]
  },
  {
   "cell_type": "code",
   "execution_count": 45,
   "metadata": {},
   "outputs": [],
   "source": [
    "# Phase 2: Each agent refines based on input from others\n",
    "research_prompt = f\"{query}\\n\\nConsider these messages from other agents:\\n\" + \"\\n\\n\".join(messages[\"research\"])\n",
    "investment_prompt = f\"{query}\\n\\nConsider these messages from other agents:\\n\" + \"\\n\\n\".join(messages[\"investment\"])\n",
    "critical_prompt = f\"{query}\\n\\nConsider these messages from other agents:\\n\" + \"\\n\\n\".join(messages[\"critical\"])\n",
    "\n",
    "refined_research = research_agent(research_prompt)\n",
    "\n",
    "time.sleep(30)\n",
    "\n",
    "refined_investment = investment_agent(investment_prompt)\n",
    "\n",
    "time.sleep(30)\n",
    "\n",
    "refined_critical = critical_agent(critical_prompt)\n",
    "\n",
    "# Share refined results with summarizer\n",
    "messages[\"summarizer\"].append(f\"From Research Agent (Phase 2): {refined_research}\")\n",
    "messages[\"summarizer\"].append(f\"From Investment Agent (Phase 2): {refined_investment}\")\n",
    "messages[\"summarizer\"].append(f\"From Critical Agent (Phase 2): {refined_critical}\")"
   ]
  },
  {
   "cell_type": "markdown",
   "metadata": {},
   "source": [
    "Finally, the summarizer agent synthesizes all inputs into a comprehensive solution:"
   ]
  },
  {
   "cell_type": "code",
   "execution_count": 46,
   "metadata": {},
   "outputs": [
    {
     "name": "stdout",
     "output_type": "stream",
     "text": [
      "# Investment Analysis: Amazon.com, Inc. (AMZN)\n",
      "\n",
      "## Executive Summary\n",
      "\n",
      "After comprehensive analysis of Amazon's 2024 10-K report, I recommend Amazon as a **strong investment opportunity** for long-term investors. The company demonstrates robust financial performance, strategic diversification across multiple high-growth segments, and continues to make forward-looking investments that position it well for sustainable growth, despite some notable risks that require consideration.\n",
      "\n",
      "## Financial Performance Analysis\n",
      "\n",
      "Amazon has delivered impressive financial results in 2024:\n",
      "\n",
      "- **Revenue Growth**: 11% year-over-year increase to $637.96 billion\n",
      "  - North America: $387.5 billion (10% growth) - 61% of total revenue\n",
      "  - International: $142.9 billion (9% growth) - 22% of total revenue\n",
      "  - AWS: $107.6 billion (19% growth) - 17% of total revenue\n",
      "\n",
      "- **Cash Flow Generation**: Operating cash flow increased dramatically to $115.88 billion in 2024 (from $84.95 billion in 2023), representing a 36% improvement\n",
      "  \n",
      "- **Liquidity Position**: $101.2 billion in cash, cash equivalents, and marketable securities, providing significant financial flexibility\n",
      "\n",
      "This financial strength is particularly notable given the company continues to invest heavily in future growth initiatives, demonstrating Amazon's ability to balance current profitability with long-term strategic investments.\n",
      "\n",
      "## Investment Strengths\n",
      "\n",
      "### 1. Diversified Business Model with Multiple Growth Engines\n",
      "\n",
      "Amazon has successfully built a diversified business ecosystem with several strong growth vectors:\n",
      "- E-commerce (both first-party and third-party marketplace)\n",
      "- Cloud computing services (AWS)\n",
      "- Digital advertising (rapidly growing high-margin business)\n",
      "- Subscription services (Prime membership)\n",
      "- Emerging areas like healthcare\n",
      "\n",
      "This diversification creates resilience against sector-specific downturns and provides multiple pathways for continued growth.\n",
      "\n",
      "### 2. AWS Leadership and Cloud Computing Dominance\n",
      "\n",
      "AWS continues to be a standout performer with 19% growth, outpacing the company's overall growth rate. As enterprises continue digital transformation and adopt AI technologies, AWS is strategically positioned as a market leader with strong margins and growth potential.\n",
      "\n",
      "### 3. Strategic AI Investments\n",
      "\n",
      "Amazon is making significant investments in artificial intelligence:\n",
      "- $4+ billion investment in Anthropic through convertible notes\n",
      "- Substantial infrastructure investments to support AI development and services\n",
      "- Integration of AI capabilities across its product ecosystem\n",
      "\n",
      "These investments position Amazon at the forefront of the AI revolution, a technology trend that is likely to drive significant value across all business segments.\n",
      "\n",
      "### 4. Operational Excellence and Scale\n",
      "\n",
      "Amazon operates a massive fulfillment network with over 700 million square feet of facilities globally. This infrastructure creates significant competitive advantages in:\n",
      "- Fulfillment speed and reliability\n",
      "- Operating efficiency through economies of scale\n",
      "- Barriers to entry for potential competitors\n",
      "\n",
      "### 5. Customer-Centric Focus and Ecosystem Lock-In\n",
      "\n",
      "The company's stated mission to be \"Earth's most customer-centric company\" has translated into strong customer loyalty and ecosystem lock-in through services like Prime membership, creating a sustainable competitive advantage and stable revenue streams.\n",
      "\n",
      "## Risk Factors and Challenges\n",
      "\n",
      "### 1. Significant Capital Expenditure Requirements\n",
      "\n",
      "Amazon's growth strategy requires substantial ongoing investment:\n",
      "- $77.7 billion in capital expenditures in 2024 (up from $48.1 billion in 2023)\n",
      "- Expected to increase further in 2025, primarily for technology infrastructure\n",
      "- These investments pressure near-term profitability metrics\n",
      "\n",
      "### 2. Regulatory Scrutiny and Legal Challenges\n",
      "\n",
      "Amazon faces increasing regulatory pressure across multiple jurisdictions:\n",
      "- Antitrust investigations regarding marketplace practices and competition\n",
      "- Data privacy and security regulations\n",
      "- Potential new regulations targeting large technology platforms\n",
      "\n",
      "### 3. Intense Competitive Landscape\n",
      "\n",
      "The company operates in highly competitive markets across all segments:\n",
      "- E-commerce competition from traditional retailers and specialized online players\n",
      "- Cloud services competition from Microsoft Azure, Google Cloud, and others\n",
      "- Advertising competition from Google, Meta, and emerging retail media networks\n",
      "\n",
      "### 4. International Operational Complexities\n",
      "\n",
      "Operating globally presents unique challenges:\n",
      "- Regulatory restrictions in key markets like China and India\n",
      "- Foreign exchange risk exposure\n",
      "- Local competition and market dynamics\n",
      "- Political and economic instability in certain regions\n",
      "\n",
      "## Investment Recommendation\n",
      "\n",
      "**Recommendation: Amazon represents a compelling long-term investment opportunity.**\n",
      "\n",
      "The rationale for this recommendation includes:\n",
      "\n",
      "1. **Financial Strength and Cash Flow Generation**: Amazon's exceptional cash flow growth (36% year-over-year) demonstrates its ability to generate significant returns while continuing to invest in future growth areas. The strong balance sheet provides flexibility to weather economic downturns and pursue strategic opportunities.\n",
      "\n",
      "2. **Diversified Growth Profile**: Multiple strong business segments provide balanced growth and reduce risk exposure to any single market. AWS's continued outperformance (19% growth) is particularly compelling given the higher margins in this segment.\n",
      "\n",
      "3. **Strategic Vision and Execution**: Management continues to demonstrate long-term thinking and disciplined execution through strategic investments in infrastructure, AI, and emerging business areas. Their history of successfully entering and disrupting new markets provides confidence in future growth initiatives.\n",
      "\n",
      "4. **Leading Position in Secular Growth Trends**: Amazon provides exposure to multiple long-term growth trends including e-commerce penetration, cloud computing adoption, digital advertising growth, and artificial intelligence development.\n",
      "\n",
      "5. **Customer-Centric Culture**: The company's focus on customer experience and continuous innovation has created strong brand loyalty and ecosystem lock-in, providing sustainable competitive advantages.\n",
      "\n",
      "While Amazon does face meaningful challenges including regulatory scrutiny, intense competition, and high capital requirements, these risks appear manageable given the company's financial resources, diversified business model, and track record of successful execution. The significant increase in operating cash flow is particularly encouraging, demonstrating the company's ability to generate substantial returns while continuing to invest for the future.\n",
      "\n",
      "For investors with a long-term horizon who can tolerate some short-term volatility, Amazon presents an attractive investment opportunity with exposure to multiple high-growth technology sectors and a proven management team focused on sustainable value creation."
     ]
    }
   ],
   "source": [
    "# Final phase: Summarizer creates the final solution\n",
    "time.sleep(30)\n",
    "\n",
    "summarizer_prompt = f\"\"\"\n",
    "Original query: {query}\n",
    "\n",
    "Please synthesize the following inputs from all agents into a comprehensive final solution:\n",
    "\n",
    "{\"\\n\\n\".join(messages[\"summarizer\"])}\n",
    "\n",
    "Create a well-structured final answer that incorporates the research findings, \n",
    "creative ideas, and addresses the critical feedback.\n",
    "Provide recommendation weather to invest in this company or not.Provide rationale to support your recommendation\n",
    "\"\"\"\n",
    "\n",
    "final_solution = str(summarizer_agent(summarizer_prompt))"
   ]
  },
  {
   "cell_type": "code",
   "execution_count": 47,
   "metadata": {},
   "outputs": [
    {
     "name": "stdout",
     "output_type": "stream",
     "text": [
      "# Investment Analysis: Amazon.com, Inc. (AMZN)\n",
      "\n",
      "## Executive Summary\n",
      "\n",
      "After comprehensive analysis of Amazon's 2024 10-K report, I recommend Amazon as a **strong investment opportunity** for long-term investors. The company demonstrates robust financial performance, strategic diversification across multiple high-growth segments, and continues to make forward-looking investments that position it well for sustainable growth, despite some notable risks that require consideration.\n",
      "\n",
      "## Financial Performance Analysis\n",
      "\n",
      "Amazon has delivered impressive financial results in 2024:\n",
      "\n",
      "- **Revenue Growth**: 11% year-over-year increase to $637.96 billion\n",
      "  - North America: $387.5 billion (10% growth) - 61% of total revenue\n",
      "  - International: $142.9 billion (9% growth) - 22% of total revenue\n",
      "  - AWS: $107.6 billion (19% growth) - 17% of total revenue\n",
      "\n",
      "- **Cash Flow Generation**: Operating cash flow increased dramatically to $115.88 billion in 2024 (from $84.95 billion in 2023), representing a 36% improvement\n",
      "  \n",
      "- **Liquidity Position**: $101.2 billion in cash, cash equivalents, and marketable securities, providing significant financial flexibility\n",
      "\n",
      "This financial strength is particularly notable given the company continues to invest heavily in future growth initiatives, demonstrating Amazon's ability to balance current profitability with long-term strategic investments.\n",
      "\n",
      "## Investment Strengths\n",
      "\n",
      "### 1. Diversified Business Model with Multiple Growth Engines\n",
      "\n",
      "Amazon has successfully built a diversified business ecosystem with several strong growth vectors:\n",
      "- E-commerce (both first-party and third-party marketplace)\n",
      "- Cloud computing services (AWS)\n",
      "- Digital advertising (rapidly growing high-margin business)\n",
      "- Subscription services (Prime membership)\n",
      "- Emerging areas like healthcare\n",
      "\n",
      "This diversification creates resilience against sector-specific downturns and provides multiple pathways for continued growth.\n",
      "\n",
      "### 2. AWS Leadership and Cloud Computing Dominance\n",
      "\n",
      "AWS continues to be a standout performer with 19% growth, outpacing the company's overall growth rate. As enterprises continue digital transformation and adopt AI technologies, AWS is strategically positioned as a market leader with strong margins and growth potential.\n",
      "\n",
      "### 3. Strategic AI Investments\n",
      "\n",
      "Amazon is making significant investments in artificial intelligence:\n",
      "- $4+ billion investment in Anthropic through convertible notes\n",
      "- Substantial infrastructure investments to support AI development and services\n",
      "- Integration of AI capabilities across its product ecosystem\n",
      "\n",
      "These investments position Amazon at the forefront of the AI revolution, a technology trend that is likely to drive significant value across all business segments.\n",
      "\n",
      "### 4. Operational Excellence and Scale\n",
      "\n",
      "Amazon operates a massive fulfillment network with over 700 million square feet of facilities globally. This infrastructure creates significant competitive advantages in:\n",
      "- Fulfillment speed and reliability\n",
      "- Operating efficiency through economies of scale\n",
      "- Barriers to entry for potential competitors\n",
      "\n",
      "### 5. Customer-Centric Focus and Ecosystem Lock-In\n",
      "\n",
      "The company's stated mission to be \"Earth's most customer-centric company\" has translated into strong customer loyalty and ecosystem lock-in through services like Prime membership, creating a sustainable competitive advantage and stable revenue streams.\n",
      "\n",
      "## Risk Factors and Challenges\n",
      "\n",
      "### 1. Significant Capital Expenditure Requirements\n",
      "\n",
      "Amazon's growth strategy requires substantial ongoing investment:\n",
      "- $77.7 billion in capital expenditures in 2024 (up from $48.1 billion in 2023)\n",
      "- Expected to increase further in 2025, primarily for technology infrastructure\n",
      "- These investments pressure near-term profitability metrics\n",
      "\n",
      "### 2. Regulatory Scrutiny and Legal Challenges\n",
      "\n",
      "Amazon faces increasing regulatory pressure across multiple jurisdictions:\n",
      "- Antitrust investigations regarding marketplace practices and competition\n",
      "- Data privacy and security regulations\n",
      "- Potential new regulations targeting large technology platforms\n",
      "\n",
      "### 3. Intense Competitive Landscape\n",
      "\n",
      "The company operates in highly competitive markets across all segments:\n",
      "- E-commerce competition from traditional retailers and specialized online players\n",
      "- Cloud services competition from Microsoft Azure, Google Cloud, and others\n",
      "- Advertising competition from Google, Meta, and emerging retail media networks\n",
      "\n",
      "### 4. International Operational Complexities\n",
      "\n",
      "Operating globally presents unique challenges:\n",
      "- Regulatory restrictions in key markets like China and India\n",
      "- Foreign exchange risk exposure\n",
      "- Local competition and market dynamics\n",
      "- Political and economic instability in certain regions\n",
      "\n",
      "## Investment Recommendation\n",
      "\n",
      "**Recommendation: Amazon represents a compelling long-term investment opportunity.**\n",
      "\n",
      "The rationale for this recommendation includes:\n",
      "\n",
      "1. **Financial Strength and Cash Flow Generation**: Amazon's exceptional cash flow growth (36% year-over-year) demonstrates its ability to generate significant returns while continuing to invest in future growth areas. The strong balance sheet provides flexibility to weather economic downturns and pursue strategic opportunities.\n",
      "\n",
      "2. **Diversified Growth Profile**: Multiple strong business segments provide balanced growth and reduce risk exposure to any single market. AWS's continued outperformance (19% growth) is particularly compelling given the higher margins in this segment.\n",
      "\n",
      "3. **Strategic Vision and Execution**: Management continues to demonstrate long-term thinking and disciplined execution through strategic investments in infrastructure, AI, and emerging business areas. Their history of successfully entering and disrupting new markets provides confidence in future growth initiatives.\n",
      "\n",
      "4. **Leading Position in Secular Growth Trends**: Amazon provides exposure to multiple long-term growth trends including e-commerce penetration, cloud computing adoption, digital advertising growth, and artificial intelligence development.\n",
      "\n",
      "5. **Customer-Centric Culture**: The company's focus on customer experience and continuous innovation has created strong brand loyalty and ecosystem lock-in, providing sustainable competitive advantages.\n",
      "\n",
      "While Amazon does face meaningful challenges including regulatory scrutiny, intense competition, and high capital requirements, these risks appear manageable given the company's financial resources, diversified business model, and track record of successful execution. The significant increase in operating cash flow is particularly encouraging, demonstrating the company's ability to generate substantial returns while continuing to invest for the future.\n",
      "\n",
      "For investors with a long-term horizon who can tolerate some short-term volatility, Amazon presents an attractive investment opportunity with exposure to multiple high-growth technology sectors and a proven management team focused on sustainable value creation.\n",
      "\n"
     ]
    }
   ],
   "source": [
    "print(final_solution)"
   ]
  },
  {
   "cell_type": "markdown",
   "metadata": {},
   "source": [
    "This mesh architecture enables direct communication between all agents, allowing each agent to share insights with every other agent. The specialized roles (research, creative, critical, and summarizer) work together to produce a comprehensive solution that benefits from multiple perspectives and iterative refinement."
   ]
  },
  {
   "cell_type": "markdown",
   "metadata": {},
   "source": [
    "### 2.2 Implementing Shared Memory"
   ]
  },
  {
   "cell_type": "markdown",
   "metadata": {},
   "source": [
    "While the mesh communication example effectively demonstrates agent collaboration, a shared memory system would enhance the swarm's capabilities by providing:\n",
    "\n",
    "- A centralized knowledge repository for all agents\n",
    "- Automated phase tracking and historical knowledge preservation\n",
    "- Thread-safe concurrent access for improved efficiency\n",
    "- Persistent storage of insights across multiple interactions\n",
    "\n",
    "Extending our mesh swarm example with shared memory would replace the message dictionary with a SharedMemory instance, simplifying the code while enabling more sophisticated knowledge management."
   ]
  },
  {
   "cell_type": "markdown",
   "metadata": {},
   "source": [
    "## When to use Swarm:\n",
    "\n",
    "- For quick, parallel processing of a single complex task\n",
    "- When you need multiple perspectives on the same problem\n",
    "- For tasks that benefit from collective intelligence\n",
    "\n",
    "## Conclusion\n",
    "\n",
    "Multi-agent swarms solve complex problems through collective intelligence. The Strands Agents SDK supports both custom implementations and a built-in swarm tool with shared memory. By distributing tasks across specialized agents and enabling effective communication, swarms achieve better results than single agents working alone. Whether using mesh communication patterns or the swarm tool, developers can create systems where multiple agents work together with defined roles, coordination mechanisms, and knowledge sharing.\n",
    "\n"
   ]
  }
 ],
 "metadata": {
  "kernelspec": {
   "display_name": "Python 3 (ipykernel)",
   "language": "python",
   "name": "python3"
  },
  "language_info": {
   "codemirror_mode": {
    "name": "ipython",
    "version": 3
   },
   "file_extension": ".py",
   "mimetype": "text/x-python",
   "name": "python",
   "nbconvert_exporter": "python",
   "pygments_lexer": "ipython3",
   "version": "3.12.9"
  }
 },
 "nbformat": 4,
 "nbformat_minor": 4
}
