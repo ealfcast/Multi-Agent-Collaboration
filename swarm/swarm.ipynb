{
 "cells": [
  {
   "cell_type": "markdown",
   "metadata": {
    "pycharm": {
     "name": "#%% md\n"
    }
   },
   "source": [
    "# Creating Swarm of agents using Strands Agents"
   ]
  },
  {
   "cell_type": "markdown",
   "metadata": {
    "pycharm": {
     "name": "#%%\n"
    }
   },
   "source": [
    "## Understanding Multi-Agent Systems and Swarm Intelligence\n",
    "\n",
    "An agent swarm is a collection of autonomous AI agents working together to solve complex problems through collaboration. Inspired by natural systems like ant colonies or bird flocks, agent swarms leverage collective intelligence where the combined output exceeds what any single agent could produce. By distributing tasks and sharing information, swarms can tackle complex problems more efficiently and effectively than individual agents working in isolation.\n",
    "\n",
    "Multi-agent systems consist of multiple interacting intelligent agents within an environment. These systems enable:\n",
    "\n",
    "- *Distributed Problem Solving*: Breaking complex tasks into subtasks for parallel processing\n",
    "- *Information Sharing*: Agents exchange insights to build collective knowledge\n",
    "- *Specialization*: Different agents focus on specific aspects of a problem\n",
    "- *Redundancy*: Multiple agents working on similar tasks improve reliability\n",
    "- *Emergent Intelligence*: The system exhibits capabilities beyond those of its individual components\n",
    "\n",
    "Swarm intelligence emphasizes:\n",
    "\n",
    "1. *Decentralized Control*: No single agent directs the entire system\n",
    "2. *Local Interactions*: Agents primarily interact with nearby agents\n",
    "3. *Simple Rules*: Individual agents follow relatively simple behaviors\n",
    "4. *Emergent Complexity*: Complex system behavior emerges from simple agent interactions"
   ]
  },
  {
   "cell_type": "markdown",
   "metadata": {},
   "source": [
    "## 1. Quick Start with Swarm tool"
   ]
  },
  {
   "cell_type": "markdown",
   "metadata": {},
   "source": [
    "The Strands Agents SDK provides a built-in swarm tool that simplifies the implementation of multi-agent systems, offering a quick start for users. This tool implements the shared memory."
   ]
  },
  {
   "cell_type": "code",
   "execution_count": 1,
   "metadata": {},
   "outputs": [
    {
     "name": "stdout",
     "output_type": "stream",
     "text": [
      "Collecting strands-agents (from -r requirements.txt (line 1))\n",
      "  Downloading strands_agents-0.1.9-py3-none-any.whl.metadata (10 kB)\n",
      "Collecting strands-agents-tools (from -r requirements.txt (line 2))\n",
      "  Downloading strands_agents_tools-0.1.7-py3-none-any.whl.metadata (23 kB)\n",
      "Requirement already satisfied: boto3<2.0.0,>=1.26.0 in /opt/conda/lib/python3.12/site-packages (from strands-agents->-r requirements.txt (line 1)) (1.37.1)\n",
      "Requirement already satisfied: botocore<2.0.0,>=1.29.0 in /opt/conda/lib/python3.12/site-packages (from strands-agents->-r requirements.txt (line 1)) (1.37.1)\n",
      "Collecting docstring-parser<1.0,>=0.15 (from strands-agents->-r requirements.txt (line 1))\n",
      "  Downloading docstring_parser-0.16-py3-none-any.whl.metadata (3.0 kB)\n",
      "Collecting mcp<2.0.0,>=1.8.0 (from strands-agents->-r requirements.txt (line 1))\n",
      "  Downloading mcp-1.9.4-py3-none-any.whl.metadata (28 kB)\n",
      "Requirement already satisfied: opentelemetry-api<2.0.0,>=1.30.0 in /opt/conda/lib/python3.12/site-packages (from strands-agents->-r requirements.txt (line 1)) (1.32.1)\n",
      "Requirement already satisfied: opentelemetry-sdk<2.0.0,>=1.30.0 in /opt/conda/lib/python3.12/site-packages (from strands-agents->-r requirements.txt (line 1)) (1.32.1)\n",
      "Requirement already satisfied: pydantic<3.0.0,>=2.0.0 in /opt/conda/lib/python3.12/site-packages (from strands-agents->-r requirements.txt (line 1)) (2.11.3)\n",
      "Requirement already satisfied: typing-extensions<5.0.0,>=4.13.2 in /opt/conda/lib/python3.12/site-packages (from strands-agents->-r requirements.txt (line 1)) (4.13.2)\n",
      "Collecting watchdog<7.0.0,>=6.0.0 (from strands-agents->-r requirements.txt (line 1))\n",
      "  Using cached watchdog-6.0.0-py3-none-manylinux2014_x86_64.whl.metadata (44 kB)\n",
      "Collecting aws-requests-auth<0.5.0,>=0.4.3 (from strands-agents-tools->-r requirements.txt (line 2))\n",
      "  Using cached aws_requests_auth-0.4.3-py2.py3-none-any.whl.metadata (567 bytes)\n",
      "Requirement already satisfied: colorama<0.5.0,>=0.4.6 in /opt/conda/lib/python3.12/site-packages (from strands-agents-tools->-r requirements.txt (line 2)) (0.4.6)\n",
      "Requirement already satisfied: dill<0.5.0,>=0.4.0 in /opt/conda/lib/python3.12/site-packages (from strands-agents-tools->-r requirements.txt (line 2)) (0.4.0)\n",
      "Collecting pillow<12.0.0,>=11.2.1 (from strands-agents-tools->-r requirements.txt (line 2))\n",
      "  Using cached pillow-11.2.1-cp312-cp312-manylinux_2_28_x86_64.whl.metadata (8.9 kB)\n",
      "Requirement already satisfied: prompt-toolkit<4.0.0,>=3.0.51 in /opt/conda/lib/python3.12/site-packages (from strands-agents-tools->-r requirements.txt (line 2)) (3.0.51)\n",
      "Requirement already satisfied: pyjwt<3.0.0,>=2.10.1 in /opt/conda/lib/python3.12/site-packages (from strands-agents-tools->-r requirements.txt (line 2)) (2.10.1)\n",
      "Collecting rich<15.0.0,>=14.0.0 (from strands-agents-tools->-r requirements.txt (line 2))\n",
      "  Using cached rich-14.0.0-py3-none-any.whl.metadata (18 kB)\n",
      "Collecting slack-bolt<2.0.0,>=1.23.0 (from strands-agents-tools->-r requirements.txt (line 2))\n",
      "  Using cached slack_bolt-1.23.0-py2.py3-none-any.whl.metadata (11 kB)\n",
      "Requirement already satisfied: sympy<2.0.0,>=1.12.0 in /opt/conda/lib/python3.12/site-packages (from strands-agents-tools->-r requirements.txt (line 2)) (1.14.0)\n",
      "Requirement already satisfied: tenacity<10.0.0,>=9.1.2 in /opt/conda/lib/python3.12/site-packages (from strands-agents-tools->-r requirements.txt (line 2)) (9.1.2)\n",
      "Requirement already satisfied: requests>=0.14.0 in /opt/conda/lib/python3.12/site-packages (from aws-requests-auth<0.5.0,>=0.4.3->strands-agents-tools->-r requirements.txt (line 2)) (2.32.3)\n",
      "Requirement already satisfied: jmespath<2.0.0,>=0.7.1 in /opt/conda/lib/python3.12/site-packages (from boto3<2.0.0,>=1.26.0->strands-agents->-r requirements.txt (line 1)) (1.0.1)\n",
      "Requirement already satisfied: s3transfer<0.12.0,>=0.11.0 in /opt/conda/lib/python3.12/site-packages (from boto3<2.0.0,>=1.26.0->strands-agents->-r requirements.txt (line 1)) (0.11.3)\n",
      "Requirement already satisfied: python-dateutil<3.0.0,>=2.1 in /opt/conda/lib/python3.12/site-packages (from botocore<2.0.0,>=1.29.0->strands-agents->-r requirements.txt (line 1)) (2.9.0.post0)\n",
      "Requirement already satisfied: urllib3!=2.2.0,<3,>=1.25.4 in /opt/conda/lib/python3.12/site-packages (from botocore<2.0.0,>=1.29.0->strands-agents->-r requirements.txt (line 1)) (2.4.0)\n",
      "Requirement already satisfied: anyio>=4.5 in /opt/conda/lib/python3.12/site-packages (from mcp<2.0.0,>=1.8.0->strands-agents->-r requirements.txt (line 1)) (4.9.0)\n",
      "Requirement already satisfied: httpx-sse>=0.4 in /opt/conda/lib/python3.12/site-packages (from mcp<2.0.0,>=1.8.0->strands-agents->-r requirements.txt (line 1)) (0.4.0)\n",
      "Requirement already satisfied: httpx>=0.27 in /opt/conda/lib/python3.12/site-packages (from mcp<2.0.0,>=1.8.0->strands-agents->-r requirements.txt (line 1)) (0.28.1)\n",
      "Requirement already satisfied: pydantic-settings>=2.5.2 in /opt/conda/lib/python3.12/site-packages (from mcp<2.0.0,>=1.8.0->strands-agents->-r requirements.txt (line 1)) (2.9.1)\n",
      "Requirement already satisfied: python-multipart>=0.0.9 in /opt/conda/lib/python3.12/site-packages (from mcp<2.0.0,>=1.8.0->strands-agents->-r requirements.txt (line 1)) (0.0.20)\n",
      "Collecting sse-starlette>=1.6.1 (from mcp<2.0.0,>=1.8.0->strands-agents->-r requirements.txt (line 1))\n",
      "  Using cached sse_starlette-2.3.6-py3-none-any.whl.metadata (10 kB)\n",
      "Requirement already satisfied: starlette>=0.27 in /opt/conda/lib/python3.12/site-packages (from mcp<2.0.0,>=1.8.0->strands-agents->-r requirements.txt (line 1)) (0.46.2)\n",
      "Requirement already satisfied: uvicorn>=0.23.1 in /opt/conda/lib/python3.12/site-packages (from mcp<2.0.0,>=1.8.0->strands-agents->-r requirements.txt (line 1)) (0.34.2)\n",
      "Requirement already satisfied: deprecated>=1.2.6 in /opt/conda/lib/python3.12/site-packages (from opentelemetry-api<2.0.0,>=1.30.0->strands-agents->-r requirements.txt (line 1)) (1.2.18)\n",
      "Requirement already satisfied: importlib-metadata<8.7.0,>=6.0 in /opt/conda/lib/python3.12/site-packages (from opentelemetry-api<2.0.0,>=1.30.0->strands-agents->-r requirements.txt (line 1)) (6.10.0)\n",
      "Requirement already satisfied: opentelemetry-semantic-conventions==0.53b1 in /opt/conda/lib/python3.12/site-packages (from opentelemetry-sdk<2.0.0,>=1.30.0->strands-agents->-r requirements.txt (line 1)) (0.53b1)\n",
      "Requirement already satisfied: wcwidth in /opt/conda/lib/python3.12/site-packages (from prompt-toolkit<4.0.0,>=3.0.51->strands-agents-tools->-r requirements.txt (line 2)) (0.2.13)\n",
      "Requirement already satisfied: annotated-types>=0.6.0 in /opt/conda/lib/python3.12/site-packages (from pydantic<3.0.0,>=2.0.0->strands-agents->-r requirements.txt (line 1)) (0.7.0)\n",
      "Requirement already satisfied: pydantic-core==2.33.1 in /opt/conda/lib/python3.12/site-packages (from pydantic<3.0.0,>=2.0.0->strands-agents->-r requirements.txt (line 1)) (2.33.1)\n",
      "Requirement already satisfied: typing-inspection>=0.4.0 in /opt/conda/lib/python3.12/site-packages (from pydantic<3.0.0,>=2.0.0->strands-agents->-r requirements.txt (line 1)) (0.4.0)\n",
      "Requirement already satisfied: markdown-it-py>=2.2.0 in /opt/conda/lib/python3.12/site-packages (from rich<15.0.0,>=14.0.0->strands-agents-tools->-r requirements.txt (line 2)) (3.0.0)\n",
      "Requirement already satisfied: pygments<3.0.0,>=2.13.0 in /opt/conda/lib/python3.12/site-packages (from rich<15.0.0,>=14.0.0->strands-agents-tools->-r requirements.txt (line 2)) (2.19.1)\n",
      "Collecting slack_sdk<4,>=3.35.0 (from slack-bolt<2.0.0,>=1.23.0->strands-agents-tools->-r requirements.txt (line 2))\n",
      "  Using cached slack_sdk-3.35.0-py2.py3-none-any.whl.metadata (15 kB)\n",
      "Requirement already satisfied: mpmath<1.4,>=1.1.0 in /opt/conda/lib/python3.12/site-packages (from sympy<2.0.0,>=1.12.0->strands-agents-tools->-r requirements.txt (line 2)) (1.3.0)\n",
      "Requirement already satisfied: idna>=2.8 in /opt/conda/lib/python3.12/site-packages (from anyio>=4.5->mcp<2.0.0,>=1.8.0->strands-agents->-r requirements.txt (line 1)) (3.10)\n",
      "Requirement already satisfied: sniffio>=1.1 in /opt/conda/lib/python3.12/site-packages (from anyio>=4.5->mcp<2.0.0,>=1.8.0->strands-agents->-r requirements.txt (line 1)) (1.3.1)\n",
      "Requirement already satisfied: wrapt<2,>=1.10 in /opt/conda/lib/python3.12/site-packages (from deprecated>=1.2.6->opentelemetry-api<2.0.0,>=1.30.0->strands-agents->-r requirements.txt (line 1)) (1.17.2)\n",
      "Requirement already satisfied: certifi in /opt/conda/lib/python3.12/site-packages (from httpx>=0.27->mcp<2.0.0,>=1.8.0->strands-agents->-r requirements.txt (line 1)) (2025.1.31)\n",
      "Requirement already satisfied: httpcore==1.* in /opt/conda/lib/python3.12/site-packages (from httpx>=0.27->mcp<2.0.0,>=1.8.0->strands-agents->-r requirements.txt (line 1)) (1.0.9)\n",
      "Requirement already satisfied: h11>=0.16 in /opt/conda/lib/python3.12/site-packages (from httpcore==1.*->httpx>=0.27->mcp<2.0.0,>=1.8.0->strands-agents->-r requirements.txt (line 1)) (0.16.0)\n",
      "Requirement already satisfied: zipp>=0.5 in /opt/conda/lib/python3.12/site-packages (from importlib-metadata<8.7.0,>=6.0->opentelemetry-api<2.0.0,>=1.30.0->strands-agents->-r requirements.txt (line 1)) (3.21.0)\n",
      "Requirement already satisfied: mdurl~=0.1 in /opt/conda/lib/python3.12/site-packages (from markdown-it-py>=2.2.0->rich<15.0.0,>=14.0.0->strands-agents-tools->-r requirements.txt (line 2)) (0.1.2)\n",
      "Requirement already satisfied: python-dotenv>=0.21.0 in /opt/conda/lib/python3.12/site-packages (from pydantic-settings>=2.5.2->mcp<2.0.0,>=1.8.0->strands-agents->-r requirements.txt (line 1)) (1.1.0)\n",
      "Requirement already satisfied: six>=1.5 in /opt/conda/lib/python3.12/site-packages (from python-dateutil<3.0.0,>=2.1->botocore<2.0.0,>=1.29.0->strands-agents->-r requirements.txt (line 1)) (1.17.0)\n",
      "Requirement already satisfied: charset_normalizer<4,>=2 in /opt/conda/lib/python3.12/site-packages (from requests>=0.14.0->aws-requests-auth<0.5.0,>=0.4.3->strands-agents-tools->-r requirements.txt (line 2)) (3.4.2)\n",
      "Requirement already satisfied: click>=7.0 in /opt/conda/lib/python3.12/site-packages (from uvicorn>=0.23.1->mcp<2.0.0,>=1.8.0->strands-agents->-r requirements.txt (line 1)) (8.1.8)\n",
      "Downloading strands_agents-0.1.9-py3-none-any.whl (124 kB)\n",
      "Downloading strands_agents_tools-0.1.7-py3-none-any.whl (159 kB)\n",
      "Using cached aws_requests_auth-0.4.3-py2.py3-none-any.whl (6.8 kB)\n",
      "Downloading docstring_parser-0.16-py3-none-any.whl (36 kB)\n",
      "Downloading mcp-1.9.4-py3-none-any.whl (130 kB)\n",
      "Using cached pillow-11.2.1-cp312-cp312-manylinux_2_28_x86_64.whl (4.6 MB)\n",
      "Using cached rich-14.0.0-py3-none-any.whl (243 kB)\n",
      "Using cached slack_bolt-1.23.0-py2.py3-none-any.whl (229 kB)\n",
      "Using cached watchdog-6.0.0-py3-none-manylinux2014_x86_64.whl (79 kB)\n",
      "Using cached slack_sdk-3.35.0-py2.py3-none-any.whl (293 kB)\n",
      "Using cached sse_starlette-2.3.6-py3-none-any.whl (10 kB)\n",
      "Installing collected packages: watchdog, slack_sdk, pillow, docstring-parser, sse-starlette, slack-bolt, rich, aws-requests-auth, mcp, strands-agents, strands-agents-tools\n",
      "  Attempting uninstall: pillow\n",
      "    Found existing installation: pillow 11.1.0\n",
      "    Uninstalling pillow-11.1.0:\n",
      "      Successfully uninstalled pillow-11.1.0\n",
      "  Attempting uninstall: rich\n",
      "    Found existing installation: rich 13.9.4\n",
      "    Uninstalling rich-13.9.4:\n",
      "      Successfully uninstalled rich-13.9.4\n",
      "\u001b[31mERROR: pip's dependency resolver does not currently take into account all the packages that are installed. This behaviour is the source of the following dependency conflicts.\n",
      "autogluon-multimodal 1.2 requires nvidia-ml-py3==7.352.0, which is not installed.\n",
      "autogluon-multimodal 1.2 requires jsonschema<4.22,>=4.18, but you have jsonschema 4.23.0 which is incompatible.\n",
      "autogluon-multimodal 1.2 requires nltk<3.9,>=3.4.5, but you have nltk 3.9.1 which is incompatible.\n",
      "autogluon-multimodal 1.2 requires omegaconf<2.3.0,>=2.1.1, but you have omegaconf 2.3.0 which is incompatible.\n",
      "autogluon-multimodal 1.2 requires transformers[sentencepiece]<4.50,>=4.38.0, but you have transformers 4.51.3 which is incompatible.\n",
      "sagemaker-core 1.0.31 requires rich<14.0.0,>=13.0.0, but you have rich 14.0.0 which is incompatible.\u001b[0m\u001b[31m\n",
      "\u001b[0mSuccessfully installed aws-requests-auth-0.4.3 docstring-parser-0.16 mcp-1.9.4 pillow-11.2.1 rich-14.0.0 slack-bolt-1.23.0 slack_sdk-3.35.0 sse-starlette-2.3.6 strands-agents-0.1.9 strands-agents-tools-0.1.7 watchdog-6.0.0\n"
     ]
    }
   ],
   "source": [
    "!pip install -r requirements.txt"
   ]
  },
  {
   "cell_type": "code",
   "execution_count": 2,
   "metadata": {},
   "outputs": [],
   "source": [
    "from strands import Agent\n",
    "from strands_tools import swarm\n",
    "import time"
   ]
  },
  {
   "cell_type": "markdown",
   "metadata": {},
   "source": [
    "### 1.1 Direct tool innvocation"
   ]
  },
  {
   "cell_type": "code",
   "execution_count": 3,
   "metadata": {},
   "outputs": [],
   "source": [
    "agent = Agent(tools=[swarm])"
   ]
  },
  {
   "cell_type": "code",
   "execution_count": 4,
   "metadata": {},
   "outputs": [
    {
     "name": "stdout",
     "output_type": "stream",
     "text": [
      "## Initial Analysis of Scientific Paper\n",
      "\n",
      "Since Initial Scientific Paper Analysis\n",
      "\n",
      "As Agent I'm the first agent in this phase an 2, I'll provideI notice we haven't been provided with the scientific paper to analyze. Before I can identify key findings, I# Initial Analysis of Scientific Paper\n",
      "\n",
      "Since I'm the first agent contributing in this phase and don't see an initial analysis of the scientific paper.# Analysis of Scientific Paper\n",
      "\n",
      "Since I don't have access to the specific scientific paper you'd like me to analyzed no paper has been shared yet, I'll outline how I woul'll need access to the actual the actual scientific paper attache paper. Could you please share the scientific However, I note that the paper contentd, I'll outline ad approach this task and what key findings I would identify, I cannot provide specific analysis of key structured approach for paper you'd like me to analyze? Once you provide the paper, I'll be if the paper were provided:\n",
      "\n",
      "## hasn't been provided in the prompt. able to: findings from a scientific paper. To proceed with\n",
      "\n",
      "1. Review Without the specific paper to analyze, I'll this task effectively, I would need: the paper thoroughly Initial Analysis Framework\n",
      "\n",
      "I would analyze the paper by analyzing scientific papers and identifying key findings:\n",
      "2. Identify\n",
      "\n",
      "1. The complete scientific paper or at outline the approach I would take: its key findings and contributions\n",
      "3. Analyze examining:\n",
      "\n",
      "1. **Research least its abstract\n",
      "2. Basic the methodology and results\n",
      "4\n",
      "\n",
      "For a comprehensive scientific paper analysis, I. Consider the implications\n",
      "\n",
      "## Paper Analysis Framework information such as the paper's title question/hypothesis**: What specific problem of the research\n",
      "5 would:\n",
      "\n",
      "1. **\n",
      "\n",
      "1. **Core, authors, and publication details\n",
      "3. Build upon insights from other Research Question**: What problem was agents as they contributeIdentify the research question/hypothesis** does this paper address?\n",
      "\n",
      "2. **. The subject domain of the paper to the paper trying to solve? What gaps\n",
      "\n",
      "Please share the scientificMethodology**: The experimental design, sample in knowledge were being addressed? paper, and I'll procee the authors sought to address\n",
      "2. **\n",
      "\n",
      "2. **Methodology Assessment properly contextualize findings\n",
      "\n",
      "Once size, controls, and analytical techniquesSummarize the methodology** used, including study**: What research design was employe the scientific paper is provided, I can analyze used\n",
      "\n",
      "3. **Key results**: Thed with the analysis.d? What were the experimental conditions, design, sample size, and analytical techniques\n",
      "3. **Extract key findings an sample sizes, and analytical techniques?\n",
      "\n",
      "3. ** it for:\n",
      "- Main research questions an primary outcomes and statistical significance\n",
      "\n",
      "4. **Primary Findings**: What wereLimitations**: Any constraints or weaknesses acknowledged hypotheses\n",
      "- Methodology used the main results?d results** with particular attention to statistical significanced by the authors\n",
      "\n",
      "5. **Implications and practical implications\n",
      "4. **Note Which findings were statistically significant? How\n",
      "- Key results and statistical significance\n",
      "- Novel**: How these findings advance the field or limitations** acknowledged by the authors\n",
      "5. ** contributions to the field\n",
      "- Limitations impact practical applications\n",
      "\n",
      "## Next Steps\n",
      "\n",
      "To do they relate to theIdentify broader implications** for the acknowledged by the authors field and potential future research directions properly analyze this paper, I would nee\n",
      "- Implications for theory and practice\n",
      "\n",
      "Please research questions?\n",
      "\n",
      "4. **\n",
      "\n",
      "To effectively analyze the paper an share the scientific paper youTheoretical Implications**: How d:\n",
      "- The actual paperd identify key findings, I'll needo these findings extend, challenge, or support content\n",
      "- Any specific'd like analyzed, and I'll provided to review the actual paper existing theories in the field? a thorough review of its aspects you'd like me to focus on content. Once provided, I can offer\n",
      "\n",
      "5. **Practical Applications**: What real-world implications or\n",
      "- The field/domain of research key findings. applications emerge from this to provide proper context\n",
      "\n",
      "I'm ready specific insights that build upon the collective analysis of our agent group. to build upon contributions from other agents an research?\n",
      "\n",
      "6. **Limitationsd provide deeper insights once I have access to the paper itself.**: What constraints or limitations did the authors acknowledge? What potential biases exist?\n",
      "\n",
      "When the actual paper is provided, I can apply this framework to extract and synthesize its key contributions to the field.# Building Upon Collective Observations About Scientific Paper Analysis\n",
      "\n",
      "I note from the previous phase that all five agents have identified the same core issue: we haven't been provided with the actual scientific paper# Scientific Paper Analysis Framework - to analyze. Building Building on Previous Insights upon this collective insight\n",
      "\n",
      "After reviewing the previous phase, I' discussions, I see all agents have correctlyd like to suggest a collaborative approach to address this identified that the actual scientific paper was not provided. To build upon my colleagues limitation:\n",
      "\n",
      "##' insights, I'll synthesize and enhance our collective approach to scientific paper analysis: Proposed Next Steps\n",
      "\n",
      "1\n",
      "\n",
      "## Enhanced Analytical Framework\n",
      "\n",
      "1. **Request Clarification**: We nee. **Consolidated Research Contextd the complete paper or at least key**:\n",
      "   - Identify sections (abstract, methods, results, discussion) to perform meaningful analysis. the research question and hypotheses\n",
      "   -\n",
      "\n",
      "2. **Flexible Analysis Framework**: Based on the frameworks my colleagues have outlined, I propose a synthesized approach that considers: Place the study within its broader scientific\n",
      "   - Research questions and hypotheses\n",
      "   - Metho discourse\n",
      "   - Examinedological rigor and innovation\n",
      "   - Statistical significance of findings\n",
      "   - how it builds upon or challenges previous Theoretical contributions and practical applications\n",
      "   - Limitations research\n",
      "\n",
      "2. **Methodological and future research directions\n",
      "\n",
      "3. Rigor Assessment**:\n",
      "    **Domain Context**: Understanding the field/domain of the paper would help us- Evaluate research design appropriateness for the questions posed\n",
      "   - apply appropriate analytical lenses and connect findings to relevant literature.\n",
      "\n",
      "I'm ready to buil Assess statistical power and sample selection methodologyd upon others' analyses when we\n",
      "   - Consider validity of have the paper content, focusing control mechanisms and variables\n",
      "\n",
      "3. ** on identifying connections between findings and evaluating how they advance knowledge in the field. OurResults Integration**:\n",
      "   - Connect collaborative analysis will be stronger statistical findings to practical significance\n",
      "   - by combining multiple analytical Identify patterns across multiple results\n",
      "   - perspectives. Highlight unexpected or counterintuitive findings\n",
      "\n",
      "4. **Synthesis of Limitations**:\n",
      "   - Categorize limitations (methodological, contextual, analytical)\n",
      "   - Assess how limitations might affect interpretation of findings\n",
      "   - Suggest potential remedies for identified limitations\n",
      "\n",
      "Once we receive the actual paper, this comprehensive framework will allow us to collaboratively identify and contextualize the key findings in a systematic manner that builds upon our collective expertise.# Scientific Paper Analysis - Initial Framework\n",
      "\n",
      "Based on our collective understanding from Phase 0, it's evident that we need the scientific paper to provide a detailed analysis. Since we don't have the paper yet, I'll build upon our combined approaches to create a comprehensive analytical framework that we can apply once the paper is provided:\n",
      "\n",
      "## Enhanced Analytical Framework\n",
      "\n",
      "1. **Research Context and Significance**\n",
      "   - Positioning within the broader scientific literature\n",
      "   - Novelty and potential impact of the research question\n",
      "\n",
      "2. **Methodological Rigor Assessment**\n",
      "   - Appropriateness of study design for research questions\n",
      "   - Statistical power and sample selection considerations\n",
      "   - Reproducibility factors and methodological innovations\n",
      "\n",
      "3. **Results Interpretation**\n",
      "   - Statistical vs. practical significance distinction\n",
      "   - Unexpected or contradictory findings\n",
      "   - Comparison with previous research outcomes\n",
      "\n",
      "4. **Interdisciplinary Implications**\n",
      "   - Cross-domain applications of the findings\n",
      "   - Integration with existing theoretical frameworks\n",
      "\n",
      "5. **Future Research Pathways**\n",
      "   - Identification of new research questions emerging from findings\n",
      "   - Methodological improvements for future studies\n",
      "\n",
      "This framework synthesizes the approaches suggested by all agents and will allow for a systematic and comprehensive analysis once we receive the scientific paper.# Analysis Framework for Scientific Papers\n",
      "\n",
      "Building on the observations from my fellow agents in the previous phase, I can see we're facing a common challenge: we haven't been provided with the actual scientific paper to analyze. \n",
      "\n",
      "To move this collaboration forward constructively, I'll synthesize the frameworks proposed by other agents and add unique elements that would enhance our collective analysis once we receive the paper:\n",
      "\n",
      "## Enhanced Collaborative Analysis Framework\n",
      "\n",
      "1. **Context and Positioning**\n",
      "   - Historical context of the research question\n",
      "   - How the paper fits within the current scientific discourse\n",
      "   - Novelty assessment compared to previous work\n",
      "\n",
      "2. **Methodological Rigor Assessment**\n",
      "   - Appropriateness of methods for the research question\n",
      "   - Statistical power analysis and sample justification\n",
      "   - Reproducibility considerations and open science practices\n",
      "\n",
      "3. **Findings Interpretation Layer**\n",
      "   - Primary vs. secondary findings differentiation\n",
      "   - Effect sizes and practical significance (beyond statistical significance)\n",
      "   - Unexpecte#d or contradictory results analysis Building a Collaborative Analysis Framework\n",
      "\n",
      "Base\n",
      "\n",
      "4. **Crossd on the previous phase, I notice all agents have highlighted that we're missing the actual scientific paper to analyze. Building upon-disciplinary Implications**\n",
      "   - How findings might our collective insights, impact adjacent fields\n",
      "   - I can contribute to our collaborative framework by synthes Potential for interizing our approaches:\n",
      "\n",
      "## Enhancedisciplinary applicationsd Collaborative Analysis Structure\n",
      "\n",
      "1. **Context and Background**\n",
      "   - Situ\n",
      "\n",
      "5. **Future Research Roaate the paper within its field\n",
      "   - Identify key prior research it builds upon\n",
      "   - Understandmap**\n",
      "   -d the knowledge gap being addressed\n",
      "\n",
      "2. **Methodological Ri Specific questions that emerge from the findingsgor Assessment**\n",
      "   - Evaluate study design appropri\n",
      "   - Methodological improvementsateness for research questions\n",
      "   - Assess sample selection for future studies\n",
      "\n",
      "Once we receive the actual and statistical power\n",
      "   - Examine paper, our collaborative approach woul measurement validity and reliability\n",
      "\n",
      "3. **Resultsd allow us to analyze it from Interpretation**\n",
      "   - Connect statistical findings to research hypotheses\n",
      "   - multiple perspectives simultaneously, creating Distinguish between correlation and causation where applicable\n",
      "   - Identify patterns across multiple results a more comprehensive understanding than any single analysis\n",
      "\n",
      "4. **Cross-disciplinary Implications**\n",
      "   - Consider how findings might could provide. impact adjacent fields\n",
      "   - Identify potential for interdisciplinary applications\n",
      "\n",
      "To proceed effectively, we need the actual paper content. Once provided, I'll build upon insights from other agents to help create a comprehensive, multi-perspective analysis of the key findings."
     ]
    },
    {
     "data": {
      "text/html": [
       "<pre style=\"white-space:pre;overflow-x:auto;line-height:normal;font-family:Menlo,'DejaVu Sans Mono',consolas,'Courier New',monospace\"></pre>\n"
      ],
      "text/plain": []
     },
     "metadata": {},
     "output_type": "display_data"
    }
   ],
   "source": [
    "result = agent.tool.swarm(\n",
    "    task=\"Analyze this scientific paper and identify key findings\",\n",
    "    swarm_size=5,\n",
    "    coordination_pattern=\"collaborative\",\n",
    ")"
   ]
  },
  {
   "cell_type": "markdown",
   "metadata": {},
   "source": [
    "Here you can see that the 5 agents built upon others'insights and seek consensus"
   ]
  },
  {
   "cell_type": "code",
   "execution_count": 5,
   "metadata": {},
   "outputs": [
    {
     "data": {
      "text/plain": [
       "[{'text': \"🤖 Agent agent_1: Response: # Analysis of Scientific Paper\\n\\nSince I don't have access to the specific scientific paper you'd like me to analyze, I'll outline how I would approach this task and what key findings I would identify if the paper were provided:\\n\\n## Initial Analysis Framework\\n\\nI would analyze the paper by examining:\\n\\n1. **Research question/hypothesis**: What specific problem does this paper address?\\n\\n2. **Methodology**: The experimental design, sample size, controls, and analytical techniques used\\n\\n3. **Key results**: The primary outcomes and statistical significance\\n\\n4. **Limitations**: Any constraints or weaknesses acknowledged by the authors\\n\\n5. **Implications**: How these findings advance the field or impact practical applications\\n\\n## Next Steps\\n\\nTo properly analyze this paper, I would need:\\n- The actual paper content\\n- Any specific aspects you'd like me to focus on\\n- The field/domain of research to provide proper context\\n\\nI'm ready to build upon contributions from other agents and provide deeper insights once I have access to the paper itself.\\n\"},\n",
       " {'text': '🤖 Agent agent_1: Metrics: Event Loop Metrics Summary:\\n├─ Cycles: total=1, avg_time=7.849s, total_time=7.849s\\n├─ Tokens: in=233, out=215, total=448\\n├─ Bedrock Latency: 7830ms\\n├─ Tool Usage:\\n├─ Execution Trace:\\n   └─ None - Duration: 7.8490s\\n      └─ None - Duration: 7.8489s'},\n",
       " {'text': \"🤖 Agent agent_2: Response: # Initial Scientific Paper Analysis\\n\\nAs Agent 2, I'll provide an initial analysis of the scientific paper. However, I note that the paper content hasn't been provided in the prompt. Without the specific paper to analyze, I'll outline the approach I would take:\\n\\nFor a comprehensive scientific paper analysis, I would:\\n\\n1. **Identify the research question/hypothesis** the authors sought to address\\n2. **Summarize the methodology** used, including study design, sample size, and analytical techniques\\n3. **Extract key findings and results** with particular attention to statistical significance and practical implications\\n4. **Note limitations** acknowledged by the authors\\n5. **Identify broader implications** for the field and potential future research directions\\n\\nTo effectively analyze the paper and identify key findings, I'll need to review the actual paper content. Once provided, I can offer specific insights that build upon the collective analysis of our agent group.\\n\"},\n",
       " {'text': '🤖 Agent agent_2: Metrics: Event Loop Metrics Summary:\\n├─ Cycles: total=1, avg_time=7.491s, total_time=7.491s\\n├─ Tokens: in=233, out=194, total=427\\n├─ Bedrock Latency: 7455ms\\n├─ Tool Usage:\\n├─ Execution Trace:\\n   └─ None - Duration: 7.4908s\\n      └─ None - Duration: 7.4907s'},\n",
       " {'text': \"🤖 Agent agent_3: Response: # Initial Analysis of Scientific Paper\\n\\nSince I'm the first agent contributing in this phase and don't see the actual scientific paper attached, I'll outline a structured approach for analyzing scientific papers and identifying key findings:\\n\\n## Paper Analysis Framework\\n\\n1. **Core Research Question**: What problem was the paper trying to solve? What gaps in knowledge were being addressed?\\n\\n2. **Methodology Assessment**: What research design was employed? What were the experimental conditions, sample sizes, and analytical techniques?\\n\\n3. **Primary Findings**: What were the main results? Which findings were statistically significant? How do they relate to the research questions?\\n\\n4. **Theoretical Implications**: How do these findings extend, challenge, or support existing theories in the field?\\n\\n5. **Practical Applications**: What real-world implications or applications emerge from this research?\\n\\n6. **Limitations**: What constraints or limitations did the authors acknowledge? What potential biases exist?\\n\\nWhen the actual paper is provided, I can apply this framework to extract and synthesize its key contributions to the field.\\n\"},\n",
       " {'text': '🤖 Agent agent_3: Metrics: Event Loop Metrics Summary:\\n├─ Cycles: total=1, avg_time=9.021s, total_time=9.021s\\n├─ Tokens: in=233, out=224, total=457\\n├─ Bedrock Latency: 9005ms\\n├─ Tool Usage:\\n├─ Execution Trace:\\n   └─ None - Duration: 9.0207s\\n      └─ None - Duration: 9.0206s'},\n",
       " {'text': \"🤖 Agent agent_4: Response: I notice we haven't been provided with the scientific paper to analyze. Before I can identify key findings, I'll need access to the actual paper. Could you please share the scientific paper you'd like me to analyze? Once you provide the paper, I'll be able to:\\n\\n1. Review the paper thoroughly\\n2. Identify its key findings and contributions\\n3. Analyze the methodology and results\\n4. Consider the implications of the research\\n5. Build upon insights from other agents as they contribute\\n\\nPlease share the scientific paper, and I'll proceed with the analysis.\\n\"},\n",
       " {'text': '🤖 Agent agent_4: Metrics: Event Loop Metrics Summary:\\n├─ Cycles: total=1, avg_time=3.921s, total_time=3.921s\\n├─ Tokens: in=233, out=121, total=354\\n├─ Bedrock Latency: 3902ms\\n├─ Tool Usage:\\n├─ Execution Trace:\\n   └─ None - Duration: 3.9207s\\n      └─ None - Duration: 3.9206s'},\n",
       " {'text': \"🤖 Agent agent_5: Response: # Initial Analysis of Scientific Paper\\n\\nSince I'm the first agent in this phase and no paper has been shared yet, I cannot provide specific analysis of key findings from a scientific paper. To proceed with this task effectively, I would need:\\n\\n1. The complete scientific paper or at least its abstract\\n2. Basic information such as the paper's title, authors, and publication details\\n3. The subject domain of the paper to properly contextualize findings\\n\\nOnce the scientific paper is provided, I can analyze it for:\\n- Main research questions and hypotheses\\n- Methodology used\\n- Key results and statistical significance\\n- Novel contributions to the field\\n- Limitations acknowledged by the authors\\n- Implications for theory and practice\\n\\nPlease share the scientific paper you'd like analyzed, and I'll provide a thorough review of its key findings.\\n\"},\n",
       " {'text': '🤖 Agent agent_5: Metrics: Event Loop Metrics Summary:\\n├─ Cycles: total=1, avg_time=6.820s, total_time=6.820s\\n├─ Tokens: in=233, out=176, total=409\\n├─ Bedrock Latency: 6779ms\\n├─ Tool Usage:\\n├─ Execution Trace:\\n   └─ None - Duration: 6.8203s\\n      └─ None - Duration: 6.8202s'},\n",
       " {'text': \"🤖 Agent agent_1: Response: # Scientific Paper Analysis Framework - Building on Previous Insights\\n\\nAfter reviewing the previous phase discussions, I see all agents have correctly identified that the actual scientific paper was not provided. To build upon my colleagues' insights, I'll synthesize and enhance our collective approach to scientific paper analysis:\\n\\n## Enhanced Analytical Framework\\n\\n1. **Consolidated Research Context**:\\n   - Identify the research question and hypotheses\\n   - Place the study within its broader scientific discourse\\n   - Examine how it builds upon or challenges previous research\\n\\n2. **Methodological Rigor Assessment**:\\n   - Evaluate research design appropriateness for the questions posed\\n   - Assess statistical power and sample selection methodology\\n   - Consider validity of control mechanisms and variables\\n\\n3. **Results Integration**:\\n   - Connect statistical findings to practical significance\\n   - Identify patterns across multiple results\\n   - Highlight unexpected or counterintuitive findings\\n\\n4. **Synthesis of Limitations**:\\n   - Categorize limitations (methodological, contextual, analytical)\\n   - Assess how limitations might affect interpretation of findings\\n   - Suggest potential remedies for identified limitations\\n\\nOnce we receive the actual paper, this comprehensive framework will allow us to collaboratively identify and contextualize the key findings in a systematic manner that builds upon our collective expertise.\\n\"},\n",
       " {'text': '🤖 Agent agent_1: Metrics: Event Loop Metrics Summary:\\n├─ Cycles: total=1, avg_time=11.689s, total_time=11.689s\\n├─ Tokens: in=2485, out=283, total=2768\\n├─ Bedrock Latency: 11671ms\\n├─ Tool Usage:\\n├─ Execution Trace:\\n   └─ None - Duration: 11.6892s\\n      └─ None - Duration: 11.6889s'},\n",
       " {'text': \"🤖 Agent agent_2: Response: # Building Upon Collective Observations About Scientific Paper Analysis\\n\\nI note from the previous phase that all five agents have identified the same core issue: we haven't been provided with the actual scientific paper to analyze. Building upon this collective insight, I'd like to suggest a collaborative approach to address this limitation:\\n\\n## Proposed Next Steps\\n\\n1. **Request Clarification**: We need the complete paper or at least key sections (abstract, methods, results, discussion) to perform meaningful analysis.\\n\\n2. **Flexible Analysis Framework**: Based on the frameworks my colleagues have outlined, I propose a synthesized approach that considers:\\n   - Research questions and hypotheses\\n   - Methodological rigor and innovation\\n   - Statistical significance of findings\\n   - Theoretical contributions and practical applications\\n   - Limitations and future research directions\\n\\n3. **Domain Context**: Understanding the field/domain of the paper would help us apply appropriate analytical lenses and connect findings to relevant literature.\\n\\nI'm ready to build upon others' analyses when we have the paper content, focusing on identifying connections between findings and evaluating how they advance knowledge in the field. Our collaborative analysis will be stronger by combining multiple analytical perspectives.\\n\"},\n",
       " {'text': '🤖 Agent agent_2: Metrics: Event Loop Metrics Summary:\\n├─ Cycles: total=1, avg_time=8.495s, total_time=8.495s\\n├─ Tokens: in=2485, out=249, total=2734\\n├─ Bedrock Latency: 8473ms\\n├─ Tool Usage:\\n├─ Execution Trace:\\n   └─ None - Duration: 8.4954s\\n      └─ None - Duration: 8.4952s'},\n",
       " {'text': \"🤖 Agent agent_3: Response: # Building a Collaborative Analysis Framework\\n\\nBased on the previous phase, I notice all agents have highlighted that we're missing the actual scientific paper to analyze. Building upon our collective insights, I can contribute to our collaborative framework by synthesizing our approaches:\\n\\n## Enhanced Collaborative Analysis Structure\\n\\n1. **Context and Background**\\n   - Situate the paper within its field\\n   - Identify key prior research it builds upon\\n   - Understand the knowledge gap being addressed\\n\\n2. **Methodological Rigor Assessment**\\n   - Evaluate study design appropriateness for research questions\\n   - Assess sample selection and statistical power\\n   - Examine measurement validity and reliability\\n\\n3. **Results Interpretation**\\n   - Connect statistical findings to research hypotheses\\n   - Distinguish between correlation and causation where applicable\\n   - Identify patterns across multiple results\\n\\n4. **Cross-disciplinary Implications**\\n   - Consider how findings might impact adjacent fields\\n   - Identify potential for interdisciplinary applications\\n\\nTo proceed effectively, we need the actual paper content. Once provided, I'll build upon insights from other agents to help create a comprehensive, multi-perspective analysis of the key findings.\\n\"},\n",
       " {'text': '🤖 Agent agent_3: Metrics: Event Loop Metrics Summary:\\n├─ Cycles: total=1, avg_time=41.203s, total_time=41.203s\\n├─ Tokens: in=2485, out=253, total=2738\\n├─ Bedrock Latency: 9192ms\\n├─ Tool Usage:\\n├─ Execution Trace:\\n   └─ None - Duration: 41.2029s\\n      └─ None - Duration: 41.2027s'},\n",
       " {'text': \"🤖 Agent agent_4: Response: # Scientific Paper Analysis - Initial Framework\\n\\nBased on our collective understanding from Phase 0, it's evident that we need the scientific paper to provide a detailed analysis. Since we don't have the paper yet, I'll build upon our combined approaches to create a comprehensive analytical framework that we can apply once the paper is provided:\\n\\n## Enhanced Analytical Framework\\n\\n1. **Research Context and Significance**\\n   - Positioning within the broader scientific literature\\n   - Novelty and potential impact of the research question\\n\\n2. **Methodological Rigor Assessment**\\n   - Appropriateness of study design for research questions\\n   - Statistical power and sample selection considerations\\n   - Reproducibility factors and methodological innovations\\n\\n3. **Results Interpretation**\\n   - Statistical vs. practical significance distinction\\n   - Unexpected or contradictory findings\\n   - Comparison with previous research outcomes\\n\\n4. **Interdisciplinary Implications**\\n   - Cross-domain applications of the findings\\n   - Integration with existing theoretical frameworks\\n\\n5. **Future Research Pathways**\\n   - Identification of new research questions emerging from findings\\n   - Methodological improvements for future studies\\n\\nThis framework synthesizes the approaches suggested by all agents and will allow for a systematic and comprehensive analysis once we receive the scientific paper.\\n\"},\n",
       " {'text': '🤖 Agent agent_4: Metrics: Event Loop Metrics Summary:\\n├─ Cycles: total=1, avg_time=21.645s, total_time=21.645s\\n├─ Tokens: in=2485, out=276, total=2761\\n├─ Bedrock Latency: 10369ms\\n├─ Tool Usage:\\n├─ Execution Trace:\\n   └─ None - Duration: 21.6453s\\n      └─ None - Duration: 21.6451s'},\n",
       " {'text': \"🤖 Agent agent_5: Response: # Analysis Framework for Scientific Papers\\n\\nBuilding on the observations from my fellow agents in the previous phase, I can see we're facing a common challenge: we haven't been provided with the actual scientific paper to analyze. \\n\\nTo move this collaboration forward constructively, I'll synthesize the frameworks proposed by other agents and add unique elements that would enhance our collective analysis once we receive the paper:\\n\\n## Enhanced Collaborative Analysis Framework\\n\\n1. **Context and Positioning**\\n   - Historical context of the research question\\n   - How the paper fits within the current scientific discourse\\n   - Novelty assessment compared to previous work\\n\\n2. **Methodological Rigor Assessment**\\n   - Appropriateness of methods for the research question\\n   - Statistical power analysis and sample justification\\n   - Reproducibility considerations and open science practices\\n\\n3. **Findings Interpretation Layer**\\n   - Primary vs. secondary findings differentiation\\n   - Effect sizes and practical significance (beyond statistical significance)\\n   - Unexpected or contradictory results analysis\\n\\n4. **Cross-disciplinary Implications**\\n   - How findings might impact adjacent fields\\n   - Potential for interdisciplinary applications\\n\\n5. **Future Research Roadmap**\\n   - Specific questions that emerge from the findings\\n   - Methodological improvements for future studies\\n\\nOnce we receive the actual paper, our collaborative approach would allow us to analyze it from multiple perspectives simultaneously, creating a more comprehensive understanding than any single analysis could provide.\\n\"},\n",
       " {'text': '🤖 Agent agent_5: Metrics: Event Loop Metrics Summary:\\n├─ Cycles: total=1, avg_time=39.212s, total_time=39.212s\\n├─ Tokens: in=2485, out=315, total=2800\\n├─ Bedrock Latency: 16122ms\\n├─ Tool Usage:\\n├─ Execution Trace:\\n   └─ None - Duration: 39.2121s\\n      └─ None - Duration: 39.2119s'},\n",
       " {'text': '\\n🌟 Collective Knowledge:\\n[\\n  {\\n    \"id\": \"3bed3a63-ad96-4723-8867-ab8a28a8eff3\",\\n    \"agent_id\": \"agent_4\",\\n    \"content\": \"Response: I notice we haven\\'t been provided with the scientific paper to analyze. Before I can identify key findings, I\\'ll need access to the actual paper. Could you please share the scientific paper you\\'d like me to analyze? Once you provide the paper, I\\'ll be able to:\\\\n\\\\n1. Review the paper thoroughly\\\\n2. Identify its key findings and contributions\\\\n3. Analyze the methodology and results\\\\n4. Consider the implications of the research\\\\n5. Build upon insights from other agents as they contribute\\\\n\\\\nPlease share the scientific paper, and I\\'ll proceed with the analysis.\\\\n\\\\nMetrics: Event Loop Metrics Summary:\\\\n\\\\u251c\\\\u2500 Cycles: total=1, avg_time=3.921s, total_time=3.921s\\\\n\\\\u251c\\\\u2500 Tokens: in=233, out=121, total=354\\\\n\\\\u251c\\\\u2500 Bedrock Latency: 3902ms\\\\n\\\\u251c\\\\u2500 Tool Usage:\\\\n\\\\u251c\\\\u2500 Execution Trace:\\\\n   \\\\u2514\\\\u2500 None - Duration: 3.9207s\\\\n      \\\\u2514\\\\u2500 None - Duration: 3.9206s\",\\n    \"phase\": 0,\\n    \"timestamp\": 1750867969.7524757\\n  },\\n  {\\n    \"id\": \"6a93e5b9-24da-428c-9879-c85148847e31\",\\n    \"agent_id\": \"agent_5\",\\n    \"content\": \"Response: # Initial Analysis of Scientific Paper\\\\n\\\\nSince I\\'m the first agent in this phase and no paper has been shared yet, I cannot provide specific analysis of key findings from a scientific paper. To proceed with this task effectively, I would need:\\\\n\\\\n1. The complete scientific paper or at least its abstract\\\\n2. Basic information such as the paper\\'s title, authors, and publication details\\\\n3. The subject domain of the paper to properly contextualize findings\\\\n\\\\nOnce the scientific paper is provided, I can analyze it for:\\\\n- Main research questions and hypotheses\\\\n- Methodology used\\\\n- Key results and statistical significance\\\\n- Novel contributions to the field\\\\n- Limitations acknowledged by the authors\\\\n- Implications for theory and practice\\\\n\\\\nPlease share the scientific paper you\\'d like analyzed, and I\\'ll provide a thorough review of its key findings.\\\\n\\\\nMetrics: Event Loop Metrics Summary:\\\\n\\\\u251c\\\\u2500 Cycles: total=1, avg_time=6.820s, total_time=6.820s\\\\n\\\\u251c\\\\u2500 Tokens: in=233, out=176, total=409\\\\n\\\\u251c\\\\u2500 Bedrock Latency: 6779ms\\\\n\\\\u251c\\\\u2500 Tool Usage:\\\\n\\\\u251c\\\\u2500 Execution Trace:\\\\n   \\\\u2514\\\\u2500 None - Duration: 6.8203s\\\\n      \\\\u2514\\\\u2500 None - Duration: 6.8202s\",\\n    \"phase\": 0,\\n    \"timestamp\": 1750867972.6190102\\n  },\\n  {\\n    \"id\": \"7dba4204-8482-4e3b-b22b-aefb5e162f85\",\\n    \"agent_id\": \"agent_2\",\\n    \"content\": \"Response: # Initial Scientific Paper Analysis\\\\n\\\\nAs Agent 2, I\\'ll provide an initial analysis of the scientific paper. However, I note that the paper content hasn\\'t been provided in the prompt. Without the specific paper to analyze, I\\'ll outline the approach I would take:\\\\n\\\\nFor a comprehensive scientific paper analysis, I would:\\\\n\\\\n1. **Identify the research question/hypothesis** the authors sought to address\\\\n2. **Summarize the methodology** used, including study design, sample size, and analytical techniques\\\\n3. **Extract key findings and results** with particular attention to statistical significance and practical implications\\\\n4. **Note limitations** acknowledged by the authors\\\\n5. **Identify broader implications** for the field and potential future research directions\\\\n\\\\nTo effectively analyze the paper and identify key findings, I\\'ll need to review the actual paper content. Once provided, I can offer specific insights that build upon the collective analysis of our agent group.\\\\n\\\\nMetrics: Event Loop Metrics Summary:\\\\n\\\\u251c\\\\u2500 Cycles: total=1, avg_time=7.491s, total_time=7.491s\\\\n\\\\u251c\\\\u2500 Tokens: in=233, out=194, total=427\\\\n\\\\u251c\\\\u2500 Bedrock Latency: 7455ms\\\\n\\\\u251c\\\\u2500 Tool Usage:\\\\n\\\\u251c\\\\u2500 Execution Trace:\\\\n   \\\\u2514\\\\u2500 None - Duration: 7.4908s\\\\n      \\\\u2514\\\\u2500 None - Duration: 7.4907s\",\\n    \"phase\": 0,\\n    \"timestamp\": 1750867973.2979324\\n  },\\n  {\\n    \"id\": \"5ce538a4-3c1f-4f99-81bc-265fcc7a769e\",\\n    \"agent_id\": \"agent_1\",\\n    \"content\": \"Response: # Analysis of Scientific Paper\\\\n\\\\nSince I don\\'t have access to the specific scientific paper you\\'d like me to analyze, I\\'ll outline how I would approach this task and what key findings I would identify if the paper were provided:\\\\n\\\\n## Initial Analysis Framework\\\\n\\\\nI would analyze the paper by examining:\\\\n\\\\n1. **Research question/hypothesis**: What specific problem does this paper address?\\\\n\\\\n2. **Methodology**: The experimental design, sample size, controls, and analytical techniques used\\\\n\\\\n3. **Key results**: The primary outcomes and statistical significance\\\\n\\\\n4. **Limitations**: Any constraints or weaknesses acknowledged by the authors\\\\n\\\\n5. **Implications**: How these findings advance the field or impact practical applications\\\\n\\\\n## Next Steps\\\\n\\\\nTo properly analyze this paper, I would need:\\\\n- The actual paper content\\\\n- Any specific aspects you\\'d like me to focus on\\\\n- The field/domain of research to provide proper context\\\\n\\\\nI\\'m ready to build upon contributions from other agents and provide deeper insights once I have access to the paper itself.\\\\n\\\\nMetrics: Event Loop Metrics Summary:\\\\n\\\\u251c\\\\u2500 Cycles: total=1, avg_time=7.849s, total_time=7.849s\\\\n\\\\u251c\\\\u2500 Tokens: in=233, out=215, total=448\\\\n\\\\u251c\\\\u2500 Bedrock Latency: 7830ms\\\\n\\\\u251c\\\\u2500 Tool Usage:\\\\n\\\\u251c\\\\u2500 Execution Trace:\\\\n   \\\\u2514\\\\u2500 None - Duration: 7.8490s\\\\n      \\\\u2514\\\\u2500 None - Duration: 7.8489s\",\\n    \"phase\": 0,\\n    \"timestamp\": 1750867973.6787298\\n  },\\n  {\\n    \"id\": \"eb31083d-d9a8-40ef-a336-d5cd7579a984\",\\n    \"agent_id\": \"agent_3\",\\n    \"content\": \"Response: # Initial Analysis of Scientific Paper\\\\n\\\\nSince I\\'m the first agent contributing in this phase and don\\'t see the actual scientific paper attached, I\\'ll outline a structured approach for analyzing scientific papers and identifying key findings:\\\\n\\\\n## Paper Analysis Framework\\\\n\\\\n1. **Core Research Question**: What problem was the paper trying to solve? What gaps in knowledge were being addressed?\\\\n\\\\n2. **Methodology Assessment**: What research design was employed? What were the experimental conditions, sample sizes, and analytical techniques?\\\\n\\\\n3. **Primary Findings**: What were the main results? Which findings were statistically significant? How do they relate to the research questions?\\\\n\\\\n4. **Theoretical Implications**: How do these findings extend, challenge, or support existing theories in the field?\\\\n\\\\n5. **Practical Applications**: What real-world implications or applications emerge from this research?\\\\n\\\\n6. **Limitations**: What constraints or limitations did the authors acknowledge? What potential biases exist?\\\\n\\\\nWhen the actual paper is provided, I can apply this framework to extract and synthesize its key contributions to the field.\\\\n\\\\nMetrics: Event Loop Metrics Summary:\\\\n\\\\u251c\\\\u2500 Cycles: total=1, avg_time=9.021s, total_time=9.021s\\\\n\\\\u251c\\\\u2500 Tokens: in=233, out=224, total=457\\\\n\\\\u251c\\\\u2500 Bedrock Latency: 9005ms\\\\n\\\\u251c\\\\u2500 Tool Usage:\\\\n\\\\u251c\\\\u2500 Execution Trace:\\\\n   \\\\u2514\\\\u2500 None - Duration: 9.0207s\\\\n      \\\\u2514\\\\u2500 None - Duration: 9.0206s\",\\n    \"phase\": 0,\\n    \"timestamp\": 1750867974.8589203\\n  },\\n  {\\n    \"id\": \"112a071c-1dae-4f2b-b306-6a4579556f86\",\\n    \"agent_id\": \"agent_2\",\\n    \"content\": \"Response: # Building Upon Collective Observations About Scientific Paper Analysis\\\\n\\\\nI note from the previous phase that all five agents have identified the same core issue: we haven\\'t been provided with the actual scientific paper to analyze. Building upon this collective insight, I\\'d like to suggest a collaborative approach to address this limitation:\\\\n\\\\n## Proposed Next Steps\\\\n\\\\n1. **Request Clarification**: We need the complete paper or at least key sections (abstract, methods, results, discussion) to perform meaningful analysis.\\\\n\\\\n2. **Flexible Analysis Framework**: Based on the frameworks my colleagues have outlined, I propose a synthesized approach that considers:\\\\n   - Research questions and hypotheses\\\\n   - Methodological rigor and innovation\\\\n   - Statistical significance of findings\\\\n   - Theoretical contributions and practical applications\\\\n   - Limitations and future research directions\\\\n\\\\n3. **Domain Context**: Understanding the field/domain of the paper would help us apply appropriate analytical lenses and connect findings to relevant literature.\\\\n\\\\nI\\'m ready to build upon others\\' analyses when we have the paper content, focusing on identifying connections between findings and evaluating how they advance knowledge in the field. Our collaborative analysis will be stronger by combining multiple analytical perspectives.\\\\n\\\\nMetrics: Event Loop Metrics Summary:\\\\n\\\\u251c\\\\u2500 Cycles: total=1, avg_time=8.495s, total_time=8.495s\\\\n\\\\u251c\\\\u2500 Tokens: in=2485, out=249, total=2734\\\\n\\\\u251c\\\\u2500 Bedrock Latency: 8473ms\\\\n\\\\u251c\\\\u2500 Tool Usage:\\\\n\\\\u251c\\\\u2500 Execution Trace:\\\\n   \\\\u2514\\\\u2500 None - Duration: 8.4954s\\\\n      \\\\u2514\\\\u2500 None - Duration: 8.4952s\",\\n    \"phase\": 1,\\n    \"timestamp\": 1750867984.398334\\n  },\\n  {\\n    \"id\": \"ea3d4941-a5d8-4af3-84ae-755daef154f6\",\\n    \"agent_id\": \"agent_1\",\\n    \"content\": \"Response: # Scientific Paper Analysis Framework - Building on Previous Insights\\\\n\\\\nAfter reviewing the previous phase discussions, I see all agents have correctly identified that the actual scientific paper was not provided. To build upon my colleagues\\' insights, I\\'ll synthesize and enhance our collective approach to scientific paper analysis:\\\\n\\\\n## Enhanced Analytical Framework\\\\n\\\\n1. **Consolidated Research Context**:\\\\n   - Identify the research question and hypotheses\\\\n   - Place the study within its broader scientific discourse\\\\n   - Examine how it builds upon or challenges previous research\\\\n\\\\n2. **Methodological Rigor Assessment**:\\\\n   - Evaluate research design appropriateness for the questions posed\\\\n   - Assess statistical power and sample selection methodology\\\\n   - Consider validity of control mechanisms and variables\\\\n\\\\n3. **Results Integration**:\\\\n   - Connect statistical findings to practical significance\\\\n   - Identify patterns across multiple results\\\\n   - Highlight unexpected or counterintuitive findings\\\\n\\\\n4. **Synthesis of Limitations**:\\\\n   - Categorize limitations (methodological, contextual, analytical)\\\\n   - Assess how limitations might affect interpretation of findings\\\\n   - Suggest potential remedies for identified limitations\\\\n\\\\nOnce we receive the actual paper, this comprehensive framework will allow us to collaboratively identify and contextualize the key findings in a systematic manner that builds upon our collective expertise.\\\\n\\\\nMetrics: Event Loop Metrics Summary:\\\\n\\\\u251c\\\\u2500 Cycles: total=1, avg_time=11.689s, total_time=11.689s\\\\n\\\\u251c\\\\u2500 Tokens: in=2485, out=283, total=2768\\\\n\\\\u251c\\\\u2500 Bedrock Latency: 11671ms\\\\n\\\\u251c\\\\u2500 Tool Usage:\\\\n\\\\u251c\\\\u2500 Execution Trace:\\\\n   \\\\u2514\\\\u2500 None - Duration: 11.6892s\\\\n      \\\\u2514\\\\u2500 None - Duration: 11.6889s\",\\n    \"phase\": 1,\\n    \"timestamp\": 1750867987.5807831\\n  },\\n  {\\n    \"id\": \"28c1a94c-c8a7-49a0-be57-6467ecdea2ed\",\\n    \"agent_id\": \"agent_4\",\\n    \"content\": \"Response: # Scientific Paper Analysis - Initial Framework\\\\n\\\\nBased on our collective understanding from Phase 0, it\\'s evident that we need the scientific paper to provide a detailed analysis. Since we don\\'t have the paper yet, I\\'ll build upon our combined approaches to create a comprehensive analytical framework that we can apply once the paper is provided:\\\\n\\\\n## Enhanced Analytical Framework\\\\n\\\\n1. **Research Context and Significance**\\\\n   - Positioning within the broader scientific literature\\\\n   - Novelty and potential impact of the research question\\\\n\\\\n2. **Methodological Rigor Assessment**\\\\n   - Appropriateness of study design for research questions\\\\n   - Statistical power and sample selection considerations\\\\n   - Reproducibility factors and methodological innovations\\\\n\\\\n3. **Results Interpretation**\\\\n   - Statistical vs. practical significance distinction\\\\n   - Unexpected or contradictory findings\\\\n   - Comparison with previous research outcomes\\\\n\\\\n4. **Interdisciplinary Implications**\\\\n   - Cross-domain applications of the findings\\\\n   - Integration with existing theoretical frameworks\\\\n\\\\n5. **Future Research Pathways**\\\\n   - Identification of new research questions emerging from findings\\\\n   - Methodological improvements for future studies\\\\n\\\\nThis framework synthesizes the approaches suggested by all agents and will allow for a systematic and comprehensive analysis once we receive the scientific paper.\\\\n\\\\nMetrics: Event Loop Metrics Summary:\\\\n\\\\u251c\\\\u2500 Cycles: total=1, avg_time=21.645s, total_time=21.645s\\\\n\\\\u251c\\\\u2500 Tokens: in=2485, out=276, total=2761\\\\n\\\\u251c\\\\u2500 Bedrock Latency: 10369ms\\\\n\\\\u251c\\\\u2500 Tool Usage:\\\\n\\\\u251c\\\\u2500 Execution Trace:\\\\n   \\\\u2514\\\\u2500 None - Duration: 21.6453s\\\\n      \\\\u2514\\\\u2500 None - Duration: 21.6451s\",\\n    \"phase\": 1,\\n    \"timestamp\": 1750867997.565536\\n  },\\n  {\\n    \"id\": \"3d46e8b3-3596-4b37-8fc8-92c1551974b6\",\\n    \"agent_id\": \"agent_5\",\\n    \"content\": \"Response: # Analysis Framework for Scientific Papers\\\\n\\\\nBuilding on the observations from my fellow agents in the previous phase, I can see we\\'re facing a common challenge: we haven\\'t been provided with the actual scientific paper to analyze. \\\\n\\\\nTo move this collaboration forward constructively, I\\'ll synthesize the frameworks proposed by other agents and add unique elements that would enhance our collective analysis once we receive the paper:\\\\n\\\\n## Enhanced Collaborative Analysis Framework\\\\n\\\\n1. **Context and Positioning**\\\\n   - Historical context of the research question\\\\n   - How the paper fits within the current scientific discourse\\\\n   - Novelty assessment compared to previous work\\\\n\\\\n2. **Methodological Rigor Assessment**\\\\n   - Appropriateness of methods for the research question\\\\n   - Statistical power analysis and sample justification\\\\n   - Reproducibility considerations and open science practices\\\\n\\\\n3. **Findings Interpretation Layer**\\\\n   - Primary vs. secondary findings differentiation\\\\n   - Effect sizes and practical significance (beyond statistical significance)\\\\n   - Unexpected or contradictory results analysis\\\\n\\\\n4. **Cross-disciplinary Implications**\\\\n   - How findings might impact adjacent fields\\\\n   - Potential for interdisciplinary applications\\\\n\\\\n5. **Future Research Roadmap**\\\\n   - Specific questions that emerge from the findings\\\\n   - Methodological improvements for future studies\\\\n\\\\nOnce we receive the actual paper, our collaborative approach would allow us to analyze it from multiple perspectives simultaneously, creating a more comprehensive understanding than any single analysis could provide.\\\\n\\\\nMetrics: Event Loop Metrics Summary:\\\\n\\\\u251c\\\\u2500 Cycles: total=1, avg_time=39.212s, total_time=39.212s\\\\n\\\\u251c\\\\u2500 Tokens: in=2485, out=315, total=2800\\\\n\\\\u251c\\\\u2500 Bedrock Latency: 16122ms\\\\n\\\\u251c\\\\u2500 Tool Usage:\\\\n\\\\u251c\\\\u2500 Execution Trace:\\\\n   \\\\u2514\\\\u2500 None - Duration: 39.2121s\\\\n      \\\\u2514\\\\u2500 None - Duration: 39.2119s\",\\n    \"phase\": 1,\\n    \"timestamp\": 1750868015.1378522\\n  },\\n  {\\n    \"id\": \"473719a3-660e-4fc2-b339-2adb540be3a2\",\\n    \"agent_id\": \"agent_3\",\\n    \"content\": \"Response: # Building a Collaborative Analysis Framework\\\\n\\\\nBased on the previous phase, I notice all agents have highlighted that we\\'re missing the actual scientific paper to analyze. Building upon our collective insights, I can contribute to our collaborative framework by synthesizing our approaches:\\\\n\\\\n## Enhanced Collaborative Analysis Structure\\\\n\\\\n1. **Context and Background**\\\\n   - Situate the paper within its field\\\\n   - Identify key prior research it builds upon\\\\n   - Understand the knowledge gap being addressed\\\\n\\\\n2. **Methodological Rigor Assessment**\\\\n   - Evaluate study design appropriateness for research questions\\\\n   - Assess sample selection and statistical power\\\\n   - Examine measurement validity and reliability\\\\n\\\\n3. **Results Interpretation**\\\\n   - Connect statistical findings to research hypotheses\\\\n   - Distinguish between correlation and causation where applicable\\\\n   - Identify patterns across multiple results\\\\n\\\\n4. **Cross-disciplinary Implications**\\\\n   - Consider how findings might impact adjacent fields\\\\n   - Identify potential for interdisciplinary applications\\\\n\\\\nTo proceed effectively, we need the actual paper content. Once provided, I\\'ll build upon insights from other agents to help create a comprehensive, multi-perspective analysis of the key findings.\\\\n\\\\nMetrics: Event Loop Metrics Summary:\\\\n\\\\u251c\\\\u2500 Cycles: total=1, avg_time=41.203s, total_time=41.203s\\\\n\\\\u251c\\\\u2500 Tokens: in=2485, out=253, total=2738\\\\n\\\\u251c\\\\u2500 Bedrock Latency: 9192ms\\\\n\\\\u251c\\\\u2500 Tool Usage:\\\\n\\\\u251c\\\\u2500 Execution Trace:\\\\n   \\\\u2514\\\\u2500 None - Duration: 41.2029s\\\\n      \\\\u2514\\\\u2500 None - Duration: 41.2027s\",\\n    \"phase\": 1,\\n    \"timestamp\": 1750868017.1166685\\n  }\\n]'}]"
      ]
     },
     "execution_count": 5,
     "metadata": {},
     "output_type": "execute_result"
    }
   ],
   "source": [
    "result[\"content\"][2:]"
   ]
  },
  {
   "cell_type": "markdown",
   "metadata": {},
   "source": [
    "How about scenarios where you need Competitiveness?  "
   ]
  },
  {
   "cell_type": "code",
   "execution_count": null,
   "metadata": {},
   "outputs": [],
   "source": [
    "result = agent.tool.swarm(\n",
    "    task=\"Analyze this scientific paper and identify key findings\",\n",
    "    swarm_size=5,\n",
    "    coordination_pattern=\"competitive\",\n",
    ")"
   ]
  },
  {
   "cell_type": "code",
   "execution_count": null,
   "metadata": {},
   "outputs": [],
   "source": [
    "result[\"content\"][2:]"
   ]
  },
  {
   "cell_type": "markdown",
   "metadata": {},
   "source": [
    "The swarm implements different collaboration strategies through specialized agent roles:\n",
    "\n",
    "- Collaborative Pattern: Agents build upon others' insights and seek consensus\n",
    "- Competitive Pattern: Agents develop independent solutions and unique perspectives"
   ]
  },
  {
   "cell_type": "markdown",
   "metadata": {
    "vscode": {
     "languageId": "markdown"
    }
   },
   "source": [
    "### 1.2 Natural Language Invocation"
   ]
  },
  {
   "cell_type": "code",
   "execution_count": null,
   "metadata": {},
   "outputs": [],
   "source": [
    "# During initialization\n",
    "agent = Agent(tools=[swarm])\n",
    "\n",
    "# Invocation through natural language\n",
    "result = str(agent(\n",
    "    \"Use a swarm of 4 agents to analyze the current market trend for generative ai based agents.\"\n",
    "))"
   ]
  },
  {
   "cell_type": "code",
   "execution_count": null,
   "metadata": {},
   "outputs": [],
   "source": [
    "print(result)"
   ]
  },
  {
   "cell_type": "markdown",
   "metadata": {},
   "source": [
    "The swarm tool implements a SharedMemory system that serves as a central knowledge repository for all agents in the swarm. This system maintains a thread-safe store where agents can record their contributions with metadata (including agent ID, content, phase, and timestamp). It tracks processing phases, allowing agents to retrieve only current-phase knowledge or access historical information. This shared memory architecture enables concurrent collaboration, maintains contribution history, and ensures smooth information flow between agents—all essential features for effective collective intelligence in a swarm.\n",
    "\n",
    "The full implementation of the swarm tool can be found in the [Strands Tools repository](https://github.com/strands-agents/tools/blob/main/src/strands_tools/swarm.py).\n",
    "\n",
    "Key Parameters\n",
    "- task: The main task to be processed by the swarm\n",
    "- swarm_size: Number of agents in the swarm (1-10)\n",
    "- coordination_pattern: How agents should coordinate\n",
    "  - collaborative: Agents build upon others' insights\n",
    "  - competitive: Agents develop independent solutions\n",
    "- hybrid: Balances cooperation with independent exploration\n",
    "\n",
    "How the Swarm Tool Works\n",
    "1. *Initialization*: Creates a swarm with shared memory and specialized agents\n",
    "2. *Phase Processing*: Agents work in parallel using ThreadPoolExecutor\n",
    "3. *Knowledge Sharing*: Agents store and retrieve information from shared memory\n",
    "4. *Result Collection*: Results from all agents are aggregated and presented\n"
   ]
  },
  {
   "cell_type": "markdown",
   "metadata": {},
   "source": [
    "## 2. Creating a Swarm with Strands Agents"
   ]
  },
  {
   "cell_type": "markdown",
   "metadata": {},
   "source": [
    "Strands Agents SDK allows you to create swarms using existing Agent objects, even when they use different model providers or have different configurations. While various communication architectures are possible (hierarchical, parallel, sequential, and mesh), the following example demonstrates a mesh architecture implementation, which provides a flexible foundation for agent-to-agent communication.\n",
    "\n",
    "### 2.1 Mesh Swarm Architecture"
   ]
  },
  {
   "cell_type": "markdown",
   "metadata": {},
   "source": [
    "<p align=\"center\">\n",
    "    <img src=\"./images/swarm_example.png\">\n",
    "</p>"
   ]
  },
  {
   "cell_type": "markdown",
   "metadata": {},
   "source": [
    "In a mesh architecture, all agents can communicate directly with each other. The following example demonstrates a swarm of specialized agents using mesh communication to solve problems collaboratively:"
   ]
  },
  {
   "cell_type": "code",
   "execution_count": 6,
   "metadata": {},
   "outputs": [],
   "source": [
    "# Create specialized agents with different expertise\n",
    "research_agent = Agent(system_prompt=(\"\"\"You are a Research Agent specializing in gathering and analyzing information.\n",
    "Your role in the swarm is to provide factual information and research insights on the topic.\n",
    "You should focus on providing accurate data and identifying key aspects of the problem.\n",
    "When receiving input from other agents, evaluate if their information aligns with your research.\n",
    "\"\"\"), \n",
    "callback_handler=None)\n",
    "\n",
    "creative_agent = Agent(system_prompt=(\"\"\"You are a Creative Agent specializing in generating innovative solutions.\n",
    "Your role in the swarm is to think outside the box and propose creative approaches.\n",
    "You should build upon information from other agents while adding your unique creative perspective.\n",
    "Focus on novel approaches that others might not have considered.\n",
    "\"\"\"), \n",
    "callback_handler=None)\n",
    "\n",
    "critical_agent = Agent(system_prompt=(\"\"\"You are a Critical Agent specializing in analyzing proposals and finding flaws.\n",
    "Your role in the swarm is to evaluate solutions proposed by other agents and identify potential issues.\n",
    "You should carefully examine proposed solutions, find weaknesses or oversights, and suggest improvements.\n",
    "Be constructive in your criticism while ensuring the final solution is robust.\n",
    "\"\"\"), \n",
    "callback_handler=None)\n",
    "\n",
    "summarizer_agent = Agent(system_prompt=\"\"\"You are a Summarizer Agent specializing in synthesizing information.\n",
    "Your role in the swarm is to gather insights from all agents and create a cohesive final solution.\n",
    "You should combine the best ideas and address the criticisms to create a comprehensive response.\n",
    "Focus on creating a clear, actionable summary that addresses the original query effectively.\n",
    "\"\"\")"
   ]
  },
  {
   "cell_type": "markdown",
   "metadata": {},
   "source": [
    "The mesh communication is implemented using a dictionary to track messages between agents:"
   ]
  },
  {
   "cell_type": "code",
   "execution_count": 7,
   "metadata": {},
   "outputs": [],
   "source": [
    "# Dictionary to track messages between agents (mesh communication)\n",
    "messages = {\n",
    "    \"research\": [],\n",
    "    \"creative\": [],\n",
    "    \"critical\": [],\n",
    "    \"summarizer\": []\n",
    "}"
   ]
  },
  {
   "cell_type": "markdown",
   "metadata": {},
   "source": [
    "The swarm operates in multiple phases, with each agent first analyzing the problem independently:"
   ]
  },
  {
   "cell_type": "code",
   "execution_count": 8,
   "metadata": {},
   "outputs": [],
   "source": [
    "query = \"Generative Ai\""
   ]
  },
  {
   "cell_type": "code",
   "execution_count": 9,
   "metadata": {},
   "outputs": [],
   "source": [
    "# Phase 1: Initial analysis by each specialized agent\n",
    "research_result = research_agent(query)\n",
    "time.sleep(30)\n",
    "creative_result = creative_agent(query)\n",
    "time.sleep(30)\n",
    "critical_result = critical_agent(query)"
   ]
  },
  {
   "cell_type": "markdown",
   "metadata": {},
   "source": [
    "After the initial analysis, results are shared with all other agents (mesh communication):"
   ]
  },
  {
   "cell_type": "code",
   "execution_count": 10,
   "metadata": {},
   "outputs": [],
   "source": [
    "# Share results with all other agents (mesh communication)\n",
    "messages[\"creative\"].append(f\"From Research Agent: {research_result}\")\n",
    "messages[\"critical\"].append(f\"From Research Agent: {research_result}\")\n",
    "messages[\"summarizer\"].append(f\"From Research Agent: {research_result}\")\n",
    "\n",
    "messages[\"research\"].append(f\"From Creative Agent: {creative_result}\")\n",
    "messages[\"critical\"].append(f\"From Creative Agent: {creative_result}\")\n",
    "messages[\"summarizer\"].append(f\"From Creative Agent: {creative_result}\")\n",
    "\n",
    "messages[\"research\"].append(f\"From Critical Agent: {critical_result}\")\n",
    "messages[\"creative\"].append(f\"From Critical Agent: {critical_result}\")\n",
    "messages[\"summarizer\"].append(f\"From Critical Agent: {critical_result}\")"
   ]
  },
  {
   "cell_type": "markdown",
   "metadata": {},
   "source": [
    "In the second phase, each agent refines their solution based on input from all other agents:"
   ]
  },
  {
   "cell_type": "code",
   "execution_count": 11,
   "metadata": {},
   "outputs": [],
   "source": [
    "# Phase 2: Each agent refines based on input from others\n",
    "research_prompt = f\"{query}\\n\\nConsider these messages from other agents:\\n\" + \"\\n\\n\".join(messages[\"research\"])\n",
    "creative_prompt = f\"{query}\\n\\nConsider these messages from other agents:\\n\" + \"\\n\\n\".join(messages[\"creative\"])\n",
    "critical_prompt = f\"{query}\\n\\nConsider these messages from other agents:\\n\" + \"\\n\\n\".join(messages[\"critical\"])\n",
    "\n",
    "refined_research = research_agent(research_prompt)\n",
    "\n",
    "time.sleep(30)\n",
    "\n",
    "refined_creative = creative_agent(creative_prompt)\n",
    "\n",
    "time.sleep(30)\n",
    "\n",
    "refined_critical = critical_agent(critical_prompt)\n",
    "\n",
    "# Share refined results with summarizer\n",
    "messages[\"summarizer\"].append(f\"From Research Agent (Phase 2): {refined_research}\")\n",
    "messages[\"summarizer\"].append(f\"From Creative Agent (Phase 2): {refined_creative}\")\n",
    "messages[\"summarizer\"].append(f\"From Critical Agent (Phase 2): {refined_critical}\")"
   ]
  },
  {
   "cell_type": "markdown",
   "metadata": {},
   "source": [
    "Finally, the summarizer agent synthesizes all inputs into a comprehensive solution:"
   ]
  },
  {
   "cell_type": "code",
   "execution_count": 12,
   "metadata": {},
   "outputs": [
    {
     "name": "stdout",
     "output_type": "stream",
     "text": [
      "# Comprehensive Guide to Generative AI\n",
      "\n",
      "## Understanding Generative AI\n",
      "\n",
      "Generative AI encompasses artificial intelligence systems designed to create new content across multiple modalities—text, images, audio, video, and code—that resembles human-created content. Unlike discriminative AI (which classifies or predicts based on existing data), generative AI constructs novel outputs based on patterns learned during training.\n",
      "\n",
      "### Core Technologies\n",
      "\n",
      "1. **Foundation Models**: Large-scale systems trained on vast datasets that serve as versatile bases for various applications\n",
      "2. **Transformer Architecture**: The breakthrough design enabling efficient processing of sequential data\n",
      "3. **Diffusion Models**: Particularly effective for high-quality image generation\n",
      "4. **Large Language Models (LLMs)**: Specialized in understanding and generating human language\n",
      "\n",
      "### Major Systems by Domain\n",
      "\n",
      "- **Text**: GPT-4, Claude, LLaMA, Gemini\n",
      "- **Images**: DALL-E, Midjourney, Stable Diffusion\n",
      "- **Audio/Music**: MusicLM, Suno, AudioGen\n",
      "- **Video**: Sora, Gen-2, Runway\n",
      "- **Code**: GitHub Copilot, CodeLlama, DeepSeek Coder\n",
      "\n",
      "## Current Landscape and Impact\n",
      "\n",
      "The generative AI market reached approximately $13.9 billion in 2023 and is projected to grow to $66.6 billion by 2028 (CAGR of 36.8%), reflecting extraordinary investment and adoption across industries.\n",
      "\n",
      "### Business Applications\n",
      "\n",
      "- Content creation tools generating significant revenue ($100M+ ARR for platforms like Jasper)\n",
      "- Software development productivity gains of 30-40% with code generation tools\n",
      "- Enterprise adoption accelerating, with 35% of organizations reporting production use\n",
      "\n",
      "### Technical Challenges\n",
      "\n",
      "- **Hallucinations and factual accuracy**: Models often generate plausible-sounding but incorrect information\n",
      "- **Computational efficiency**: Training and running these systems requires significant resources\n",
      "- **Data quality**: Models reflect biases and limitations in their training data\n",
      "- **Domain adaptation**: Customizing general models for specialized applications\n",
      "\n",
      "## Future Directions and Possibilities\n",
      "\n",
      "### Emerging Applications\n",
      "\n",
      "1. **Healthcare and Life Sciences**\n",
      "   - Drug discovery acceleration (10x faster candidate identification)\n",
      "   - Personalized treatment planning\n",
      "   - Medical imaging analysis and enhancement\n",
      "\n",
      "2. **Creative Industries**\n",
      "   - Collaborative human-AI design processes\n",
      "   - Dynamic content that evolves based on audience interaction\n",
      "   - Cross-modal translation (converting experiences between different senses)\n",
      "\n",
      "3. **Environmental and Urban Planning**\n",
      "   - Adaptive architecture responding to environmental conditions\n",
      "   - Sustainable materials design through AI-biology collaboration\n",
      "   - Climate modeling and mitigation strategy generation\n",
      "\n",
      "### Transformative Potential\n",
      "\n",
      "- **Collective Intelligence**: Systems that amplify group creativity and problem-solving\n",
      "- **Personalized Learning**: Education tailored to individual learning styles and paces\n",
      "- **Knowledge Accessibility**: Breaking down barriers to specialized expertise\n",
      "\n",
      "## Critical Considerations\n",
      "\n",
      "### Ethical and Societal Challenges\n",
      "\n",
      "1. **Content Authenticity**\n",
      "   - Misinformation and deepfake concerns\n",
      "   - Attribution and provenance tracking\n",
      "   - Copyright and intellectual property questions\n",
      "\n",
      "2. **Economic Impact**\n",
      "   - Job transformation versus displacement\n",
      "   - Industry disruption and new skill requirements\n",
      "   - Potential for economic concentration and inequality\n",
      "\n",
      "3. **Environmental Considerations**\n",
      "   - Training a single large model can produce 300+ tons of CO₂ emissions\n",
      "   - Resource requirements may limit accessibility\n",
      "\n",
      "### Implementation Realities\n",
      "\n",
      "1. **Integration Challenges**\n",
      "   - Compatibility with existing workflows and systems\n",
      "   - Training requirements for effective deployment\n",
      "   - Quality assurance and reliability concerns\n",
      "\n",
      "2. **Governance Gaps**\n",
      "   - Emerging regulatory frameworks (EU AI Act, etc.)\n",
      "   - Inconsistent global standards\n",
      "   - Rapid technological advancement outpacing policy\n",
      "\n",
      "## Balanced Path Forward\n",
      "\n",
      "The most promising approach to generative AI involves:\n",
      "\n",
      "1. **Human-AI Collaboration** rather than replacement, focusing on augmenting human capabilities\n",
      "2. **Responsible Development** addressing bias, accessibility, and environmental concerns\n",
      "3. **Domain-Specific Refinement** creating specialized systems for particular fields\n",
      "4. **Inclusive Design** ensuring benefits are widely distributed across society\n",
      "\n",
      "Generative AI represents not just a technological revolution but a fundamental shift in how we approach creativity, problem-solving, and knowledge work. By balancing innovation with critical assessment and ethical considerations, we can shape these technologies to enhance human potential while mitigating risks."
     ]
    }
   ],
   "source": [
    "# Final phase: Summarizer creates the final solution\n",
    "time.sleep(30)\n",
    "\n",
    "summarizer_prompt = f\"\"\"\n",
    "Original query: {query}\n",
    "\n",
    "Please synthesize the following inputs from all agents into a comprehensive final solution:\n",
    "\n",
    "{\"\\n\\n\".join(messages[\"summarizer\"])}\n",
    "\n",
    "Create a well-structured final answer that incorporates the research findings, \n",
    "creative ideas, and addresses the critical feedback.\n",
    "\"\"\"\n",
    "\n",
    "final_solution = str(summarizer_agent(summarizer_prompt))"
   ]
  },
  {
   "cell_type": "code",
   "execution_count": 13,
   "metadata": {},
   "outputs": [
    {
     "name": "stdout",
     "output_type": "stream",
     "text": [
      "# Comprehensive Guide to Generative AI\n",
      "\n",
      "## Understanding Generative AI\n",
      "\n",
      "Generative AI encompasses artificial intelligence systems designed to create new content across multiple modalities—text, images, audio, video, and code—that resembles human-created content. Unlike discriminative AI (which classifies or predicts based on existing data), generative AI constructs novel outputs based on patterns learned during training.\n",
      "\n",
      "### Core Technologies\n",
      "\n",
      "1. **Foundation Models**: Large-scale systems trained on vast datasets that serve as versatile bases for various applications\n",
      "2. **Transformer Architecture**: The breakthrough design enabling efficient processing of sequential data\n",
      "3. **Diffusion Models**: Particularly effective for high-quality image generation\n",
      "4. **Large Language Models (LLMs)**: Specialized in understanding and generating human language\n",
      "\n",
      "### Major Systems by Domain\n",
      "\n",
      "- **Text**: GPT-4, Claude, LLaMA, Gemini\n",
      "- **Images**: DALL-E, Midjourney, Stable Diffusion\n",
      "- **Audio/Music**: MusicLM, Suno, AudioGen\n",
      "- **Video**: Sora, Gen-2, Runway\n",
      "- **Code**: GitHub Copilot, CodeLlama, DeepSeek Coder\n",
      "\n",
      "## Current Landscape and Impact\n",
      "\n",
      "The generative AI market reached approximately $13.9 billion in 2023 and is projected to grow to $66.6 billion by 2028 (CAGR of 36.8%), reflecting extraordinary investment and adoption across industries.\n",
      "\n",
      "### Business Applications\n",
      "\n",
      "- Content creation tools generating significant revenue ($100M+ ARR for platforms like Jasper)\n",
      "- Software development productivity gains of 30-40% with code generation tools\n",
      "- Enterprise adoption accelerating, with 35% of organizations reporting production use\n",
      "\n",
      "### Technical Challenges\n",
      "\n",
      "- **Hallucinations and factual accuracy**: Models often generate plausible-sounding but incorrect information\n",
      "- **Computational efficiency**: Training and running these systems requires significant resources\n",
      "- **Data quality**: Models reflect biases and limitations in their training data\n",
      "- **Domain adaptation**: Customizing general models for specialized applications\n",
      "\n",
      "## Future Directions and Possibilities\n",
      "\n",
      "### Emerging Applications\n",
      "\n",
      "1. **Healthcare and Life Sciences**\n",
      "   - Drug discovery acceleration (10x faster candidate identification)\n",
      "   - Personalized treatment planning\n",
      "   - Medical imaging analysis and enhancement\n",
      "\n",
      "2. **Creative Industries**\n",
      "   - Collaborative human-AI design processes\n",
      "   - Dynamic content that evolves based on audience interaction\n",
      "   - Cross-modal translation (converting experiences between different senses)\n",
      "\n",
      "3. **Environmental and Urban Planning**\n",
      "   - Adaptive architecture responding to environmental conditions\n",
      "   - Sustainable materials design through AI-biology collaboration\n",
      "   - Climate modeling and mitigation strategy generation\n",
      "\n",
      "### Transformative Potential\n",
      "\n",
      "- **Collective Intelligence**: Systems that amplify group creativity and problem-solving\n",
      "- **Personalized Learning**: Education tailored to individual learning styles and paces\n",
      "- **Knowledge Accessibility**: Breaking down barriers to specialized expertise\n",
      "\n",
      "## Critical Considerations\n",
      "\n",
      "### Ethical and Societal Challenges\n",
      "\n",
      "1. **Content Authenticity**\n",
      "   - Misinformation and deepfake concerns\n",
      "   - Attribution and provenance tracking\n",
      "   - Copyright and intellectual property questions\n",
      "\n",
      "2. **Economic Impact**\n",
      "   - Job transformation versus displacement\n",
      "   - Industry disruption and new skill requirements\n",
      "   - Potential for economic concentration and inequality\n",
      "\n",
      "3. **Environmental Considerations**\n",
      "   - Training a single large model can produce 300+ tons of CO₂ emissions\n",
      "   - Resource requirements may limit accessibility\n",
      "\n",
      "### Implementation Realities\n",
      "\n",
      "1. **Integration Challenges**\n",
      "   - Compatibility with existing workflows and systems\n",
      "   - Training requirements for effective deployment\n",
      "   - Quality assurance and reliability concerns\n",
      "\n",
      "2. **Governance Gaps**\n",
      "   - Emerging regulatory frameworks (EU AI Act, etc.)\n",
      "   - Inconsistent global standards\n",
      "   - Rapid technological advancement outpacing policy\n",
      "\n",
      "## Balanced Path Forward\n",
      "\n",
      "The most promising approach to generative AI involves:\n",
      "\n",
      "1. **Human-AI Collaboration** rather than replacement, focusing on augmenting human capabilities\n",
      "2. **Responsible Development** addressing bias, accessibility, and environmental concerns\n",
      "3. **Domain-Specific Refinement** creating specialized systems for particular fields\n",
      "4. **Inclusive Design** ensuring benefits are widely distributed across society\n",
      "\n",
      "Generative AI represents not just a technological revolution but a fundamental shift in how we approach creativity, problem-solving, and knowledge work. By balancing innovation with critical assessment and ethical considerations, we can shape these technologies to enhance human potential while mitigating risks.\n",
      "\n"
     ]
    }
   ],
   "source": [
    "print(final_solution)"
   ]
  },
  {
   "cell_type": "markdown",
   "metadata": {},
   "source": [
    "This mesh architecture enables direct communication between all agents, allowing each agent to share insights with every other agent. The specialized roles (research, creative, critical, and summarizer) work together to produce a comprehensive solution that benefits from multiple perspectives and iterative refinement."
   ]
  },
  {
   "cell_type": "markdown",
   "metadata": {},
   "source": [
    "### 2.2 Implementing Shared Memory"
   ]
  },
  {
   "cell_type": "markdown",
   "metadata": {},
   "source": [
    "While the mesh communication example effectively demonstrates agent collaboration, a shared memory system would enhance the swarm's capabilities by providing:\n",
    "\n",
    "- A centralized knowledge repository for all agents\n",
    "- Automated phase tracking and historical knowledge preservation\n",
    "- Thread-safe concurrent access for improved efficiency\n",
    "- Persistent storage of insights across multiple interactions\n",
    "\n",
    "Extending our mesh swarm example with shared memory would replace the message dictionary with a SharedMemory instance, simplifying the code while enabling more sophisticated knowledge management."
   ]
  },
  {
   "cell_type": "markdown",
   "metadata": {},
   "source": [
    "## When to use Swarm:\n",
    "\n",
    "- For quick, parallel processing of a single complex task\n",
    "- When you need multiple perspectives on the same problem\n",
    "- For tasks that benefit from collective intelligence\n",
    "\n",
    "## Conclusion\n",
    "\n",
    "Multi-agent swarms solve complex problems through collective intelligence. The Strands Agents SDK supports both custom implementations and a built-in swarm tool with shared memory. By distributing tasks across specialized agents and enabling effective communication, swarms achieve better results than single agents working alone. Whether using mesh communication patterns or the swarm tool, developers can create systems where multiple agents work together with defined roles, coordination mechanisms, and knowledge sharing.\n",
    "\n"
   ]
  }
 ],
 "metadata": {
  "kernelspec": {
   "display_name": "Python 3 (ipykernel)",
   "language": "python",
   "name": "python3"
  },
  "language_info": {
   "codemirror_mode": {
    "name": "ipython",
    "version": 3
   },
   "file_extension": ".py",
   "mimetype": "text/x-python",
   "name": "python",
   "nbconvert_exporter": "python",
   "pygments_lexer": "ipython3",
   "version": "3.12.9"
  }
 },
 "nbformat": 4,
 "nbformat_minor": 4
}
